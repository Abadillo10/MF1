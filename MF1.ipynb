{
 "cells": [
  {
   "cell_type": "code",
   "execution_count": 5,
   "id": "df2ccd3e",
   "metadata": {},
   "outputs": [
    {
     "data": {
      "text/html": [
       "\n",
       "<script type=\"text/javascript\">\n",
       "  MathJax.Hub.Config({\n",
       "    tex2jax: {\n",
       "      inlineMath: [['$', '$'], ['\\(', '\\)']],\n",
       "      displayMath: [['$$', '$$'], ['\\[', '\\]']],\n",
       "      processEscapes: true\n",
       "    }\n",
       "  });\n",
       "  MathJax.Hub.Queue([\"Typeset\", MathJax.Hub]);\n",
       "</script>\n"
      ],
      "text/plain": [
       "<IPython.core.display.HTML object>"
      ]
     },
     "metadata": {},
     "output_type": "display_data"
    }
   ],
   "source": [
    "from IPython.display import display, HTML\n",
    "\n",
    "display(HTML(\"\"\"\n",
    "<script type=\"text/javascript\">\n",
    "  MathJax.Hub.Config({\n",
    "    tex2jax: {\n",
    "      inlineMath: [['$', '$'], ['\\\\(', '\\\\)']],\n",
    "      displayMath: [['$$', '$$'], ['\\\\[', '\\\\]']],\n",
    "      processEscapes: true\n",
    "    }\n",
    "  });\n",
    "  MathJax.Hub.Queue([\"Typeset\", MathJax.Hub]);\n",
    "</script>\n",
    "\"\"\"))\n"
   ]
  },
  {
   "cell_type": "markdown",
   "id": "61850765-a551-4919-8308-faae9358ff3b",
   "metadata": {},
   "source": [
    "\n",
    "# Mecánica de Fluidos\n",
    "\n",
    "Elaborado por: Anuar Badillo Olvera, Julián García Romero\n",
    "\n",
    "Tecnológico Nacional de México, campus Zacatecas Norte\n",
    "\n",
    "Clave de asignatura: EME-1020\n",
    "\n",
    "Carrera: Ingeniería Electromecánica\n",
    "\n",
    "---\n",
    "\n",
    "# Parte #1: Conceptos fundamentales y propiedades de fluidos\n",
    "\n",
    "\n",
    "## [Propiedades de fluidos](#concepto-de-fluidos)\n",
    "- [Concepto de fluidos](#concepto-de-fluidos)\n",
    "- [Densidad](#densidad)\n",
    "- [Peso Específico](#peso-especifico)\n",
    "- [Volumen Específico](#volumen-especifico)\n",
    "- [Gravedad específica](#gravedad-especifica)\n",
    "- [Viscosidad absoluta y viscosidad cinemática](#viscosidad-absoluta-y-viscosidad-cinematica)\n",
    "- [Fluido newtoniano y no newtoniano](#fluido-newtoniano-y-no-newtoniano)\n",
    "- [Modúlo volumétrico](#modulo-volumetrico)\n",
    "- [Tensión superficial](#tension-superficial)\n",
    "- [Presión](#presion)\n",
    "- [Flujo](#flujo)\n",
    "\n",
    "## [Hidrostática](#hidrostática)\n",
    "- [Ecuación fundamental de la hidrostática](#ecuacion-fundamental-de-la-hidrostatica)\n",
    "- [Fuerzas sobre superficies sumergidas: Planas y curvas](#fuerzas-sobre-superficies-sumergidas)\n",
    "- [Principio de Arquímedes: flotación y equilibrio](#principio-de-arquimedes)\n",
    "\n",
    "---\n",
    "\n",
    "## Concepto de fluidos y sus propiedades\n",
    "\n",
    "La mecánica es la rama más antigua de la física, y se ocupa tanto de los cuerpos en reposo como de aquellos en movimiento, bajo la influencia de fuerzas. Esta disciplina se divide en dos subcampos principales: la **estática**, que estudia los cuerpos en reposo, y la **dinámica**, que analiza los cuerpos en movimiento.\n",
    "\n",
    "Dentro de la mecánica, existe una subdisciplina denominada **mecánica de fluidos**, que se enfoca en el comportamiento de los fluidos, ya sea cuando están en reposo (*estática de fluidos*) o en movimiento (*dinámica de fluidos*). Además, se refiere a la interacción de estos fluidos con sólidos o con otros fluidos en las fronteras.\n",
    "\n",
    "La mecánica de fluidos también se puede considerar como **dinámica de fluidos**, dado que los fluidos en reposo se consideran un caso particular con velocidad cero.\n",
    "\n",
    "Desde una perspectiva física, la materia se clasifica comúnmente en tres estados: sólido, líquido y gas. Los líquidos y gases son considerados **fluidos**, sin embargo, en el contexto de la mecánica de fluidos, la materia solo se clasifica en dos estados: sólido y fluido. La diferencia fundamental radica en cómo ambos responden a un esfuerzo tangencial o cortante. Un **sólido** puede resistir este tipo de esfuerzo mediante una deformación estática, mientras que un **fluido** no puede hacerlo. Cualquier esfuerzo cortante, por pequeño que sea, hará que el fluido se mueva. Este movimiento y deformación continúan mientras el esfuerzo cortante se mantenga.\n",
    "\n",
    "En consecuencia, podemos concluir que un fluido en reposo debe estar en un estado de esfuerzo cortante nulo, lo que se conoce como la **condición hidrostática de esfuerzos** en análisis estructural. Bajo esta condición, el círculo de Mohr se reduce a un solo punto, lo que implica que no existe esfuerzo cortante en ningún plano que corte al elemento considerado.\n",
    "\n",
    "Algunas caracteristicas de los solidos, liquidos y gases desde un enfoque de la mecanicá de fluidos se resumen en la siguiente tabla:\n",
    "\n",
    "| Atributos                     | Sólido                            | Líquido                           | Gas                               |\n",
    "| ----------------------------- | ---------------------------------- | ---------------------------------- | --------------------------------- |\n",
    "| **Descripción microscópica**   | Los sólidos mantienen su forma; No hay necesidad para un contenedor | Toman la forma del contenedor y pueden estar en un contenedor abierto | Los gases se expanden hasta llenar el contenedor y pueden estar en un contenedor cerrado |\n",
    "| **Densidad típica**            | Alta, densidad del acero 7700 kg/m³ | Media, densidad del agua 1000 kg/m³ | Baja, densidad del aire al nivel del mar 1.2 kg/m³ |\n",
    "| **Efectos del esfuerzo cortante** | Produce deformación                | Produce flujo                      | Produce flujo                     |\n",
    "| **Efectos del esfuerzo normal** | Produce deformación que puede estar asociada a un cambio de volumen; puede causar fallas | Produce deformación que puede estar asociada a un cambio de volumen | Produce deformación que puede estar asociada a un cambio de volumen |\n",
    "| **Viscosidad**                 | NA                                 | Alta, disminuye cuando la temperatura incrementa | Baja, incrementa cuando la temperatura incrementa |\n",
    "| **Compresibilidad**            | Dificultada para comprimir, módulo de elasticidad de acero 160×10⁹ Pa | Difícil de comprimir, módulo de elasticidad del agua 2.2×10⁹ Pa | Fácil de comprimir, módulo de elasticidad del gas a condiciones ambientales 1×10⁵ Pa |\n",
    "\n",
    "\n",
    "\n",
    "\n",
    "### Fluido como medio continuo\n",
    "A pesar de las diferencias señaladas, una buena parte del comportamiento de sólidos y fluidos, sometidos a un sistema de fuerzas, es común a ambos, ya que si ene el análisis de su comportamiento se omite la naturaleza aleatoria de su distribución molecular, los solidos y los fluidos se pueden considerar medios que poseen continuidad en todas sus propiedades y ser estudiados bajo esta suposición, es decir, considerar una distribución continua de materia sin espacios vacíos. En aplicaciones propias de la ingeniería el centro de interés reside sobre condiciones medias de velocidad, presión, temperatura,  densidad, etc., por lo que tal suposición es normalmente justificable, aunado a lo anterior, el numero de moléculas consideradas en esta situación es muy grande  y la distribución entre ellas muy pequeña.\n",
    "\n",
    "| **Suposición del continuo**  | **Aplicación en ingeniería**                                            | **Limitaciones**                                                                 |\n",
    "|------------------------------|------------------------------------------------------------------------|---------------------------------------------------------------------------------|\n",
    "| Permite estudiar propiedades macroscópicas como velocidad, presión y temperatura. | Se enfoca en condiciones medias de las propiedades del fluido.             | No aplica a escalas muy pequeñas donde los efectos moleculares son significativos. |\n",
    "\n",
    "<div style=\"text-align: center;\">\n",
    "    <img src=\"img/solid-liquid-gas.gif\" width=\"400\">\n",
    "</div>\n",
    "\n",
    "### Densidad\n",
    "\n",
    "\n",
    "La densidad $\\rho $ representa la masa de fluido contenida en la unidad de volumen, en el sistema absoluto sus unidades son $[ML^{-3}]$ y puede expresarse como:\n",
    "\n",
    "\n",
    "$$\\rho = \\frac{m}{V},$$\n",
    "donde $m$ es la masa y $V$ es el volumen.\n",
    "\n",
    "### Peso específico\n",
    "\n",
    "Estrechamente relacionado con la densidad, el peso específico $\\gamma$ representa el peso por unidad de volumen con unidades $[ML^{-3}]$, ambas propiedades pueden ser relacionadas mediante la expresión:\n",
    "\n",
    "$$\n",
    "\\gamma = \\rho g,\n",
    "$$\n",
    "donde $g$ es la constante gravitacional con unidades en el sistema absoluto de $[LT^{-2}]$. Otra manera de cuantificar la densidad o peso específico de un líquido se hace refiriéndose a los correspondientes al agua, es decir:\n",
    "\n",
    "$$\n",
    "\\delta = \\dfrac{\\rho}{\\rho_{\\text{agua}}} = \\dfrac{\\gamma}{\\gamma_{\\text{agua}}},\n",
    "$$\n",
    "se conoce como densidad relativa y no tiene dimensiones. En algunos textos es también llamada gravedad específica y se hace referenciando al peso específico con el del agua a $4^{\\circ}$C, con un valor en el Sistema Internacional de Unidades (SI) de $9.80665 \\, [m/s^2]$, y en el Sistema Inglés de $32.174 \\, [ft/s^2]$.\n",
    "\n",
    "### Volumen específico\n",
    "\n",
    "Otro concepto utilizado es el volumen específico o volumen ocupado por unidad de masa, el cual es el recíproco de la densidad. Esto es:\n",
    "\n",
    "$$\n",
    "v = \\dfrac{V}{m} = \\dfrac{1}{\\rho}\n",
    "$$\n",
    "\n",
    "donde $v$ es el volumen específico con dimensiones en el sistema absoluto de $[L^{3}M^{-1}]$.\n"
   ]
  },
  {
   "cell_type": "code",
   "execution_count": 6,
   "id": "11ac1993",
   "metadata": {},
   "outputs": [
    {
     "data": {
      "application/vnd.plotly.v1+json": {
       "config": {
        "plotlyServerURL": "https://plot.ly"
       },
       "data": [
        {
         "line": {
          "color": "blue"
         },
         "mode": "lines+markers",
         "name": "Densidad (kg/m³)",
         "type": "scatter",
         "x": [
          0,
          1.0101010101010102,
          2.0202020202020203,
          3.0303030303030303,
          4.040404040404041,
          5.050505050505051,
          6.0606060606060606,
          7.070707070707071,
          8.080808080808081,
          9.090909090909092,
          10.101010101010102,
          11.111111111111112,
          12.121212121212121,
          13.131313131313131,
          14.141414141414142,
          15.151515151515152,
          16.161616161616163,
          17.171717171717173,
          18.181818181818183,
          19.191919191919194,
          20.202020202020204,
          21.212121212121215,
          22.222222222222225,
          23.232323232323235,
          24.242424242424242,
          25.252525252525253,
          26.262626262626263,
          27.272727272727273,
          28.282828282828284,
          29.292929292929294,
          30.303030303030305,
          31.313131313131315,
          32.323232323232325,
          33.333333333333336,
          34.343434343434346,
          35.35353535353536,
          36.36363636363637,
          37.37373737373738,
          38.38383838383839,
          39.3939393939394,
          40.40404040404041,
          41.41414141414142,
          42.42424242424243,
          43.43434343434344,
          44.44444444444445,
          45.45454545454546,
          46.46464646464647,
          47.47474747474748,
          48.484848484848484,
          49.494949494949495,
          50.505050505050505,
          51.515151515151516,
          52.525252525252526,
          53.535353535353536,
          54.54545454545455,
          55.55555555555556,
          56.56565656565657,
          57.57575757575758,
          58.58585858585859,
          59.5959595959596,
          60.60606060606061,
          61.61616161616162,
          62.62626262626263,
          63.63636363636364,
          64.64646464646465,
          65.65656565656566,
          66.66666666666667,
          67.67676767676768,
          68.68686868686869,
          69.6969696969697,
          70.70707070707071,
          71.71717171717172,
          72.72727272727273,
          73.73737373737374,
          74.74747474747475,
          75.75757575757576,
          76.76767676767678,
          77.77777777777779,
          78.7878787878788,
          79.7979797979798,
          80.80808080808082,
          81.81818181818183,
          82.82828282828284,
          83.83838383838385,
          84.84848484848486,
          85.85858585858587,
          86.86868686868688,
          87.87878787878789,
          88.8888888888889,
          89.89898989898991,
          90.90909090909092,
          91.91919191919193,
          92.92929292929294,
          93.93939393939395,
          94.94949494949496,
          95.95959595959597,
          96.96969696969697,
          97.97979797979798,
          98.98989898989899,
          100
         ],
         "y": [
          999.84,
          999.769292929293,
          999.698585858586,
          999.6278787878788,
          999.5571717171717,
          999.4864646464647,
          999.4157575757577,
          999.3450505050505,
          999.2743434343435,
          999.2036363636364,
          999.1329292929294,
          999.0622222222222,
          998.9915151515152,
          998.9208080808081,
          998.8501010101011,
          998.779393939394,
          998.7086868686869,
          998.6379797979798,
          998.5672727272728,
          998.4965656565657,
          998.4258585858586,
          998.3551515151515,
          998.2844444444445,
          998.2137373737374,
          998.1430303030303,
          998.0723232323232,
          998.0016161616162,
          997.9309090909092,
          997.860202020202,
          997.789494949495,
          997.7187878787879,
          997.6480808080809,
          997.5773737373738,
          997.5066666666667,
          997.4359595959596,
          997.3652525252526,
          997.2945454545455,
          997.2238383838384,
          997.1531313131313,
          997.0824242424243,
          997.0117171717172,
          996.9410101010101,
          996.870303030303,
          996.799595959596,
          996.728888888889,
          996.6581818181819,
          996.5874747474747,
          996.5167676767677,
          996.4460606060607,
          996.3753535353536,
          996.3046464646465,
          996.2339393939394,
          996.1632323232324,
          996.0925252525253,
          996.0218181818182,
          995.9511111111111,
          995.8804040404041,
          995.809696969697,
          995.73898989899,
          995.6682828282828,
          995.5975757575758,
          995.5268686868687,
          995.4561616161617,
          995.3854545454545,
          995.3147474747475,
          995.2440404040404,
          995.1733333333334,
          995.1026262626262,
          995.0319191919192,
          994.9612121212122,
          994.8905050505051,
          994.8197979797981,
          994.7490909090909,
          994.6783838383839,
          994.6076767676768,
          994.5369696969698,
          994.4662626262626,
          994.3955555555556,
          994.3248484848485,
          994.2541414141415,
          994.1834343434343,
          994.1127272727273,
          994.0420202020202,
          993.9713131313132,
          993.900606060606,
          993.829898989899,
          993.759191919192,
          993.6884848484849,
          993.6177777777779,
          993.5470707070707,
          993.4763636363637,
          993.4056565656566,
          993.3349494949496,
          993.2642424242424,
          993.1935353535354,
          993.1228282828283,
          993.0521212121213,
          992.9814141414141,
          992.9107070707071,
          992.84
         ],
         "yaxis": "y"
        },
        {
         "line": {
          "color": "red"
         },
         "mode": "lines+markers",
         "name": "Peso Específico (N/m³)",
         "type": "scatter",
         "x": [
          0,
          1.0101010101010102,
          2.0202020202020203,
          3.0303030303030303,
          4.040404040404041,
          5.050505050505051,
          6.0606060606060606,
          7.070707070707071,
          8.080808080808081,
          9.090909090909092,
          10.101010101010102,
          11.111111111111112,
          12.121212121212121,
          13.131313131313131,
          14.141414141414142,
          15.151515151515152,
          16.161616161616163,
          17.171717171717173,
          18.181818181818183,
          19.191919191919194,
          20.202020202020204,
          21.212121212121215,
          22.222222222222225,
          23.232323232323235,
          24.242424242424242,
          25.252525252525253,
          26.262626262626263,
          27.272727272727273,
          28.282828282828284,
          29.292929292929294,
          30.303030303030305,
          31.313131313131315,
          32.323232323232325,
          33.333333333333336,
          34.343434343434346,
          35.35353535353536,
          36.36363636363637,
          37.37373737373738,
          38.38383838383839,
          39.3939393939394,
          40.40404040404041,
          41.41414141414142,
          42.42424242424243,
          43.43434343434344,
          44.44444444444445,
          45.45454545454546,
          46.46464646464647,
          47.47474747474748,
          48.484848484848484,
          49.494949494949495,
          50.505050505050505,
          51.515151515151516,
          52.525252525252526,
          53.535353535353536,
          54.54545454545455,
          55.55555555555556,
          56.56565656565657,
          57.57575757575758,
          58.58585858585859,
          59.5959595959596,
          60.60606060606061,
          61.61616161616162,
          62.62626262626263,
          63.63636363636364,
          64.64646464646465,
          65.65656565656566,
          66.66666666666667,
          67.67676767676768,
          68.68686868686869,
          69.6969696969697,
          70.70707070707071,
          71.71717171717172,
          72.72727272727273,
          73.73737373737374,
          74.74747474747475,
          75.75757575757576,
          76.76767676767678,
          77.77777777777779,
          78.7878787878788,
          79.7979797979798,
          80.80808080808082,
          81.81818181818183,
          82.82828282828284,
          83.83838383838385,
          84.84848484848486,
          85.85858585858587,
          86.86868686868688,
          87.87878787878789,
          88.8888888888889,
          89.89898989898991,
          90.90909090909092,
          91.91919191919193,
          92.92929292929294,
          93.93939393939395,
          94.94949494949496,
          95.95959595959597,
          96.96969696969697,
          97.97979797979798,
          98.98989898989899,
          100
         ],
         "y": [
          9808.430400000001,
          9807.736763636365,
          9807.04312727273,
          9806.349490909091,
          9805.655854545455,
          9804.96221818182,
          9804.268581818184,
          9803.574945454546,
          9802.88130909091,
          9802.187672727274,
          9801.494036363638,
          9800.8004,
          9800.106763636364,
          9799.413127272728,
          9798.719490909092,
          9798.025854545456,
          9797.332218181818,
          9796.638581818183,
          9795.944945454547,
          9795.25130909091,
          9794.557672727273,
          9793.864036363637,
          9793.1704,
          9792.476763636365,
          9791.783127272727,
          9791.089490909091,
          9790.395854545455,
          9789.70221818182,
          9789.008581818181,
          9788.314945454546,
          9787.62130909091,
          9786.927672727274,
          9786.234036363638,
          9785.5404,
          9784.846763636364,
          9784.153127272728,
          9783.459490909092,
          9782.765854545454,
          9782.072218181818,
          9781.378581818182,
          9780.684945454546,
          9779.991309090909,
          9779.297672727273,
          9778.604036363637,
          9777.9104,
          9777.216763636365,
          9776.523127272727,
          9775.829490909091,
          9775.135854545455,
          9774.442218181819,
          9773.748581818183,
          9773.054945454545,
          9772.36130909091,
          9771.667672727273,
          9770.974036363637,
          9770.280400000001,
          9769.586763636364,
          9768.893127272728,
          9768.199490909092,
          9767.505854545456,
          9766.812218181818,
          9766.118581818182,
          9765.424945454546,
          9764.73130909091,
          9764.037672727274,
          9763.344036363636,
          9762.6504,
          9761.956763636364,
          9761.263127272729,
          9760.569490909093,
          9759.875854545455,
          9759.182218181819,
          9758.488581818183,
          9757.794945454547,
          9757.101309090911,
          9756.407672727273,
          9755.714036363637,
          9755.020400000001,
          9754.326763636365,
          9753.63312727273,
          9752.939490909092,
          9752.245854545456,
          9751.55221818182,
          9750.858581818184,
          9750.164945454546,
          9749.47130909091,
          9748.777672727274,
          9748.084036363638,
          9747.390400000002,
          9746.696763636364,
          9746.003127272728,
          9745.309490909092,
          9744.615854545456,
          9743.922218181819,
          9743.228581818183,
          9742.534945454547,
          9741.84130909091,
          9741.147672727273,
          9740.454036363637,
          9739.760400000001
         ],
         "yaxis": "y2"
        }
       ],
       "layout": {
        "template": {
         "data": {
          "bar": [
           {
            "error_x": {
             "color": "#f2f5fa"
            },
            "error_y": {
             "color": "#f2f5fa"
            },
            "marker": {
             "line": {
              "color": "rgb(17,17,17)",
              "width": 0.5
             },
             "pattern": {
              "fillmode": "overlay",
              "size": 10,
              "solidity": 0.2
             }
            },
            "type": "bar"
           }
          ],
          "barpolar": [
           {
            "marker": {
             "line": {
              "color": "rgb(17,17,17)",
              "width": 0.5
             },
             "pattern": {
              "fillmode": "overlay",
              "size": 10,
              "solidity": 0.2
             }
            },
            "type": "barpolar"
           }
          ],
          "carpet": [
           {
            "aaxis": {
             "endlinecolor": "#A2B1C6",
             "gridcolor": "#506784",
             "linecolor": "#506784",
             "minorgridcolor": "#506784",
             "startlinecolor": "#A2B1C6"
            },
            "baxis": {
             "endlinecolor": "#A2B1C6",
             "gridcolor": "#506784",
             "linecolor": "#506784",
             "minorgridcolor": "#506784",
             "startlinecolor": "#A2B1C6"
            },
            "type": "carpet"
           }
          ],
          "choropleth": [
           {
            "colorbar": {
             "outlinewidth": 0,
             "ticks": ""
            },
            "type": "choropleth"
           }
          ],
          "contour": [
           {
            "colorbar": {
             "outlinewidth": 0,
             "ticks": ""
            },
            "colorscale": [
             [
              0,
              "#0d0887"
             ],
             [
              0.1111111111111111,
              "#46039f"
             ],
             [
              0.2222222222222222,
              "#7201a8"
             ],
             [
              0.3333333333333333,
              "#9c179e"
             ],
             [
              0.4444444444444444,
              "#bd3786"
             ],
             [
              0.5555555555555556,
              "#d8576b"
             ],
             [
              0.6666666666666666,
              "#ed7953"
             ],
             [
              0.7777777777777778,
              "#fb9f3a"
             ],
             [
              0.8888888888888888,
              "#fdca26"
             ],
             [
              1,
              "#f0f921"
             ]
            ],
            "type": "contour"
           }
          ],
          "contourcarpet": [
           {
            "colorbar": {
             "outlinewidth": 0,
             "ticks": ""
            },
            "type": "contourcarpet"
           }
          ],
          "heatmap": [
           {
            "colorbar": {
             "outlinewidth": 0,
             "ticks": ""
            },
            "colorscale": [
             [
              0,
              "#0d0887"
             ],
             [
              0.1111111111111111,
              "#46039f"
             ],
             [
              0.2222222222222222,
              "#7201a8"
             ],
             [
              0.3333333333333333,
              "#9c179e"
             ],
             [
              0.4444444444444444,
              "#bd3786"
             ],
             [
              0.5555555555555556,
              "#d8576b"
             ],
             [
              0.6666666666666666,
              "#ed7953"
             ],
             [
              0.7777777777777778,
              "#fb9f3a"
             ],
             [
              0.8888888888888888,
              "#fdca26"
             ],
             [
              1,
              "#f0f921"
             ]
            ],
            "type": "heatmap"
           }
          ],
          "heatmapgl": [
           {
            "colorbar": {
             "outlinewidth": 0,
             "ticks": ""
            },
            "colorscale": [
             [
              0,
              "#0d0887"
             ],
             [
              0.1111111111111111,
              "#46039f"
             ],
             [
              0.2222222222222222,
              "#7201a8"
             ],
             [
              0.3333333333333333,
              "#9c179e"
             ],
             [
              0.4444444444444444,
              "#bd3786"
             ],
             [
              0.5555555555555556,
              "#d8576b"
             ],
             [
              0.6666666666666666,
              "#ed7953"
             ],
             [
              0.7777777777777778,
              "#fb9f3a"
             ],
             [
              0.8888888888888888,
              "#fdca26"
             ],
             [
              1,
              "#f0f921"
             ]
            ],
            "type": "heatmapgl"
           }
          ],
          "histogram": [
           {
            "marker": {
             "pattern": {
              "fillmode": "overlay",
              "size": 10,
              "solidity": 0.2
             }
            },
            "type": "histogram"
           }
          ],
          "histogram2d": [
           {
            "colorbar": {
             "outlinewidth": 0,
             "ticks": ""
            },
            "colorscale": [
             [
              0,
              "#0d0887"
             ],
             [
              0.1111111111111111,
              "#46039f"
             ],
             [
              0.2222222222222222,
              "#7201a8"
             ],
             [
              0.3333333333333333,
              "#9c179e"
             ],
             [
              0.4444444444444444,
              "#bd3786"
             ],
             [
              0.5555555555555556,
              "#d8576b"
             ],
             [
              0.6666666666666666,
              "#ed7953"
             ],
             [
              0.7777777777777778,
              "#fb9f3a"
             ],
             [
              0.8888888888888888,
              "#fdca26"
             ],
             [
              1,
              "#f0f921"
             ]
            ],
            "type": "histogram2d"
           }
          ],
          "histogram2dcontour": [
           {
            "colorbar": {
             "outlinewidth": 0,
             "ticks": ""
            },
            "colorscale": [
             [
              0,
              "#0d0887"
             ],
             [
              0.1111111111111111,
              "#46039f"
             ],
             [
              0.2222222222222222,
              "#7201a8"
             ],
             [
              0.3333333333333333,
              "#9c179e"
             ],
             [
              0.4444444444444444,
              "#bd3786"
             ],
             [
              0.5555555555555556,
              "#d8576b"
             ],
             [
              0.6666666666666666,
              "#ed7953"
             ],
             [
              0.7777777777777778,
              "#fb9f3a"
             ],
             [
              0.8888888888888888,
              "#fdca26"
             ],
             [
              1,
              "#f0f921"
             ]
            ],
            "type": "histogram2dcontour"
           }
          ],
          "mesh3d": [
           {
            "colorbar": {
             "outlinewidth": 0,
             "ticks": ""
            },
            "type": "mesh3d"
           }
          ],
          "parcoords": [
           {
            "line": {
             "colorbar": {
              "outlinewidth": 0,
              "ticks": ""
             }
            },
            "type": "parcoords"
           }
          ],
          "pie": [
           {
            "automargin": true,
            "type": "pie"
           }
          ],
          "scatter": [
           {
            "marker": {
             "line": {
              "color": "#283442"
             }
            },
            "type": "scatter"
           }
          ],
          "scatter3d": [
           {
            "line": {
             "colorbar": {
              "outlinewidth": 0,
              "ticks": ""
             }
            },
            "marker": {
             "colorbar": {
              "outlinewidth": 0,
              "ticks": ""
             }
            },
            "type": "scatter3d"
           }
          ],
          "scattercarpet": [
           {
            "marker": {
             "colorbar": {
              "outlinewidth": 0,
              "ticks": ""
             }
            },
            "type": "scattercarpet"
           }
          ],
          "scattergeo": [
           {
            "marker": {
             "colorbar": {
              "outlinewidth": 0,
              "ticks": ""
             }
            },
            "type": "scattergeo"
           }
          ],
          "scattergl": [
           {
            "marker": {
             "line": {
              "color": "#283442"
             }
            },
            "type": "scattergl"
           }
          ],
          "scattermapbox": [
           {
            "marker": {
             "colorbar": {
              "outlinewidth": 0,
              "ticks": ""
             }
            },
            "type": "scattermapbox"
           }
          ],
          "scatterpolar": [
           {
            "marker": {
             "colorbar": {
              "outlinewidth": 0,
              "ticks": ""
             }
            },
            "type": "scatterpolar"
           }
          ],
          "scatterpolargl": [
           {
            "marker": {
             "colorbar": {
              "outlinewidth": 0,
              "ticks": ""
             }
            },
            "type": "scatterpolargl"
           }
          ],
          "scatterternary": [
           {
            "marker": {
             "colorbar": {
              "outlinewidth": 0,
              "ticks": ""
             }
            },
            "type": "scatterternary"
           }
          ],
          "surface": [
           {
            "colorbar": {
             "outlinewidth": 0,
             "ticks": ""
            },
            "colorscale": [
             [
              0,
              "#0d0887"
             ],
             [
              0.1111111111111111,
              "#46039f"
             ],
             [
              0.2222222222222222,
              "#7201a8"
             ],
             [
              0.3333333333333333,
              "#9c179e"
             ],
             [
              0.4444444444444444,
              "#bd3786"
             ],
             [
              0.5555555555555556,
              "#d8576b"
             ],
             [
              0.6666666666666666,
              "#ed7953"
             ],
             [
              0.7777777777777778,
              "#fb9f3a"
             ],
             [
              0.8888888888888888,
              "#fdca26"
             ],
             [
              1,
              "#f0f921"
             ]
            ],
            "type": "surface"
           }
          ],
          "table": [
           {
            "cells": {
             "fill": {
              "color": "#506784"
             },
             "line": {
              "color": "rgb(17,17,17)"
             }
            },
            "header": {
             "fill": {
              "color": "#2a3f5f"
             },
             "line": {
              "color": "rgb(17,17,17)"
             }
            },
            "type": "table"
           }
          ]
         },
         "layout": {
          "annotationdefaults": {
           "arrowcolor": "#f2f5fa",
           "arrowhead": 0,
           "arrowwidth": 1
          },
          "autotypenumbers": "strict",
          "coloraxis": {
           "colorbar": {
            "outlinewidth": 0,
            "ticks": ""
           }
          },
          "colorscale": {
           "diverging": [
            [
             0,
             "#8e0152"
            ],
            [
             0.1,
             "#c51b7d"
            ],
            [
             0.2,
             "#de77ae"
            ],
            [
             0.3,
             "#f1b6da"
            ],
            [
             0.4,
             "#fde0ef"
            ],
            [
             0.5,
             "#f7f7f7"
            ],
            [
             0.6,
             "#e6f5d0"
            ],
            [
             0.7,
             "#b8e186"
            ],
            [
             0.8,
             "#7fbc41"
            ],
            [
             0.9,
             "#4d9221"
            ],
            [
             1,
             "#276419"
            ]
           ],
           "sequential": [
            [
             0,
             "#0d0887"
            ],
            [
             0.1111111111111111,
             "#46039f"
            ],
            [
             0.2222222222222222,
             "#7201a8"
            ],
            [
             0.3333333333333333,
             "#9c179e"
            ],
            [
             0.4444444444444444,
             "#bd3786"
            ],
            [
             0.5555555555555556,
             "#d8576b"
            ],
            [
             0.6666666666666666,
             "#ed7953"
            ],
            [
             0.7777777777777778,
             "#fb9f3a"
            ],
            [
             0.8888888888888888,
             "#fdca26"
            ],
            [
             1,
             "#f0f921"
            ]
           ],
           "sequentialminus": [
            [
             0,
             "#0d0887"
            ],
            [
             0.1111111111111111,
             "#46039f"
            ],
            [
             0.2222222222222222,
             "#7201a8"
            ],
            [
             0.3333333333333333,
             "#9c179e"
            ],
            [
             0.4444444444444444,
             "#bd3786"
            ],
            [
             0.5555555555555556,
             "#d8576b"
            ],
            [
             0.6666666666666666,
             "#ed7953"
            ],
            [
             0.7777777777777778,
             "#fb9f3a"
            ],
            [
             0.8888888888888888,
             "#fdca26"
            ],
            [
             1,
             "#f0f921"
            ]
           ]
          },
          "colorway": [
           "#636efa",
           "#EF553B",
           "#00cc96",
           "#ab63fa",
           "#FFA15A",
           "#19d3f3",
           "#FF6692",
           "#B6E880",
           "#FF97FF",
           "#FECB52"
          ],
          "font": {
           "color": "#f2f5fa"
          },
          "geo": {
           "bgcolor": "rgb(17,17,17)",
           "lakecolor": "rgb(17,17,17)",
           "landcolor": "rgb(17,17,17)",
           "showlakes": true,
           "showland": true,
           "subunitcolor": "#506784"
          },
          "hoverlabel": {
           "align": "left"
          },
          "hovermode": "closest",
          "mapbox": {
           "style": "dark"
          },
          "paper_bgcolor": "rgb(17,17,17)",
          "plot_bgcolor": "rgb(17,17,17)",
          "polar": {
           "angularaxis": {
            "gridcolor": "#506784",
            "linecolor": "#506784",
            "ticks": ""
           },
           "bgcolor": "rgb(17,17,17)",
           "radialaxis": {
            "gridcolor": "#506784",
            "linecolor": "#506784",
            "ticks": ""
           }
          },
          "scene": {
           "xaxis": {
            "backgroundcolor": "rgb(17,17,17)",
            "gridcolor": "#506784",
            "gridwidth": 2,
            "linecolor": "#506784",
            "showbackground": true,
            "ticks": "",
            "zerolinecolor": "#C8D4E3"
           },
           "yaxis": {
            "backgroundcolor": "rgb(17,17,17)",
            "gridcolor": "#506784",
            "gridwidth": 2,
            "linecolor": "#506784",
            "showbackground": true,
            "ticks": "",
            "zerolinecolor": "#C8D4E3"
           },
           "zaxis": {
            "backgroundcolor": "rgb(17,17,17)",
            "gridcolor": "#506784",
            "gridwidth": 2,
            "linecolor": "#506784",
            "showbackground": true,
            "ticks": "",
            "zerolinecolor": "#C8D4E3"
           }
          },
          "shapedefaults": {
           "line": {
            "color": "#f2f5fa"
           }
          },
          "sliderdefaults": {
           "bgcolor": "#C8D4E3",
           "bordercolor": "rgb(17,17,17)",
           "borderwidth": 1,
           "tickwidth": 0
          },
          "ternary": {
           "aaxis": {
            "gridcolor": "#506784",
            "linecolor": "#506784",
            "ticks": ""
           },
           "baxis": {
            "gridcolor": "#506784",
            "linecolor": "#506784",
            "ticks": ""
           },
           "bgcolor": "rgb(17,17,17)",
           "caxis": {
            "gridcolor": "#506784",
            "linecolor": "#506784",
            "ticks": ""
           }
          },
          "title": {
           "x": 0.05
          },
          "updatemenudefaults": {
           "bgcolor": "#506784",
           "borderwidth": 0
          },
          "xaxis": {
           "automargin": true,
           "gridcolor": "#283442",
           "linecolor": "#506784",
           "ticks": "",
           "title": {
            "standoff": 15
           },
           "zerolinecolor": "#283442",
           "zerolinewidth": 2
          },
          "yaxis": {
           "automargin": true,
           "gridcolor": "#283442",
           "linecolor": "#506784",
           "ticks": "",
           "title": {
            "standoff": 15
           },
           "zerolinecolor": "#283442",
           "zerolinewidth": 2
          }
         }
        },
        "title": {
         "text": "Densidad y Peso Específico del Agua vs. Temperatura"
        },
        "xaxis": {
         "title": {
          "text": "Temperatura (°C)"
         }
        },
        "yaxis": {
         "color": "blue",
         "showgrid": false,
         "side": "left",
         "title": {
          "text": "Densidad (kg/m³)"
         }
        },
        "yaxis2": {
         "color": "red",
         "overlaying": "y",
         "showgrid": false,
         "side": "right",
         "title": {
          "text": "Peso Específico (N/m³)"
         }
        }
       }
      },
      "text/html": [
       "<div>                            <div id=\"aacbec5d-a30e-4bcd-90d0-2e0f1d9e62aa\" class=\"plotly-graph-div\" style=\"height:525px; width:100%;\"></div>            <script type=\"text/javascript\">                require([\"plotly\"], function(Plotly) {                    window.PLOTLYENV=window.PLOTLYENV || {};                                    if (document.getElementById(\"aacbec5d-a30e-4bcd-90d0-2e0f1d9e62aa\")) {                    Plotly.newPlot(                        \"aacbec5d-a30e-4bcd-90d0-2e0f1d9e62aa\",                        [{\"line\":{\"color\":\"blue\"},\"mode\":\"lines+markers\",\"name\":\"Densidad (kg\\u002fm\\u00b3)\",\"x\":[0.0,1.0101010101010102,2.0202020202020203,3.0303030303030303,4.040404040404041,5.050505050505051,6.0606060606060606,7.070707070707071,8.080808080808081,9.090909090909092,10.101010101010102,11.111111111111112,12.121212121212121,13.131313131313131,14.141414141414142,15.151515151515152,16.161616161616163,17.171717171717173,18.181818181818183,19.191919191919194,20.202020202020204,21.212121212121215,22.222222222222225,23.232323232323235,24.242424242424242,25.252525252525253,26.262626262626263,27.272727272727273,28.282828282828284,29.292929292929294,30.303030303030305,31.313131313131315,32.323232323232325,33.333333333333336,34.343434343434346,35.35353535353536,36.36363636363637,37.37373737373738,38.38383838383839,39.3939393939394,40.40404040404041,41.41414141414142,42.42424242424243,43.43434343434344,44.44444444444445,45.45454545454546,46.46464646464647,47.47474747474748,48.484848484848484,49.494949494949495,50.505050505050505,51.515151515151516,52.525252525252526,53.535353535353536,54.54545454545455,55.55555555555556,56.56565656565657,57.57575757575758,58.58585858585859,59.5959595959596,60.60606060606061,61.61616161616162,62.62626262626263,63.63636363636364,64.64646464646465,65.65656565656566,66.66666666666667,67.67676767676768,68.68686868686869,69.6969696969697,70.70707070707071,71.71717171717172,72.72727272727273,73.73737373737374,74.74747474747475,75.75757575757576,76.76767676767678,77.77777777777779,78.7878787878788,79.7979797979798,80.80808080808082,81.81818181818183,82.82828282828284,83.83838383838385,84.84848484848486,85.85858585858587,86.86868686868688,87.87878787878789,88.8888888888889,89.89898989898991,90.90909090909092,91.91919191919193,92.92929292929294,93.93939393939395,94.94949494949496,95.95959595959597,96.96969696969697,97.97979797979798,98.98989898989899,100.0],\"y\":[999.84,999.769292929293,999.698585858586,999.6278787878788,999.5571717171717,999.4864646464647,999.4157575757577,999.3450505050505,999.2743434343435,999.2036363636364,999.1329292929294,999.0622222222222,998.9915151515152,998.9208080808081,998.8501010101011,998.779393939394,998.7086868686869,998.6379797979798,998.5672727272728,998.4965656565657,998.4258585858586,998.3551515151515,998.2844444444445,998.2137373737374,998.1430303030303,998.0723232323232,998.0016161616162,997.9309090909092,997.860202020202,997.789494949495,997.7187878787879,997.6480808080809,997.5773737373738,997.5066666666667,997.4359595959596,997.3652525252526,997.2945454545455,997.2238383838384,997.1531313131313,997.0824242424243,997.0117171717172,996.9410101010101,996.870303030303,996.799595959596,996.728888888889,996.6581818181819,996.5874747474747,996.5167676767677,996.4460606060607,996.3753535353536,996.3046464646465,996.2339393939394,996.1632323232324,996.0925252525253,996.0218181818182,995.9511111111111,995.8804040404041,995.809696969697,995.73898989899,995.6682828282828,995.5975757575758,995.5268686868687,995.4561616161617,995.3854545454545,995.3147474747475,995.2440404040404,995.1733333333334,995.1026262626262,995.0319191919192,994.9612121212122,994.8905050505051,994.8197979797981,994.7490909090909,994.6783838383839,994.6076767676768,994.5369696969698,994.4662626262626,994.3955555555556,994.3248484848485,994.2541414141415,994.1834343434343,994.1127272727273,994.0420202020202,993.9713131313132,993.900606060606,993.829898989899,993.759191919192,993.6884848484849,993.6177777777779,993.5470707070707,993.4763636363637,993.4056565656566,993.3349494949496,993.2642424242424,993.1935353535354,993.1228282828283,993.0521212121213,992.9814141414141,992.9107070707071,992.84],\"yaxis\":\"y\",\"type\":\"scatter\"},{\"line\":{\"color\":\"red\"},\"mode\":\"lines+markers\",\"name\":\"Peso Espec\\u00edfico (N\\u002fm\\u00b3)\",\"x\":[0.0,1.0101010101010102,2.0202020202020203,3.0303030303030303,4.040404040404041,5.050505050505051,6.0606060606060606,7.070707070707071,8.080808080808081,9.090909090909092,10.101010101010102,11.111111111111112,12.121212121212121,13.131313131313131,14.141414141414142,15.151515151515152,16.161616161616163,17.171717171717173,18.181818181818183,19.191919191919194,20.202020202020204,21.212121212121215,22.222222222222225,23.232323232323235,24.242424242424242,25.252525252525253,26.262626262626263,27.272727272727273,28.282828282828284,29.292929292929294,30.303030303030305,31.313131313131315,32.323232323232325,33.333333333333336,34.343434343434346,35.35353535353536,36.36363636363637,37.37373737373738,38.38383838383839,39.3939393939394,40.40404040404041,41.41414141414142,42.42424242424243,43.43434343434344,44.44444444444445,45.45454545454546,46.46464646464647,47.47474747474748,48.484848484848484,49.494949494949495,50.505050505050505,51.515151515151516,52.525252525252526,53.535353535353536,54.54545454545455,55.55555555555556,56.56565656565657,57.57575757575758,58.58585858585859,59.5959595959596,60.60606060606061,61.61616161616162,62.62626262626263,63.63636363636364,64.64646464646465,65.65656565656566,66.66666666666667,67.67676767676768,68.68686868686869,69.6969696969697,70.70707070707071,71.71717171717172,72.72727272727273,73.73737373737374,74.74747474747475,75.75757575757576,76.76767676767678,77.77777777777779,78.7878787878788,79.7979797979798,80.80808080808082,81.81818181818183,82.82828282828284,83.83838383838385,84.84848484848486,85.85858585858587,86.86868686868688,87.87878787878789,88.8888888888889,89.89898989898991,90.90909090909092,91.91919191919193,92.92929292929294,93.93939393939395,94.94949494949496,95.95959595959597,96.96969696969697,97.97979797979798,98.98989898989899,100.0],\"y\":[9808.430400000001,9807.736763636365,9807.04312727273,9806.349490909091,9805.655854545455,9804.96221818182,9804.268581818184,9803.574945454546,9802.88130909091,9802.187672727274,9801.494036363638,9800.8004,9800.106763636364,9799.413127272728,9798.719490909092,9798.025854545456,9797.332218181818,9796.638581818183,9795.944945454547,9795.25130909091,9794.557672727273,9793.864036363637,9793.1704,9792.476763636365,9791.783127272727,9791.089490909091,9790.395854545455,9789.70221818182,9789.008581818181,9788.314945454546,9787.62130909091,9786.927672727274,9786.234036363638,9785.5404,9784.846763636364,9784.153127272728,9783.459490909092,9782.765854545454,9782.072218181818,9781.378581818182,9780.684945454546,9779.991309090909,9779.297672727273,9778.604036363637,9777.9104,9777.216763636365,9776.523127272727,9775.829490909091,9775.135854545455,9774.442218181819,9773.748581818183,9773.054945454545,9772.36130909091,9771.667672727273,9770.974036363637,9770.280400000001,9769.586763636364,9768.893127272728,9768.199490909092,9767.505854545456,9766.812218181818,9766.118581818182,9765.424945454546,9764.73130909091,9764.037672727274,9763.344036363636,9762.6504,9761.956763636364,9761.263127272729,9760.569490909093,9759.875854545455,9759.182218181819,9758.488581818183,9757.794945454547,9757.101309090911,9756.407672727273,9755.714036363637,9755.020400000001,9754.326763636365,9753.63312727273,9752.939490909092,9752.245854545456,9751.55221818182,9750.858581818184,9750.164945454546,9749.47130909091,9748.777672727274,9748.084036363638,9747.390400000002,9746.696763636364,9746.003127272728,9745.309490909092,9744.615854545456,9743.922218181819,9743.228581818183,9742.534945454547,9741.84130909091,9741.147672727273,9740.454036363637,9739.760400000001],\"yaxis\":\"y2\",\"type\":\"scatter\"}],                        {\"template\":{\"data\":{\"barpolar\":[{\"marker\":{\"line\":{\"color\":\"rgb(17,17,17)\",\"width\":0.5},\"pattern\":{\"fillmode\":\"overlay\",\"size\":10,\"solidity\":0.2}},\"type\":\"barpolar\"}],\"bar\":[{\"error_x\":{\"color\":\"#f2f5fa\"},\"error_y\":{\"color\":\"#f2f5fa\"},\"marker\":{\"line\":{\"color\":\"rgb(17,17,17)\",\"width\":0.5},\"pattern\":{\"fillmode\":\"overlay\",\"size\":10,\"solidity\":0.2}},\"type\":\"bar\"}],\"carpet\":[{\"aaxis\":{\"endlinecolor\":\"#A2B1C6\",\"gridcolor\":\"#506784\",\"linecolor\":\"#506784\",\"minorgridcolor\":\"#506784\",\"startlinecolor\":\"#A2B1C6\"},\"baxis\":{\"endlinecolor\":\"#A2B1C6\",\"gridcolor\":\"#506784\",\"linecolor\":\"#506784\",\"minorgridcolor\":\"#506784\",\"startlinecolor\":\"#A2B1C6\"},\"type\":\"carpet\"}],\"choropleth\":[{\"colorbar\":{\"outlinewidth\":0,\"ticks\":\"\"},\"type\":\"choropleth\"}],\"contourcarpet\":[{\"colorbar\":{\"outlinewidth\":0,\"ticks\":\"\"},\"type\":\"contourcarpet\"}],\"contour\":[{\"colorbar\":{\"outlinewidth\":0,\"ticks\":\"\"},\"colorscale\":[[0.0,\"#0d0887\"],[0.1111111111111111,\"#46039f\"],[0.2222222222222222,\"#7201a8\"],[0.3333333333333333,\"#9c179e\"],[0.4444444444444444,\"#bd3786\"],[0.5555555555555556,\"#d8576b\"],[0.6666666666666666,\"#ed7953\"],[0.7777777777777778,\"#fb9f3a\"],[0.8888888888888888,\"#fdca26\"],[1.0,\"#f0f921\"]],\"type\":\"contour\"}],\"heatmapgl\":[{\"colorbar\":{\"outlinewidth\":0,\"ticks\":\"\"},\"colorscale\":[[0.0,\"#0d0887\"],[0.1111111111111111,\"#46039f\"],[0.2222222222222222,\"#7201a8\"],[0.3333333333333333,\"#9c179e\"],[0.4444444444444444,\"#bd3786\"],[0.5555555555555556,\"#d8576b\"],[0.6666666666666666,\"#ed7953\"],[0.7777777777777778,\"#fb9f3a\"],[0.8888888888888888,\"#fdca26\"],[1.0,\"#f0f921\"]],\"type\":\"heatmapgl\"}],\"heatmap\":[{\"colorbar\":{\"outlinewidth\":0,\"ticks\":\"\"},\"colorscale\":[[0.0,\"#0d0887\"],[0.1111111111111111,\"#46039f\"],[0.2222222222222222,\"#7201a8\"],[0.3333333333333333,\"#9c179e\"],[0.4444444444444444,\"#bd3786\"],[0.5555555555555556,\"#d8576b\"],[0.6666666666666666,\"#ed7953\"],[0.7777777777777778,\"#fb9f3a\"],[0.8888888888888888,\"#fdca26\"],[1.0,\"#f0f921\"]],\"type\":\"heatmap\"}],\"histogram2dcontour\":[{\"colorbar\":{\"outlinewidth\":0,\"ticks\":\"\"},\"colorscale\":[[0.0,\"#0d0887\"],[0.1111111111111111,\"#46039f\"],[0.2222222222222222,\"#7201a8\"],[0.3333333333333333,\"#9c179e\"],[0.4444444444444444,\"#bd3786\"],[0.5555555555555556,\"#d8576b\"],[0.6666666666666666,\"#ed7953\"],[0.7777777777777778,\"#fb9f3a\"],[0.8888888888888888,\"#fdca26\"],[1.0,\"#f0f921\"]],\"type\":\"histogram2dcontour\"}],\"histogram2d\":[{\"colorbar\":{\"outlinewidth\":0,\"ticks\":\"\"},\"colorscale\":[[0.0,\"#0d0887\"],[0.1111111111111111,\"#46039f\"],[0.2222222222222222,\"#7201a8\"],[0.3333333333333333,\"#9c179e\"],[0.4444444444444444,\"#bd3786\"],[0.5555555555555556,\"#d8576b\"],[0.6666666666666666,\"#ed7953\"],[0.7777777777777778,\"#fb9f3a\"],[0.8888888888888888,\"#fdca26\"],[1.0,\"#f0f921\"]],\"type\":\"histogram2d\"}],\"histogram\":[{\"marker\":{\"pattern\":{\"fillmode\":\"overlay\",\"size\":10,\"solidity\":0.2}},\"type\":\"histogram\"}],\"mesh3d\":[{\"colorbar\":{\"outlinewidth\":0,\"ticks\":\"\"},\"type\":\"mesh3d\"}],\"parcoords\":[{\"line\":{\"colorbar\":{\"outlinewidth\":0,\"ticks\":\"\"}},\"type\":\"parcoords\"}],\"pie\":[{\"automargin\":true,\"type\":\"pie\"}],\"scatter3d\":[{\"line\":{\"colorbar\":{\"outlinewidth\":0,\"ticks\":\"\"}},\"marker\":{\"colorbar\":{\"outlinewidth\":0,\"ticks\":\"\"}},\"type\":\"scatter3d\"}],\"scattercarpet\":[{\"marker\":{\"colorbar\":{\"outlinewidth\":0,\"ticks\":\"\"}},\"type\":\"scattercarpet\"}],\"scattergeo\":[{\"marker\":{\"colorbar\":{\"outlinewidth\":0,\"ticks\":\"\"}},\"type\":\"scattergeo\"}],\"scattergl\":[{\"marker\":{\"line\":{\"color\":\"#283442\"}},\"type\":\"scattergl\"}],\"scattermapbox\":[{\"marker\":{\"colorbar\":{\"outlinewidth\":0,\"ticks\":\"\"}},\"type\":\"scattermapbox\"}],\"scatterpolargl\":[{\"marker\":{\"colorbar\":{\"outlinewidth\":0,\"ticks\":\"\"}},\"type\":\"scatterpolargl\"}],\"scatterpolar\":[{\"marker\":{\"colorbar\":{\"outlinewidth\":0,\"ticks\":\"\"}},\"type\":\"scatterpolar\"}],\"scatter\":[{\"marker\":{\"line\":{\"color\":\"#283442\"}},\"type\":\"scatter\"}],\"scatterternary\":[{\"marker\":{\"colorbar\":{\"outlinewidth\":0,\"ticks\":\"\"}},\"type\":\"scatterternary\"}],\"surface\":[{\"colorbar\":{\"outlinewidth\":0,\"ticks\":\"\"},\"colorscale\":[[0.0,\"#0d0887\"],[0.1111111111111111,\"#46039f\"],[0.2222222222222222,\"#7201a8\"],[0.3333333333333333,\"#9c179e\"],[0.4444444444444444,\"#bd3786\"],[0.5555555555555556,\"#d8576b\"],[0.6666666666666666,\"#ed7953\"],[0.7777777777777778,\"#fb9f3a\"],[0.8888888888888888,\"#fdca26\"],[1.0,\"#f0f921\"]],\"type\":\"surface\"}],\"table\":[{\"cells\":{\"fill\":{\"color\":\"#506784\"},\"line\":{\"color\":\"rgb(17,17,17)\"}},\"header\":{\"fill\":{\"color\":\"#2a3f5f\"},\"line\":{\"color\":\"rgb(17,17,17)\"}},\"type\":\"table\"}]},\"layout\":{\"annotationdefaults\":{\"arrowcolor\":\"#f2f5fa\",\"arrowhead\":0,\"arrowwidth\":1},\"autotypenumbers\":\"strict\",\"coloraxis\":{\"colorbar\":{\"outlinewidth\":0,\"ticks\":\"\"}},\"colorscale\":{\"diverging\":[[0,\"#8e0152\"],[0.1,\"#c51b7d\"],[0.2,\"#de77ae\"],[0.3,\"#f1b6da\"],[0.4,\"#fde0ef\"],[0.5,\"#f7f7f7\"],[0.6,\"#e6f5d0\"],[0.7,\"#b8e186\"],[0.8,\"#7fbc41\"],[0.9,\"#4d9221\"],[1,\"#276419\"]],\"sequential\":[[0.0,\"#0d0887\"],[0.1111111111111111,\"#46039f\"],[0.2222222222222222,\"#7201a8\"],[0.3333333333333333,\"#9c179e\"],[0.4444444444444444,\"#bd3786\"],[0.5555555555555556,\"#d8576b\"],[0.6666666666666666,\"#ed7953\"],[0.7777777777777778,\"#fb9f3a\"],[0.8888888888888888,\"#fdca26\"],[1.0,\"#f0f921\"]],\"sequentialminus\":[[0.0,\"#0d0887\"],[0.1111111111111111,\"#46039f\"],[0.2222222222222222,\"#7201a8\"],[0.3333333333333333,\"#9c179e\"],[0.4444444444444444,\"#bd3786\"],[0.5555555555555556,\"#d8576b\"],[0.6666666666666666,\"#ed7953\"],[0.7777777777777778,\"#fb9f3a\"],[0.8888888888888888,\"#fdca26\"],[1.0,\"#f0f921\"]]},\"colorway\":[\"#636efa\",\"#EF553B\",\"#00cc96\",\"#ab63fa\",\"#FFA15A\",\"#19d3f3\",\"#FF6692\",\"#B6E880\",\"#FF97FF\",\"#FECB52\"],\"font\":{\"color\":\"#f2f5fa\"},\"geo\":{\"bgcolor\":\"rgb(17,17,17)\",\"lakecolor\":\"rgb(17,17,17)\",\"landcolor\":\"rgb(17,17,17)\",\"showlakes\":true,\"showland\":true,\"subunitcolor\":\"#506784\"},\"hoverlabel\":{\"align\":\"left\"},\"hovermode\":\"closest\",\"mapbox\":{\"style\":\"dark\"},\"paper_bgcolor\":\"rgb(17,17,17)\",\"plot_bgcolor\":\"rgb(17,17,17)\",\"polar\":{\"angularaxis\":{\"gridcolor\":\"#506784\",\"linecolor\":\"#506784\",\"ticks\":\"\"},\"bgcolor\":\"rgb(17,17,17)\",\"radialaxis\":{\"gridcolor\":\"#506784\",\"linecolor\":\"#506784\",\"ticks\":\"\"}},\"scene\":{\"xaxis\":{\"backgroundcolor\":\"rgb(17,17,17)\",\"gridcolor\":\"#506784\",\"gridwidth\":2,\"linecolor\":\"#506784\",\"showbackground\":true,\"ticks\":\"\",\"zerolinecolor\":\"#C8D4E3\"},\"yaxis\":{\"backgroundcolor\":\"rgb(17,17,17)\",\"gridcolor\":\"#506784\",\"gridwidth\":2,\"linecolor\":\"#506784\",\"showbackground\":true,\"ticks\":\"\",\"zerolinecolor\":\"#C8D4E3\"},\"zaxis\":{\"backgroundcolor\":\"rgb(17,17,17)\",\"gridcolor\":\"#506784\",\"gridwidth\":2,\"linecolor\":\"#506784\",\"showbackground\":true,\"ticks\":\"\",\"zerolinecolor\":\"#C8D4E3\"}},\"shapedefaults\":{\"line\":{\"color\":\"#f2f5fa\"}},\"sliderdefaults\":{\"bgcolor\":\"#C8D4E3\",\"bordercolor\":\"rgb(17,17,17)\",\"borderwidth\":1,\"tickwidth\":0},\"ternary\":{\"aaxis\":{\"gridcolor\":\"#506784\",\"linecolor\":\"#506784\",\"ticks\":\"\"},\"baxis\":{\"gridcolor\":\"#506784\",\"linecolor\":\"#506784\",\"ticks\":\"\"},\"bgcolor\":\"rgb(17,17,17)\",\"caxis\":{\"gridcolor\":\"#506784\",\"linecolor\":\"#506784\",\"ticks\":\"\"}},\"title\":{\"x\":0.05},\"updatemenudefaults\":{\"bgcolor\":\"#506784\",\"borderwidth\":0},\"xaxis\":{\"automargin\":true,\"gridcolor\":\"#283442\",\"linecolor\":\"#506784\",\"ticks\":\"\",\"title\":{\"standoff\":15},\"zerolinecolor\":\"#283442\",\"zerolinewidth\":2},\"yaxis\":{\"automargin\":true,\"gridcolor\":\"#283442\",\"linecolor\":\"#506784\",\"ticks\":\"\",\"title\":{\"standoff\":15},\"zerolinecolor\":\"#283442\",\"zerolinewidth\":2}}},\"yaxis\":{\"title\":{\"text\":\"Densidad (kg\\u002fm\\u00b3)\"},\"side\":\"left\",\"color\":\"blue\",\"showgrid\":false},\"yaxis2\":{\"title\":{\"text\":\"Peso Espec\\u00edfico (N\\u002fm\\u00b3)\"},\"side\":\"right\",\"overlaying\":\"y\",\"color\":\"red\",\"showgrid\":false},\"title\":{\"text\":\"Densidad y Peso Espec\\u00edfico del Agua vs. Temperatura\"},\"xaxis\":{\"title\":{\"text\":\"Temperatura (\\u00b0C)\"}}},                        {\"responsive\": true}                    ).then(function(){\n",
       "                            \n",
       "var gd = document.getElementById('aacbec5d-a30e-4bcd-90d0-2e0f1d9e62aa');\n",
       "var x = new MutationObserver(function (mutations, observer) {{\n",
       "        var display = window.getComputedStyle(gd).display;\n",
       "        if (!display || display === 'none') {{\n",
       "            console.log([gd, 'removed!']);\n",
       "            Plotly.purge(gd);\n",
       "            observer.disconnect();\n",
       "        }}\n",
       "}});\n",
       "\n",
       "// Listen for the removal of the full notebook cells\n",
       "var notebookContainer = gd.closest('#notebook-container');\n",
       "if (notebookContainer) {{\n",
       "    x.observe(notebookContainer, {childList: true});\n",
       "}}\n",
       "\n",
       "// Listen for the clearing of the current output cell\n",
       "var outputEl = gd.closest('.output');\n",
       "if (outputEl) {{\n",
       "    x.observe(outputEl, {childList: true});\n",
       "}}\n",
       "\n",
       "                        })                };                });            </script>        </div>"
      ]
     },
     "metadata": {},
     "output_type": "display_data"
    },
    {
     "data": {
      "application/vnd.plotly.v1+json": {
       "config": {
        "plotlyServerURL": "https://plot.ly"
       },
       "data": [
        {
         "line": {
          "color": "green"
         },
         "mode": "lines+markers",
         "name": "Volumen Específico (m³/kg)",
         "type": "scatter",
         "x": [
          0,
          1.0101010101010102,
          2.0202020202020203,
          3.0303030303030303,
          4.040404040404041,
          5.050505050505051,
          6.0606060606060606,
          7.070707070707071,
          8.080808080808081,
          9.090909090909092,
          10.101010101010102,
          11.111111111111112,
          12.121212121212121,
          13.131313131313131,
          14.141414141414142,
          15.151515151515152,
          16.161616161616163,
          17.171717171717173,
          18.181818181818183,
          19.191919191919194,
          20.202020202020204,
          21.212121212121215,
          22.222222222222225,
          23.232323232323235,
          24.242424242424242,
          25.252525252525253,
          26.262626262626263,
          27.272727272727273,
          28.282828282828284,
          29.292929292929294,
          30.303030303030305,
          31.313131313131315,
          32.323232323232325,
          33.333333333333336,
          34.343434343434346,
          35.35353535353536,
          36.36363636363637,
          37.37373737373738,
          38.38383838383839,
          39.3939393939394,
          40.40404040404041,
          41.41414141414142,
          42.42424242424243,
          43.43434343434344,
          44.44444444444445,
          45.45454545454546,
          46.46464646464647,
          47.47474747474748,
          48.484848484848484,
          49.494949494949495,
          50.505050505050505,
          51.515151515151516,
          52.525252525252526,
          53.535353535353536,
          54.54545454545455,
          55.55555555555556,
          56.56565656565657,
          57.57575757575758,
          58.58585858585859,
          59.5959595959596,
          60.60606060606061,
          61.61616161616162,
          62.62626262626263,
          63.63636363636364,
          64.64646464646465,
          65.65656565656566,
          66.66666666666667,
          67.67676767676768,
          68.68686868686869,
          69.6969696969697,
          70.70707070707071,
          71.71717171717172,
          72.72727272727273,
          73.73737373737374,
          74.74747474747475,
          75.75757575757576,
          76.76767676767678,
          77.77777777777779,
          78.7878787878788,
          79.7979797979798,
          80.80808080808082,
          81.81818181818183,
          82.82828282828284,
          83.83838383838385,
          84.84848484848486,
          85.85858585858587,
          86.86868686868688,
          87.87878787878789,
          88.8888888888889,
          89.89898989898991,
          90.90909090909092,
          91.91919191919193,
          92.92929292929294,
          93.93939393939395,
          94.94949494949496,
          95.95959595959597,
          96.96969696969697,
          97.97979797979798,
          98.98989898989899,
          100
         ],
         "y": [
          0.0010001600256040967,
          0.001000230760308742,
          0.0010003015050192906,
          0.001000372259737866,
          0.0010004430244665921,
          0.001000513799207593,
          0.001000584583962994,
          0.0010006553787349208,
          0.0010007261835254997,
          0.0010007969983368574,
          0.0010008678231711212,
          0.0010009386580304197,
          0.001001009502916881,
          0.0010010803578326347,
          0.0010011512227798105,
          0.0010012220977605392,
          0.0010012929827769516,
          0.0010013638778311794,
          0.0010014347829253548,
          0.0010015056980616109,
          0.0010015766232420813,
          0.0010016475584688996,
          0.001001718503744201,
          0.0010017894590701208,
          0.0010018604244487947,
          0.0010019313998823592,
          0.0010020023853729513,
          0.0010020733809227092,
          0.0010021443865337709,
          0.0010022154022082752,
          0.001002286427948362,
          0.0010023574637561714,
          0.0010024285096338441,
          0.0010024995655835217,
          0.0010025706316073456,
          0.0010026417077074587,
          0.0010027127938860042,
          0.0010027838901451262,
          0.0010028549964869685,
          0.0010029261129136766,
          0.001002997239427396,
          0.0010030683760302729,
          0.001003139522724454,
          0.0010032106795120868,
          0.0010032818463953197,
          0.0010033530233763011,
          0.0010034242104571803,
          0.0010034954076401073,
          0.0010035666149272322,
          0.0010036378323207066,
          0.0010037090598226822,
          0.0010037802974353109,
          0.001003851545160746,
          0.001003922803001141,
          0.00100399407095865,
          0.001004065349035428,
          0.0010041366372336299,
          0.0010042079355554122,
          0.0010042792440029312,
          0.0010043505625783444,
          0.0010044218912838095,
          0.0010044932301214848,
          0.0010045645790935295,
          0.0010046359382021035,
          0.0010047073074493668,
          0.0010047786868374803,
          0.0010048500763686057,
          0.001004921476044905,
          0.0010049928858685412,
          0.0010050643058416775,
          0.0010051357359664775,
          0.0010052071762451063,
          0.0010052786266797292,
          0.0010053500872725116,
          0.0010054215580256201,
          0.0010054930389412219,
          0.0010055645300214846,
          0.0010056360312685763,
          0.001005707542684666,
          0.0010057790642719236,
          0.0010058505960325189,
          0.0010059221379686224,
          0.001005993690082406,
          0.0010060652523760415,
          0.0010061368248517016,
          0.0010062084075115592,
          0.0010062800003577885,
          0.0010063516033925637,
          0.00100642321661806,
          0.0010064948400364535,
          0.0010065664736499198,
          0.0010066381174606363,
          0.0010067097714707804,
          0.0010067814356825306,
          0.0010068531100980655,
          0.0010069247947195642,
          0.0010069964895492072,
          0.0010070681945891751,
          0.001007139909841649,
          0.001007211635308811
         ]
        }
       ],
       "layout": {
        "template": {
         "data": {
          "bar": [
           {
            "error_x": {
             "color": "#f2f5fa"
            },
            "error_y": {
             "color": "#f2f5fa"
            },
            "marker": {
             "line": {
              "color": "rgb(17,17,17)",
              "width": 0.5
             },
             "pattern": {
              "fillmode": "overlay",
              "size": 10,
              "solidity": 0.2
             }
            },
            "type": "bar"
           }
          ],
          "barpolar": [
           {
            "marker": {
             "line": {
              "color": "rgb(17,17,17)",
              "width": 0.5
             },
             "pattern": {
              "fillmode": "overlay",
              "size": 10,
              "solidity": 0.2
             }
            },
            "type": "barpolar"
           }
          ],
          "carpet": [
           {
            "aaxis": {
             "endlinecolor": "#A2B1C6",
             "gridcolor": "#506784",
             "linecolor": "#506784",
             "minorgridcolor": "#506784",
             "startlinecolor": "#A2B1C6"
            },
            "baxis": {
             "endlinecolor": "#A2B1C6",
             "gridcolor": "#506784",
             "linecolor": "#506784",
             "minorgridcolor": "#506784",
             "startlinecolor": "#A2B1C6"
            },
            "type": "carpet"
           }
          ],
          "choropleth": [
           {
            "colorbar": {
             "outlinewidth": 0,
             "ticks": ""
            },
            "type": "choropleth"
           }
          ],
          "contour": [
           {
            "colorbar": {
             "outlinewidth": 0,
             "ticks": ""
            },
            "colorscale": [
             [
              0,
              "#0d0887"
             ],
             [
              0.1111111111111111,
              "#46039f"
             ],
             [
              0.2222222222222222,
              "#7201a8"
             ],
             [
              0.3333333333333333,
              "#9c179e"
             ],
             [
              0.4444444444444444,
              "#bd3786"
             ],
             [
              0.5555555555555556,
              "#d8576b"
             ],
             [
              0.6666666666666666,
              "#ed7953"
             ],
             [
              0.7777777777777778,
              "#fb9f3a"
             ],
             [
              0.8888888888888888,
              "#fdca26"
             ],
             [
              1,
              "#f0f921"
             ]
            ],
            "type": "contour"
           }
          ],
          "contourcarpet": [
           {
            "colorbar": {
             "outlinewidth": 0,
             "ticks": ""
            },
            "type": "contourcarpet"
           }
          ],
          "heatmap": [
           {
            "colorbar": {
             "outlinewidth": 0,
             "ticks": ""
            },
            "colorscale": [
             [
              0,
              "#0d0887"
             ],
             [
              0.1111111111111111,
              "#46039f"
             ],
             [
              0.2222222222222222,
              "#7201a8"
             ],
             [
              0.3333333333333333,
              "#9c179e"
             ],
             [
              0.4444444444444444,
              "#bd3786"
             ],
             [
              0.5555555555555556,
              "#d8576b"
             ],
             [
              0.6666666666666666,
              "#ed7953"
             ],
             [
              0.7777777777777778,
              "#fb9f3a"
             ],
             [
              0.8888888888888888,
              "#fdca26"
             ],
             [
              1,
              "#f0f921"
             ]
            ],
            "type": "heatmap"
           }
          ],
          "heatmapgl": [
           {
            "colorbar": {
             "outlinewidth": 0,
             "ticks": ""
            },
            "colorscale": [
             [
              0,
              "#0d0887"
             ],
             [
              0.1111111111111111,
              "#46039f"
             ],
             [
              0.2222222222222222,
              "#7201a8"
             ],
             [
              0.3333333333333333,
              "#9c179e"
             ],
             [
              0.4444444444444444,
              "#bd3786"
             ],
             [
              0.5555555555555556,
              "#d8576b"
             ],
             [
              0.6666666666666666,
              "#ed7953"
             ],
             [
              0.7777777777777778,
              "#fb9f3a"
             ],
             [
              0.8888888888888888,
              "#fdca26"
             ],
             [
              1,
              "#f0f921"
             ]
            ],
            "type": "heatmapgl"
           }
          ],
          "histogram": [
           {
            "marker": {
             "pattern": {
              "fillmode": "overlay",
              "size": 10,
              "solidity": 0.2
             }
            },
            "type": "histogram"
           }
          ],
          "histogram2d": [
           {
            "colorbar": {
             "outlinewidth": 0,
             "ticks": ""
            },
            "colorscale": [
             [
              0,
              "#0d0887"
             ],
             [
              0.1111111111111111,
              "#46039f"
             ],
             [
              0.2222222222222222,
              "#7201a8"
             ],
             [
              0.3333333333333333,
              "#9c179e"
             ],
             [
              0.4444444444444444,
              "#bd3786"
             ],
             [
              0.5555555555555556,
              "#d8576b"
             ],
             [
              0.6666666666666666,
              "#ed7953"
             ],
             [
              0.7777777777777778,
              "#fb9f3a"
             ],
             [
              0.8888888888888888,
              "#fdca26"
             ],
             [
              1,
              "#f0f921"
             ]
            ],
            "type": "histogram2d"
           }
          ],
          "histogram2dcontour": [
           {
            "colorbar": {
             "outlinewidth": 0,
             "ticks": ""
            },
            "colorscale": [
             [
              0,
              "#0d0887"
             ],
             [
              0.1111111111111111,
              "#46039f"
             ],
             [
              0.2222222222222222,
              "#7201a8"
             ],
             [
              0.3333333333333333,
              "#9c179e"
             ],
             [
              0.4444444444444444,
              "#bd3786"
             ],
             [
              0.5555555555555556,
              "#d8576b"
             ],
             [
              0.6666666666666666,
              "#ed7953"
             ],
             [
              0.7777777777777778,
              "#fb9f3a"
             ],
             [
              0.8888888888888888,
              "#fdca26"
             ],
             [
              1,
              "#f0f921"
             ]
            ],
            "type": "histogram2dcontour"
           }
          ],
          "mesh3d": [
           {
            "colorbar": {
             "outlinewidth": 0,
             "ticks": ""
            },
            "type": "mesh3d"
           }
          ],
          "parcoords": [
           {
            "line": {
             "colorbar": {
              "outlinewidth": 0,
              "ticks": ""
             }
            },
            "type": "parcoords"
           }
          ],
          "pie": [
           {
            "automargin": true,
            "type": "pie"
           }
          ],
          "scatter": [
           {
            "marker": {
             "line": {
              "color": "#283442"
             }
            },
            "type": "scatter"
           }
          ],
          "scatter3d": [
           {
            "line": {
             "colorbar": {
              "outlinewidth": 0,
              "ticks": ""
             }
            },
            "marker": {
             "colorbar": {
              "outlinewidth": 0,
              "ticks": ""
             }
            },
            "type": "scatter3d"
           }
          ],
          "scattercarpet": [
           {
            "marker": {
             "colorbar": {
              "outlinewidth": 0,
              "ticks": ""
             }
            },
            "type": "scattercarpet"
           }
          ],
          "scattergeo": [
           {
            "marker": {
             "colorbar": {
              "outlinewidth": 0,
              "ticks": ""
             }
            },
            "type": "scattergeo"
           }
          ],
          "scattergl": [
           {
            "marker": {
             "line": {
              "color": "#283442"
             }
            },
            "type": "scattergl"
           }
          ],
          "scattermapbox": [
           {
            "marker": {
             "colorbar": {
              "outlinewidth": 0,
              "ticks": ""
             }
            },
            "type": "scattermapbox"
           }
          ],
          "scatterpolar": [
           {
            "marker": {
             "colorbar": {
              "outlinewidth": 0,
              "ticks": ""
             }
            },
            "type": "scatterpolar"
           }
          ],
          "scatterpolargl": [
           {
            "marker": {
             "colorbar": {
              "outlinewidth": 0,
              "ticks": ""
             }
            },
            "type": "scatterpolargl"
           }
          ],
          "scatterternary": [
           {
            "marker": {
             "colorbar": {
              "outlinewidth": 0,
              "ticks": ""
             }
            },
            "type": "scatterternary"
           }
          ],
          "surface": [
           {
            "colorbar": {
             "outlinewidth": 0,
             "ticks": ""
            },
            "colorscale": [
             [
              0,
              "#0d0887"
             ],
             [
              0.1111111111111111,
              "#46039f"
             ],
             [
              0.2222222222222222,
              "#7201a8"
             ],
             [
              0.3333333333333333,
              "#9c179e"
             ],
             [
              0.4444444444444444,
              "#bd3786"
             ],
             [
              0.5555555555555556,
              "#d8576b"
             ],
             [
              0.6666666666666666,
              "#ed7953"
             ],
             [
              0.7777777777777778,
              "#fb9f3a"
             ],
             [
              0.8888888888888888,
              "#fdca26"
             ],
             [
              1,
              "#f0f921"
             ]
            ],
            "type": "surface"
           }
          ],
          "table": [
           {
            "cells": {
             "fill": {
              "color": "#506784"
             },
             "line": {
              "color": "rgb(17,17,17)"
             }
            },
            "header": {
             "fill": {
              "color": "#2a3f5f"
             },
             "line": {
              "color": "rgb(17,17,17)"
             }
            },
            "type": "table"
           }
          ]
         },
         "layout": {
          "annotationdefaults": {
           "arrowcolor": "#f2f5fa",
           "arrowhead": 0,
           "arrowwidth": 1
          },
          "autotypenumbers": "strict",
          "coloraxis": {
           "colorbar": {
            "outlinewidth": 0,
            "ticks": ""
           }
          },
          "colorscale": {
           "diverging": [
            [
             0,
             "#8e0152"
            ],
            [
             0.1,
             "#c51b7d"
            ],
            [
             0.2,
             "#de77ae"
            ],
            [
             0.3,
             "#f1b6da"
            ],
            [
             0.4,
             "#fde0ef"
            ],
            [
             0.5,
             "#f7f7f7"
            ],
            [
             0.6,
             "#e6f5d0"
            ],
            [
             0.7,
             "#b8e186"
            ],
            [
             0.8,
             "#7fbc41"
            ],
            [
             0.9,
             "#4d9221"
            ],
            [
             1,
             "#276419"
            ]
           ],
           "sequential": [
            [
             0,
             "#0d0887"
            ],
            [
             0.1111111111111111,
             "#46039f"
            ],
            [
             0.2222222222222222,
             "#7201a8"
            ],
            [
             0.3333333333333333,
             "#9c179e"
            ],
            [
             0.4444444444444444,
             "#bd3786"
            ],
            [
             0.5555555555555556,
             "#d8576b"
            ],
            [
             0.6666666666666666,
             "#ed7953"
            ],
            [
             0.7777777777777778,
             "#fb9f3a"
            ],
            [
             0.8888888888888888,
             "#fdca26"
            ],
            [
             1,
             "#f0f921"
            ]
           ],
           "sequentialminus": [
            [
             0,
             "#0d0887"
            ],
            [
             0.1111111111111111,
             "#46039f"
            ],
            [
             0.2222222222222222,
             "#7201a8"
            ],
            [
             0.3333333333333333,
             "#9c179e"
            ],
            [
             0.4444444444444444,
             "#bd3786"
            ],
            [
             0.5555555555555556,
             "#d8576b"
            ],
            [
             0.6666666666666666,
             "#ed7953"
            ],
            [
             0.7777777777777778,
             "#fb9f3a"
            ],
            [
             0.8888888888888888,
             "#fdca26"
            ],
            [
             1,
             "#f0f921"
            ]
           ]
          },
          "colorway": [
           "#636efa",
           "#EF553B",
           "#00cc96",
           "#ab63fa",
           "#FFA15A",
           "#19d3f3",
           "#FF6692",
           "#B6E880",
           "#FF97FF",
           "#FECB52"
          ],
          "font": {
           "color": "#f2f5fa"
          },
          "geo": {
           "bgcolor": "rgb(17,17,17)",
           "lakecolor": "rgb(17,17,17)",
           "landcolor": "rgb(17,17,17)",
           "showlakes": true,
           "showland": true,
           "subunitcolor": "#506784"
          },
          "hoverlabel": {
           "align": "left"
          },
          "hovermode": "closest",
          "mapbox": {
           "style": "dark"
          },
          "paper_bgcolor": "rgb(17,17,17)",
          "plot_bgcolor": "rgb(17,17,17)",
          "polar": {
           "angularaxis": {
            "gridcolor": "#506784",
            "linecolor": "#506784",
            "ticks": ""
           },
           "bgcolor": "rgb(17,17,17)",
           "radialaxis": {
            "gridcolor": "#506784",
            "linecolor": "#506784",
            "ticks": ""
           }
          },
          "scene": {
           "xaxis": {
            "backgroundcolor": "rgb(17,17,17)",
            "gridcolor": "#506784",
            "gridwidth": 2,
            "linecolor": "#506784",
            "showbackground": true,
            "ticks": "",
            "zerolinecolor": "#C8D4E3"
           },
           "yaxis": {
            "backgroundcolor": "rgb(17,17,17)",
            "gridcolor": "#506784",
            "gridwidth": 2,
            "linecolor": "#506784",
            "showbackground": true,
            "ticks": "",
            "zerolinecolor": "#C8D4E3"
           },
           "zaxis": {
            "backgroundcolor": "rgb(17,17,17)",
            "gridcolor": "#506784",
            "gridwidth": 2,
            "linecolor": "#506784",
            "showbackground": true,
            "ticks": "",
            "zerolinecolor": "#C8D4E3"
           }
          },
          "shapedefaults": {
           "line": {
            "color": "#f2f5fa"
           }
          },
          "sliderdefaults": {
           "bgcolor": "#C8D4E3",
           "bordercolor": "rgb(17,17,17)",
           "borderwidth": 1,
           "tickwidth": 0
          },
          "ternary": {
           "aaxis": {
            "gridcolor": "#506784",
            "linecolor": "#506784",
            "ticks": ""
           },
           "baxis": {
            "gridcolor": "#506784",
            "linecolor": "#506784",
            "ticks": ""
           },
           "bgcolor": "rgb(17,17,17)",
           "caxis": {
            "gridcolor": "#506784",
            "linecolor": "#506784",
            "ticks": ""
           }
          },
          "title": {
           "x": 0.05
          },
          "updatemenudefaults": {
           "bgcolor": "#506784",
           "borderwidth": 0
          },
          "xaxis": {
           "automargin": true,
           "gridcolor": "#283442",
           "linecolor": "#506784",
           "ticks": "",
           "title": {
            "standoff": 15
           },
           "zerolinecolor": "#283442",
           "zerolinewidth": 2
          },
          "yaxis": {
           "automargin": true,
           "gridcolor": "#283442",
           "linecolor": "#506784",
           "ticks": "",
           "title": {
            "standoff": 15
           },
           "zerolinecolor": "#283442",
           "zerolinewidth": 2
          }
         }
        },
        "title": {
         "text": "Volumen Específico del Agua vs. Temperatura"
        },
        "xaxis": {
         "title": {
          "text": "Temperatura (°C)"
         }
        },
        "yaxis": {
         "title": {
          "text": "Volumen Específico (m³/kg)"
         }
        }
       }
      },
      "text/html": [
       "<div>                            <div id=\"9258521e-b787-45c7-99f3-be94cc9d6751\" class=\"plotly-graph-div\" style=\"height:525px; width:100%;\"></div>            <script type=\"text/javascript\">                require([\"plotly\"], function(Plotly) {                    window.PLOTLYENV=window.PLOTLYENV || {};                                    if (document.getElementById(\"9258521e-b787-45c7-99f3-be94cc9d6751\")) {                    Plotly.newPlot(                        \"9258521e-b787-45c7-99f3-be94cc9d6751\",                        [{\"line\":{\"color\":\"green\"},\"mode\":\"lines+markers\",\"name\":\"Volumen Espec\\u00edfico (m\\u00b3\\u002fkg)\",\"x\":[0.0,1.0101010101010102,2.0202020202020203,3.0303030303030303,4.040404040404041,5.050505050505051,6.0606060606060606,7.070707070707071,8.080808080808081,9.090909090909092,10.101010101010102,11.111111111111112,12.121212121212121,13.131313131313131,14.141414141414142,15.151515151515152,16.161616161616163,17.171717171717173,18.181818181818183,19.191919191919194,20.202020202020204,21.212121212121215,22.222222222222225,23.232323232323235,24.242424242424242,25.252525252525253,26.262626262626263,27.272727272727273,28.282828282828284,29.292929292929294,30.303030303030305,31.313131313131315,32.323232323232325,33.333333333333336,34.343434343434346,35.35353535353536,36.36363636363637,37.37373737373738,38.38383838383839,39.3939393939394,40.40404040404041,41.41414141414142,42.42424242424243,43.43434343434344,44.44444444444445,45.45454545454546,46.46464646464647,47.47474747474748,48.484848484848484,49.494949494949495,50.505050505050505,51.515151515151516,52.525252525252526,53.535353535353536,54.54545454545455,55.55555555555556,56.56565656565657,57.57575757575758,58.58585858585859,59.5959595959596,60.60606060606061,61.61616161616162,62.62626262626263,63.63636363636364,64.64646464646465,65.65656565656566,66.66666666666667,67.67676767676768,68.68686868686869,69.6969696969697,70.70707070707071,71.71717171717172,72.72727272727273,73.73737373737374,74.74747474747475,75.75757575757576,76.76767676767678,77.77777777777779,78.7878787878788,79.7979797979798,80.80808080808082,81.81818181818183,82.82828282828284,83.83838383838385,84.84848484848486,85.85858585858587,86.86868686868688,87.87878787878789,88.8888888888889,89.89898989898991,90.90909090909092,91.91919191919193,92.92929292929294,93.93939393939395,94.94949494949496,95.95959595959597,96.96969696969697,97.97979797979798,98.98989898989899,100.0],\"y\":[0.0010001600256040967,0.001000230760308742,0.0010003015050192906,0.001000372259737866,0.0010004430244665921,0.001000513799207593,0.001000584583962994,0.0010006553787349208,0.0010007261835254997,0.0010007969983368574,0.0010008678231711212,0.0010009386580304197,0.001001009502916881,0.0010010803578326347,0.0010011512227798105,0.0010012220977605392,0.0010012929827769516,0.0010013638778311794,0.0010014347829253548,0.0010015056980616109,0.0010015766232420813,0.0010016475584688996,0.001001718503744201,0.0010017894590701208,0.0010018604244487947,0.0010019313998823592,0.0010020023853729513,0.0010020733809227092,0.0010021443865337709,0.0010022154022082752,0.001002286427948362,0.0010023574637561714,0.0010024285096338441,0.0010024995655835217,0.0010025706316073456,0.0010026417077074587,0.0010027127938860042,0.0010027838901451262,0.0010028549964869685,0.0010029261129136766,0.001002997239427396,0.0010030683760302729,0.001003139522724454,0.0010032106795120868,0.0010032818463953197,0.0010033530233763011,0.0010034242104571803,0.0010034954076401073,0.0010035666149272322,0.0010036378323207066,0.0010037090598226822,0.0010037802974353109,0.001003851545160746,0.001003922803001141,0.00100399407095865,0.001004065349035428,0.0010041366372336299,0.0010042079355554122,0.0010042792440029312,0.0010043505625783444,0.0010044218912838095,0.0010044932301214848,0.0010045645790935295,0.0010046359382021035,0.0010047073074493668,0.0010047786868374803,0.0010048500763686057,0.001004921476044905,0.0010049928858685412,0.0010050643058416775,0.0010051357359664775,0.0010052071762451063,0.0010052786266797292,0.0010053500872725116,0.0010054215580256201,0.0010054930389412219,0.0010055645300214846,0.0010056360312685763,0.001005707542684666,0.0010057790642719236,0.0010058505960325189,0.0010059221379686224,0.001005993690082406,0.0010060652523760415,0.0010061368248517016,0.0010062084075115592,0.0010062800003577885,0.0010063516033925637,0.00100642321661806,0.0010064948400364535,0.0010065664736499198,0.0010066381174606363,0.0010067097714707804,0.0010067814356825306,0.0010068531100980655,0.0010069247947195642,0.0010069964895492072,0.0010070681945891751,0.001007139909841649,0.001007211635308811],\"type\":\"scatter\"}],                        {\"template\":{\"data\":{\"barpolar\":[{\"marker\":{\"line\":{\"color\":\"rgb(17,17,17)\",\"width\":0.5},\"pattern\":{\"fillmode\":\"overlay\",\"size\":10,\"solidity\":0.2}},\"type\":\"barpolar\"}],\"bar\":[{\"error_x\":{\"color\":\"#f2f5fa\"},\"error_y\":{\"color\":\"#f2f5fa\"},\"marker\":{\"line\":{\"color\":\"rgb(17,17,17)\",\"width\":0.5},\"pattern\":{\"fillmode\":\"overlay\",\"size\":10,\"solidity\":0.2}},\"type\":\"bar\"}],\"carpet\":[{\"aaxis\":{\"endlinecolor\":\"#A2B1C6\",\"gridcolor\":\"#506784\",\"linecolor\":\"#506784\",\"minorgridcolor\":\"#506784\",\"startlinecolor\":\"#A2B1C6\"},\"baxis\":{\"endlinecolor\":\"#A2B1C6\",\"gridcolor\":\"#506784\",\"linecolor\":\"#506784\",\"minorgridcolor\":\"#506784\",\"startlinecolor\":\"#A2B1C6\"},\"type\":\"carpet\"}],\"choropleth\":[{\"colorbar\":{\"outlinewidth\":0,\"ticks\":\"\"},\"type\":\"choropleth\"}],\"contourcarpet\":[{\"colorbar\":{\"outlinewidth\":0,\"ticks\":\"\"},\"type\":\"contourcarpet\"}],\"contour\":[{\"colorbar\":{\"outlinewidth\":0,\"ticks\":\"\"},\"colorscale\":[[0.0,\"#0d0887\"],[0.1111111111111111,\"#46039f\"],[0.2222222222222222,\"#7201a8\"],[0.3333333333333333,\"#9c179e\"],[0.4444444444444444,\"#bd3786\"],[0.5555555555555556,\"#d8576b\"],[0.6666666666666666,\"#ed7953\"],[0.7777777777777778,\"#fb9f3a\"],[0.8888888888888888,\"#fdca26\"],[1.0,\"#f0f921\"]],\"type\":\"contour\"}],\"heatmapgl\":[{\"colorbar\":{\"outlinewidth\":0,\"ticks\":\"\"},\"colorscale\":[[0.0,\"#0d0887\"],[0.1111111111111111,\"#46039f\"],[0.2222222222222222,\"#7201a8\"],[0.3333333333333333,\"#9c179e\"],[0.4444444444444444,\"#bd3786\"],[0.5555555555555556,\"#d8576b\"],[0.6666666666666666,\"#ed7953\"],[0.7777777777777778,\"#fb9f3a\"],[0.8888888888888888,\"#fdca26\"],[1.0,\"#f0f921\"]],\"type\":\"heatmapgl\"}],\"heatmap\":[{\"colorbar\":{\"outlinewidth\":0,\"ticks\":\"\"},\"colorscale\":[[0.0,\"#0d0887\"],[0.1111111111111111,\"#46039f\"],[0.2222222222222222,\"#7201a8\"],[0.3333333333333333,\"#9c179e\"],[0.4444444444444444,\"#bd3786\"],[0.5555555555555556,\"#d8576b\"],[0.6666666666666666,\"#ed7953\"],[0.7777777777777778,\"#fb9f3a\"],[0.8888888888888888,\"#fdca26\"],[1.0,\"#f0f921\"]],\"type\":\"heatmap\"}],\"histogram2dcontour\":[{\"colorbar\":{\"outlinewidth\":0,\"ticks\":\"\"},\"colorscale\":[[0.0,\"#0d0887\"],[0.1111111111111111,\"#46039f\"],[0.2222222222222222,\"#7201a8\"],[0.3333333333333333,\"#9c179e\"],[0.4444444444444444,\"#bd3786\"],[0.5555555555555556,\"#d8576b\"],[0.6666666666666666,\"#ed7953\"],[0.7777777777777778,\"#fb9f3a\"],[0.8888888888888888,\"#fdca26\"],[1.0,\"#f0f921\"]],\"type\":\"histogram2dcontour\"}],\"histogram2d\":[{\"colorbar\":{\"outlinewidth\":0,\"ticks\":\"\"},\"colorscale\":[[0.0,\"#0d0887\"],[0.1111111111111111,\"#46039f\"],[0.2222222222222222,\"#7201a8\"],[0.3333333333333333,\"#9c179e\"],[0.4444444444444444,\"#bd3786\"],[0.5555555555555556,\"#d8576b\"],[0.6666666666666666,\"#ed7953\"],[0.7777777777777778,\"#fb9f3a\"],[0.8888888888888888,\"#fdca26\"],[1.0,\"#f0f921\"]],\"type\":\"histogram2d\"}],\"histogram\":[{\"marker\":{\"pattern\":{\"fillmode\":\"overlay\",\"size\":10,\"solidity\":0.2}},\"type\":\"histogram\"}],\"mesh3d\":[{\"colorbar\":{\"outlinewidth\":0,\"ticks\":\"\"},\"type\":\"mesh3d\"}],\"parcoords\":[{\"line\":{\"colorbar\":{\"outlinewidth\":0,\"ticks\":\"\"}},\"type\":\"parcoords\"}],\"pie\":[{\"automargin\":true,\"type\":\"pie\"}],\"scatter3d\":[{\"line\":{\"colorbar\":{\"outlinewidth\":0,\"ticks\":\"\"}},\"marker\":{\"colorbar\":{\"outlinewidth\":0,\"ticks\":\"\"}},\"type\":\"scatter3d\"}],\"scattercarpet\":[{\"marker\":{\"colorbar\":{\"outlinewidth\":0,\"ticks\":\"\"}},\"type\":\"scattercarpet\"}],\"scattergeo\":[{\"marker\":{\"colorbar\":{\"outlinewidth\":0,\"ticks\":\"\"}},\"type\":\"scattergeo\"}],\"scattergl\":[{\"marker\":{\"line\":{\"color\":\"#283442\"}},\"type\":\"scattergl\"}],\"scattermapbox\":[{\"marker\":{\"colorbar\":{\"outlinewidth\":0,\"ticks\":\"\"}},\"type\":\"scattermapbox\"}],\"scatterpolargl\":[{\"marker\":{\"colorbar\":{\"outlinewidth\":0,\"ticks\":\"\"}},\"type\":\"scatterpolargl\"}],\"scatterpolar\":[{\"marker\":{\"colorbar\":{\"outlinewidth\":0,\"ticks\":\"\"}},\"type\":\"scatterpolar\"}],\"scatter\":[{\"marker\":{\"line\":{\"color\":\"#283442\"}},\"type\":\"scatter\"}],\"scatterternary\":[{\"marker\":{\"colorbar\":{\"outlinewidth\":0,\"ticks\":\"\"}},\"type\":\"scatterternary\"}],\"surface\":[{\"colorbar\":{\"outlinewidth\":0,\"ticks\":\"\"},\"colorscale\":[[0.0,\"#0d0887\"],[0.1111111111111111,\"#46039f\"],[0.2222222222222222,\"#7201a8\"],[0.3333333333333333,\"#9c179e\"],[0.4444444444444444,\"#bd3786\"],[0.5555555555555556,\"#d8576b\"],[0.6666666666666666,\"#ed7953\"],[0.7777777777777778,\"#fb9f3a\"],[0.8888888888888888,\"#fdca26\"],[1.0,\"#f0f921\"]],\"type\":\"surface\"}],\"table\":[{\"cells\":{\"fill\":{\"color\":\"#506784\"},\"line\":{\"color\":\"rgb(17,17,17)\"}},\"header\":{\"fill\":{\"color\":\"#2a3f5f\"},\"line\":{\"color\":\"rgb(17,17,17)\"}},\"type\":\"table\"}]},\"layout\":{\"annotationdefaults\":{\"arrowcolor\":\"#f2f5fa\",\"arrowhead\":0,\"arrowwidth\":1},\"autotypenumbers\":\"strict\",\"coloraxis\":{\"colorbar\":{\"outlinewidth\":0,\"ticks\":\"\"}},\"colorscale\":{\"diverging\":[[0,\"#8e0152\"],[0.1,\"#c51b7d\"],[0.2,\"#de77ae\"],[0.3,\"#f1b6da\"],[0.4,\"#fde0ef\"],[0.5,\"#f7f7f7\"],[0.6,\"#e6f5d0\"],[0.7,\"#b8e186\"],[0.8,\"#7fbc41\"],[0.9,\"#4d9221\"],[1,\"#276419\"]],\"sequential\":[[0.0,\"#0d0887\"],[0.1111111111111111,\"#46039f\"],[0.2222222222222222,\"#7201a8\"],[0.3333333333333333,\"#9c179e\"],[0.4444444444444444,\"#bd3786\"],[0.5555555555555556,\"#d8576b\"],[0.6666666666666666,\"#ed7953\"],[0.7777777777777778,\"#fb9f3a\"],[0.8888888888888888,\"#fdca26\"],[1.0,\"#f0f921\"]],\"sequentialminus\":[[0.0,\"#0d0887\"],[0.1111111111111111,\"#46039f\"],[0.2222222222222222,\"#7201a8\"],[0.3333333333333333,\"#9c179e\"],[0.4444444444444444,\"#bd3786\"],[0.5555555555555556,\"#d8576b\"],[0.6666666666666666,\"#ed7953\"],[0.7777777777777778,\"#fb9f3a\"],[0.8888888888888888,\"#fdca26\"],[1.0,\"#f0f921\"]]},\"colorway\":[\"#636efa\",\"#EF553B\",\"#00cc96\",\"#ab63fa\",\"#FFA15A\",\"#19d3f3\",\"#FF6692\",\"#B6E880\",\"#FF97FF\",\"#FECB52\"],\"font\":{\"color\":\"#f2f5fa\"},\"geo\":{\"bgcolor\":\"rgb(17,17,17)\",\"lakecolor\":\"rgb(17,17,17)\",\"landcolor\":\"rgb(17,17,17)\",\"showlakes\":true,\"showland\":true,\"subunitcolor\":\"#506784\"},\"hoverlabel\":{\"align\":\"left\"},\"hovermode\":\"closest\",\"mapbox\":{\"style\":\"dark\"},\"paper_bgcolor\":\"rgb(17,17,17)\",\"plot_bgcolor\":\"rgb(17,17,17)\",\"polar\":{\"angularaxis\":{\"gridcolor\":\"#506784\",\"linecolor\":\"#506784\",\"ticks\":\"\"},\"bgcolor\":\"rgb(17,17,17)\",\"radialaxis\":{\"gridcolor\":\"#506784\",\"linecolor\":\"#506784\",\"ticks\":\"\"}},\"scene\":{\"xaxis\":{\"backgroundcolor\":\"rgb(17,17,17)\",\"gridcolor\":\"#506784\",\"gridwidth\":2,\"linecolor\":\"#506784\",\"showbackground\":true,\"ticks\":\"\",\"zerolinecolor\":\"#C8D4E3\"},\"yaxis\":{\"backgroundcolor\":\"rgb(17,17,17)\",\"gridcolor\":\"#506784\",\"gridwidth\":2,\"linecolor\":\"#506784\",\"showbackground\":true,\"ticks\":\"\",\"zerolinecolor\":\"#C8D4E3\"},\"zaxis\":{\"backgroundcolor\":\"rgb(17,17,17)\",\"gridcolor\":\"#506784\",\"gridwidth\":2,\"linecolor\":\"#506784\",\"showbackground\":true,\"ticks\":\"\",\"zerolinecolor\":\"#C8D4E3\"}},\"shapedefaults\":{\"line\":{\"color\":\"#f2f5fa\"}},\"sliderdefaults\":{\"bgcolor\":\"#C8D4E3\",\"bordercolor\":\"rgb(17,17,17)\",\"borderwidth\":1,\"tickwidth\":0},\"ternary\":{\"aaxis\":{\"gridcolor\":\"#506784\",\"linecolor\":\"#506784\",\"ticks\":\"\"},\"baxis\":{\"gridcolor\":\"#506784\",\"linecolor\":\"#506784\",\"ticks\":\"\"},\"bgcolor\":\"rgb(17,17,17)\",\"caxis\":{\"gridcolor\":\"#506784\",\"linecolor\":\"#506784\",\"ticks\":\"\"}},\"title\":{\"x\":0.05},\"updatemenudefaults\":{\"bgcolor\":\"#506784\",\"borderwidth\":0},\"xaxis\":{\"automargin\":true,\"gridcolor\":\"#283442\",\"linecolor\":\"#506784\",\"ticks\":\"\",\"title\":{\"standoff\":15},\"zerolinecolor\":\"#283442\",\"zerolinewidth\":2},\"yaxis\":{\"automargin\":true,\"gridcolor\":\"#283442\",\"linecolor\":\"#506784\",\"ticks\":\"\",\"title\":{\"standoff\":15},\"zerolinecolor\":\"#283442\",\"zerolinewidth\":2}}},\"title\":{\"text\":\"Volumen Espec\\u00edfico del Agua vs. Temperatura\"},\"xaxis\":{\"title\":{\"text\":\"Temperatura (\\u00b0C)\"}},\"yaxis\":{\"title\":{\"text\":\"Volumen Espec\\u00edfico (m\\u00b3\\u002fkg)\"}}},                        {\"responsive\": true}                    ).then(function(){\n",
       "                            \n",
       "var gd = document.getElementById('9258521e-b787-45c7-99f3-be94cc9d6751');\n",
       "var x = new MutationObserver(function (mutations, observer) {{\n",
       "        var display = window.getComputedStyle(gd).display;\n",
       "        if (!display || display === 'none') {{\n",
       "            console.log([gd, 'removed!']);\n",
       "            Plotly.purge(gd);\n",
       "            observer.disconnect();\n",
       "        }}\n",
       "}});\n",
       "\n",
       "// Listen for the removal of the full notebook cells\n",
       "var notebookContainer = gd.closest('#notebook-container');\n",
       "if (notebookContainer) {{\n",
       "    x.observe(notebookContainer, {childList: true});\n",
       "}}\n",
       "\n",
       "// Listen for the clearing of the current output cell\n",
       "var outputEl = gd.closest('.output');\n",
       "if (outputEl) {{\n",
       "    x.observe(outputEl, {childList: true});\n",
       "}}\n",
       "\n",
       "                        })                };                });            </script>        </div>"
      ]
     },
     "metadata": {},
     "output_type": "display_data"
    }
   ],
   "source": [
    "import numpy as np\n",
    "import plotly.graph_objects as go\n",
    "\n",
    "# Datos de temperatura en °C\n",
    "temperaturas = np.linspace(0, 100, 100)\n",
    "\n",
    "# Propiedades del agua en función de la temperatura (valores aproximados)\n",
    "densidad = 999.84 - 0.07 * temperaturas  # kg/m³\n",
    "peso_especifico = densidad * 9.81  # N/m³\n",
    "volumen_especifico = 1 / densidad  # m³/kg\n",
    "\n",
    "# Crear la figura combinada para densidad y peso específico\n",
    "fig1 = go.Figure()\n",
    "fig1.add_trace(go.Scatter(x=temperaturas, y=densidad, mode='lines+markers', name='Densidad (kg/m³)', line=dict(color='blue'), yaxis='y1'))\n",
    "fig1.add_trace(go.Scatter(x=temperaturas, y=peso_especifico, mode='lines+markers', name='Peso Específico (N/m³)', line=dict(color='red'), yaxis='y2'))\n",
    "\n",
    "fig1.update_layout(\n",
    "    title='Densidad y Peso Específico del Agua vs. Temperatura',\n",
    "    xaxis_title='Temperatura (°C)',\n",
    "    yaxis=dict(title='Densidad (kg/m³)', side='left', color='blue', showgrid=False),\n",
    "    yaxis2=dict(title='Peso Específico (N/m³)', side='right', overlaying='y', color='red', showgrid=False),\n",
    "    template='plotly_dark'\n",
    ")\n",
    "\n",
    "# Crear la figura para el volumen específico\n",
    "fig2 = go.Figure()\n",
    "fig2.add_trace(go.Scatter(x=temperaturas, y=volumen_especifico, mode='lines+markers', name='Volumen Específico (m³/kg)', line=dict(color='green')))\n",
    "fig2.update_layout(title='Volumen Específico del Agua vs. Temperatura', xaxis_title='Temperatura (°C)', yaxis_title='Volumen Específico (m³/kg)', template='plotly_dark')\n",
    "\n",
    "# Mostrar las gráficas\n",
    "fig1.show()\n",
    "fig2.show()\n"
   ]
  },
  {
   "cell_type": "markdown",
   "id": "3859980e-1f3d-4443-8fcf-a59b4c811554",
   "metadata": {},
   "source": [
    "### Viscosidad absoluta y viscosidad cinemática\n",
    "\n",
    "La *viscosidad* de un fluido es una medida de su resistencia a fluir, como resultado de la interacción y cohesión de sus moléculas. La siguiente figura muestra la simulación de dos fluidos con diferentes viscosidades:\n",
    "\n",
    "\n",
    "<figure style=\"text-align: center;\">\n",
    "    <img src=\"img/viscosidad_3.gif\" width=\"350\" alt=\"Fluidos con diferentes viscosidades\">\n",
    "    <figcaption>\n",
    "        <p><strong>Descripción:</strong> Fluido con diferentes viscosidades</p>\n",
    "        <p><strong>Fuente:</strong> https://es.wikipedia.org/wiki/Viscosidad</p>\n",
    "    </figcaption>\n",
    "</figure>\n",
    "\n",
    "Si se considera el movimiento de un flujo sobre una frontera sólida fija (como el mostrado en la siguiente figura), donde las partículas se mueven en líneas rectas paralelas, se puede suponer que el flujo se produce en forma de capas o laminas de espesor diferencial cuyas velocidades varían con la distancia $y$, normal a dicha frontera.\n",
    "\n",
    "<figure style=\"text-align: center;\">\n",
    "    <img src=\"img/viscosidad_1.png\" width=\"350\" alt=\"Perfil de velocidades de un fluido\">\n",
    "    <figcaption>\n",
    "        <p><strong>Descripción:</strong> Perfil de velocidades de un fluido Newtoniano</p>\n",
    "        <p><strong>Fuente:</strong> https://es.wikipedia.org/wiki/Viscosidad</p>\n",
    "    </figcaption>\n",
    "</figure>\n",
    "\n",
    "Según Newton, el esfuerzo tangencial que se produce entre dos láminas separadas por una distancia $dy$, y que se desplazan con velocidades $v$ y $v + \\left( \\frac{\\partial v}{\\partial y} \\right) dy$, se puede estimar mediante la expresión:\n",
    "\n",
    "$$\n",
    "    \\tau = \\mu \\frac{\\partial v}{\\partial y}\n",
    "$$\n",
    "\n",
    "Es decir, el esfuerzo tangencial es proporcional al gradiente transversal de velocidades. La constante proporcional $\\mu$ es una magnitud característica de la viscosidad del fluido y se conoce como viscosidad dinámica. De acuerdo con el perfil de velocidades en la Figura, el esfuerzo tangencial es mayor entre el fluido cercano a las paredes.\n",
    "\n",
    "Las dimensiones de la viscosidad dinámica, en el sistema absoluto, son $[ML^{-1}T^{-1}]$. Una unidad también utilizada para medir el grado de viscosidad es el poise en honor a Poiseuille. La equivalencia de los poise con el Sistema Internacional de unidades es:\n",
    "\n",
    "$$\n",
    "    1 \\, \\text{poise} = 1 \\, \\frac{g_m}{cm \\, \\text{seg}}\n",
    "$$\n",
    "\n",
    "donde también:\n",
    "\n",
    "$$\n",
    "    1 \\, \\frac{kg \\, \\text{seg}}{m^2} = 98.0665 \\, \\frac{g_m}{cm \\, \\text{seg}}\n",
    "$$\n",
    "\n",
    "Para los cálculos prácticos es más conveniente relacionar la viscosidad dinámica de un fluido y su densidad, por medio de la expresión:\n",
    "\n",
    "$$\n",
    "    \\nu = \\frac{\\mu}{\\rho}\n",
    "$$\n",
    "\n",
    "donde $\\nu$ es la viscosidad cinemática.\n",
    "\n",
    "La ventaja de usar esta nueva propiedad es debido a que sus dimensiones $[L^2T^{-1}]$ son independientes a los conceptos de masa y fuerza. En el sistema CGS se emplea comúnmente la unidad:\n",
    "\n",
    "$$\n",
    "    1 \\, \\text{stokes} = 1 \\, \\frac{cm^2}{\\text{seg}} = 0.0001 \\, \\frac{m^2}{\\text{seg}}\n",
    "$$\n",
    "\n",
    "La viscosidad es función principalmente de la temperatura y la presión. La dependencia a la presión es prácticamente despreciable en los líquidos y pequeña o despreciable en los gases, a menos que sea muy alta. En tanto que la viscosidad en los líquidos disminuye con la temperatura, en los gases aumenta. Por ejemplo para el agua y el aire se observa el siguiente comportamiento:\n"
   ]
  },
  {
   "cell_type": "code",
   "execution_count": 9,
   "id": "ea62441a-641c-4a82-9dfc-6dfdd70ae93c",
   "metadata": {},
   "outputs": [
    {
     "data": {
      "application/vnd.plotly.v1+json": {
       "config": {
        "plotlyServerURL": "https://plot.ly"
       },
       "data": [
        {
         "line": {
          "color": "cyan"
         },
         "mode": "lines+markers",
         "name": "Viscosidad Agua (Pa·s)",
         "type": "scatter",
         "x": [
          0,
          1.0101010101010102,
          2.0202020202020203,
          3.0303030303030303,
          4.040404040404041,
          5.050505050505051,
          6.0606060606060606,
          7.070707070707071,
          8.080808080808081,
          9.090909090909092,
          10.101010101010102,
          11.111111111111112,
          12.121212121212121,
          13.131313131313131,
          14.141414141414142,
          15.151515151515152,
          16.161616161616163,
          17.171717171717173,
          18.181818181818183,
          19.191919191919194,
          20.202020202020204,
          21.212121212121215,
          22.222222222222225,
          23.232323232323235,
          24.242424242424242,
          25.252525252525253,
          26.262626262626263,
          27.272727272727273,
          28.282828282828284,
          29.292929292929294,
          30.303030303030305,
          31.313131313131315,
          32.323232323232325,
          33.333333333333336,
          34.343434343434346,
          35.35353535353536,
          36.36363636363637,
          37.37373737373738,
          38.38383838383839,
          39.3939393939394,
          40.40404040404041,
          41.41414141414142,
          42.42424242424243,
          43.43434343434344,
          44.44444444444445,
          45.45454545454546,
          46.46464646464647,
          47.47474747474748,
          48.484848484848484,
          49.494949494949495,
          50.505050505050505,
          51.515151515151516,
          52.525252525252526,
          53.535353535353536,
          54.54545454545455,
          55.55555555555556,
          56.56565656565657,
          57.57575757575758,
          58.58585858585859,
          59.5959595959596,
          60.60606060606061,
          61.61616161616162,
          62.62626262626263,
          63.63636363636364,
          64.64646464646465,
          65.65656565656566,
          66.66666666666667,
          67.67676767676768,
          68.68686868686869,
          69.6969696969697,
          70.70707070707071,
          71.71717171717172,
          72.72727272727273,
          73.73737373737374,
          74.74747474747475,
          75.75757575757576,
          76.76767676767678,
          77.77777777777779,
          78.7878787878788,
          79.7979797979798,
          80.80808080808082,
          81.81818181818183,
          82.82828282828284,
          83.83838383838385,
          84.84848484848486,
          85.85858585858587,
          86.86868686868688,
          87.87878787878789,
          88.8888888888889,
          89.89898989898991,
          90.90909090909092,
          91.91919191919193,
          92.92929292929294,
          93.93939393939395,
          94.94949494949496,
          95.95959595959597,
          96.96969696969697,
          97.97979797979798,
          98.98989898989899,
          100
         ],
         "y": [
          0.00179,
          0.0017538383838383838,
          0.0017176767676767674,
          0.0016815151515151515,
          0.0016453535353535354,
          0.0016091919191919192,
          0.001573030303030303,
          0.0015368686868686868,
          0.0015007070707070706,
          0.0014645454545454545,
          0.0014283838383838383,
          0.001392222222222222,
          0.001356060606060606,
          0.0013198989898989897,
          0.0012837373737373736,
          0.0012475757575757577,
          0.0012114141414141413,
          0.0011752525252525252,
          0.0011390909090909088,
          0.001102929292929293,
          0.0010667676767676766,
          0.0010306060606060604,
          0.0009944444444444443,
          0.000958282828282828,
          0.000922121212121212,
          0.0008859595959595959,
          0.0008497979797979796,
          0.0008136363636363635,
          0.0007774747474747475,
          0.0007413131313131313,
          0.0007051515151515151,
          0.000668989898989899,
          0.0006328282828282827,
          0.0005966666666666665,
          0.0005605050505050503,
          0.0005243434343434341,
          0.00048818181818181794,
          0.0004520202020202019,
          0.0004158585858585857,
          0.00037969696969696954,
          0.00034353535353535335,
          0.00030737373737373716,
          0.00027121212121212097,
          0.00023505050505050478,
          0.00019888888888888856,
          0.00016272727272727258,
          0.0001265656565656564,
          9.040404040404019e-05,
          5.424242424242419e-05,
          1.8080808080807997e-05,
          -1.8080808080808197e-05,
          -5.424242424242419e-05,
          -9.040404040404058e-05,
          -0.00012656565656565658,
          -0.00016272727272727296,
          -0.00019888888888888896,
          -0.00023505050505050497,
          -0.00027121212121212135,
          -0.00030737373737373737,
          -0.0003435353535353537,
          -0.00037969696969696975,
          -0.00041585858585858616,
          -0.00045202020202020213,
          -0.00048818181818181854,
          -0.0005243434343434345,
          -0.0005605050505050505,
          -0.0005966666666666669,
          -0.0006328282828282829,
          -0.0006689898989898993,
          -0.0007051515151515153,
          -0.0007413131313131317,
          -0.0007774747474747477,
          -0.000813636363636364,
          -0.0008497979797979801,
          -0.0008859595959595961,
          -0.0009221212121212124,
          -0.0009582828282828285,
          -0.000994444444444445,
          -0.0010306060606060609,
          -0.0010667676767676772,
          -0.0011029292929292931,
          -0.0011390909090909097,
          -0.0011752525252525256,
          -0.0012114141414141415,
          -0.001247575757575758,
          -0.001283737373737374,
          -0.0013198989898989904,
          -0.0013560606060606063,
          -0.0013922222222222229,
          -0.0014283838383838388,
          -0.0014645454545454547,
          -0.0015007070707070713,
          -0.0015368686868686872,
          -0.0015730303030303035,
          -0.0016091919191919195,
          -0.001645353535353536,
          -0.0016815151515151515,
          -0.0017176767676767674,
          -0.001753838383838384,
          -0.00179
         ],
         "yaxis": "y"
        },
        {
         "line": {
          "color": "blue"
         },
         "mode": "lines+markers",
         "name": "Densidad Agua (kg/m³)",
         "type": "scatter",
         "x": [
          0,
          1.0101010101010102,
          2.0202020202020203,
          3.0303030303030303,
          4.040404040404041,
          5.050505050505051,
          6.0606060606060606,
          7.070707070707071,
          8.080808080808081,
          9.090909090909092,
          10.101010101010102,
          11.111111111111112,
          12.121212121212121,
          13.131313131313131,
          14.141414141414142,
          15.151515151515152,
          16.161616161616163,
          17.171717171717173,
          18.181818181818183,
          19.191919191919194,
          20.202020202020204,
          21.212121212121215,
          22.222222222222225,
          23.232323232323235,
          24.242424242424242,
          25.252525252525253,
          26.262626262626263,
          27.272727272727273,
          28.282828282828284,
          29.292929292929294,
          30.303030303030305,
          31.313131313131315,
          32.323232323232325,
          33.333333333333336,
          34.343434343434346,
          35.35353535353536,
          36.36363636363637,
          37.37373737373738,
          38.38383838383839,
          39.3939393939394,
          40.40404040404041,
          41.41414141414142,
          42.42424242424243,
          43.43434343434344,
          44.44444444444445,
          45.45454545454546,
          46.46464646464647,
          47.47474747474748,
          48.484848484848484,
          49.494949494949495,
          50.505050505050505,
          51.515151515151516,
          52.525252525252526,
          53.535353535353536,
          54.54545454545455,
          55.55555555555556,
          56.56565656565657,
          57.57575757575758,
          58.58585858585859,
          59.5959595959596,
          60.60606060606061,
          61.61616161616162,
          62.62626262626263,
          63.63636363636364,
          64.64646464646465,
          65.65656565656566,
          66.66666666666667,
          67.67676767676768,
          68.68686868686869,
          69.6969696969697,
          70.70707070707071,
          71.71717171717172,
          72.72727272727273,
          73.73737373737374,
          74.74747474747475,
          75.75757575757576,
          76.76767676767678,
          77.77777777777779,
          78.7878787878788,
          79.7979797979798,
          80.80808080808082,
          81.81818181818183,
          82.82828282828284,
          83.83838383838385,
          84.84848484848486,
          85.85858585858587,
          86.86868686868688,
          87.87878787878789,
          88.8888888888889,
          89.89898989898991,
          90.90909090909092,
          91.91919191919193,
          92.92929292929294,
          93.93939393939395,
          94.94949494949496,
          95.95959595959597,
          96.96969696969697,
          97.97979797979798,
          98.98989898989899,
          100
         ],
         "y": [
          999.84,
          999.769292929293,
          999.698585858586,
          999.6278787878788,
          999.5571717171717,
          999.4864646464647,
          999.4157575757577,
          999.3450505050505,
          999.2743434343435,
          999.2036363636364,
          999.1329292929294,
          999.0622222222222,
          998.9915151515152,
          998.9208080808081,
          998.8501010101011,
          998.779393939394,
          998.7086868686869,
          998.6379797979798,
          998.5672727272728,
          998.4965656565657,
          998.4258585858586,
          998.3551515151515,
          998.2844444444445,
          998.2137373737374,
          998.1430303030303,
          998.0723232323232,
          998.0016161616162,
          997.9309090909092,
          997.860202020202,
          997.789494949495,
          997.7187878787879,
          997.6480808080809,
          997.5773737373738,
          997.5066666666667,
          997.4359595959596,
          997.3652525252526,
          997.2945454545455,
          997.2238383838384,
          997.1531313131313,
          997.0824242424243,
          997.0117171717172,
          996.9410101010101,
          996.870303030303,
          996.799595959596,
          996.728888888889,
          996.6581818181819,
          996.5874747474747,
          996.5167676767677,
          996.4460606060607,
          996.3753535353536,
          996.3046464646465,
          996.2339393939394,
          996.1632323232324,
          996.0925252525253,
          996.0218181818182,
          995.9511111111111,
          995.8804040404041,
          995.809696969697,
          995.73898989899,
          995.6682828282828,
          995.5975757575758,
          995.5268686868687,
          995.4561616161617,
          995.3854545454545,
          995.3147474747475,
          995.2440404040404,
          995.1733333333334,
          995.1026262626262,
          995.0319191919192,
          994.9612121212122,
          994.8905050505051,
          994.8197979797981,
          994.7490909090909,
          994.6783838383839,
          994.6076767676768,
          994.5369696969698,
          994.4662626262626,
          994.3955555555556,
          994.3248484848485,
          994.2541414141415,
          994.1834343434343,
          994.1127272727273,
          994.0420202020202,
          993.9713131313132,
          993.900606060606,
          993.829898989899,
          993.759191919192,
          993.6884848484849,
          993.6177777777779,
          993.5470707070707,
          993.4763636363637,
          993.4056565656566,
          993.3349494949496,
          993.2642424242424,
          993.1935353535354,
          993.1228282828283,
          993.0521212121213,
          992.9814141414141,
          992.9107070707071,
          992.84
         ],
         "yaxis": "y2"
        }
       ],
       "layout": {
        "template": {
         "data": {
          "bar": [
           {
            "error_x": {
             "color": "#f2f5fa"
            },
            "error_y": {
             "color": "#f2f5fa"
            },
            "marker": {
             "line": {
              "color": "rgb(17,17,17)",
              "width": 0.5
             },
             "pattern": {
              "fillmode": "overlay",
              "size": 10,
              "solidity": 0.2
             }
            },
            "type": "bar"
           }
          ],
          "barpolar": [
           {
            "marker": {
             "line": {
              "color": "rgb(17,17,17)",
              "width": 0.5
             },
             "pattern": {
              "fillmode": "overlay",
              "size": 10,
              "solidity": 0.2
             }
            },
            "type": "barpolar"
           }
          ],
          "carpet": [
           {
            "aaxis": {
             "endlinecolor": "#A2B1C6",
             "gridcolor": "#506784",
             "linecolor": "#506784",
             "minorgridcolor": "#506784",
             "startlinecolor": "#A2B1C6"
            },
            "baxis": {
             "endlinecolor": "#A2B1C6",
             "gridcolor": "#506784",
             "linecolor": "#506784",
             "minorgridcolor": "#506784",
             "startlinecolor": "#A2B1C6"
            },
            "type": "carpet"
           }
          ],
          "choropleth": [
           {
            "colorbar": {
             "outlinewidth": 0,
             "ticks": ""
            },
            "type": "choropleth"
           }
          ],
          "contour": [
           {
            "colorbar": {
             "outlinewidth": 0,
             "ticks": ""
            },
            "colorscale": [
             [
              0,
              "#0d0887"
             ],
             [
              0.1111111111111111,
              "#46039f"
             ],
             [
              0.2222222222222222,
              "#7201a8"
             ],
             [
              0.3333333333333333,
              "#9c179e"
             ],
             [
              0.4444444444444444,
              "#bd3786"
             ],
             [
              0.5555555555555556,
              "#d8576b"
             ],
             [
              0.6666666666666666,
              "#ed7953"
             ],
             [
              0.7777777777777778,
              "#fb9f3a"
             ],
             [
              0.8888888888888888,
              "#fdca26"
             ],
             [
              1,
              "#f0f921"
             ]
            ],
            "type": "contour"
           }
          ],
          "contourcarpet": [
           {
            "colorbar": {
             "outlinewidth": 0,
             "ticks": ""
            },
            "type": "contourcarpet"
           }
          ],
          "heatmap": [
           {
            "colorbar": {
             "outlinewidth": 0,
             "ticks": ""
            },
            "colorscale": [
             [
              0,
              "#0d0887"
             ],
             [
              0.1111111111111111,
              "#46039f"
             ],
             [
              0.2222222222222222,
              "#7201a8"
             ],
             [
              0.3333333333333333,
              "#9c179e"
             ],
             [
              0.4444444444444444,
              "#bd3786"
             ],
             [
              0.5555555555555556,
              "#d8576b"
             ],
             [
              0.6666666666666666,
              "#ed7953"
             ],
             [
              0.7777777777777778,
              "#fb9f3a"
             ],
             [
              0.8888888888888888,
              "#fdca26"
             ],
             [
              1,
              "#f0f921"
             ]
            ],
            "type": "heatmap"
           }
          ],
          "heatmapgl": [
           {
            "colorbar": {
             "outlinewidth": 0,
             "ticks": ""
            },
            "colorscale": [
             [
              0,
              "#0d0887"
             ],
             [
              0.1111111111111111,
              "#46039f"
             ],
             [
              0.2222222222222222,
              "#7201a8"
             ],
             [
              0.3333333333333333,
              "#9c179e"
             ],
             [
              0.4444444444444444,
              "#bd3786"
             ],
             [
              0.5555555555555556,
              "#d8576b"
             ],
             [
              0.6666666666666666,
              "#ed7953"
             ],
             [
              0.7777777777777778,
              "#fb9f3a"
             ],
             [
              0.8888888888888888,
              "#fdca26"
             ],
             [
              1,
              "#f0f921"
             ]
            ],
            "type": "heatmapgl"
           }
          ],
          "histogram": [
           {
            "marker": {
             "pattern": {
              "fillmode": "overlay",
              "size": 10,
              "solidity": 0.2
             }
            },
            "type": "histogram"
           }
          ],
          "histogram2d": [
           {
            "colorbar": {
             "outlinewidth": 0,
             "ticks": ""
            },
            "colorscale": [
             [
              0,
              "#0d0887"
             ],
             [
              0.1111111111111111,
              "#46039f"
             ],
             [
              0.2222222222222222,
              "#7201a8"
             ],
             [
              0.3333333333333333,
              "#9c179e"
             ],
             [
              0.4444444444444444,
              "#bd3786"
             ],
             [
              0.5555555555555556,
              "#d8576b"
             ],
             [
              0.6666666666666666,
              "#ed7953"
             ],
             [
              0.7777777777777778,
              "#fb9f3a"
             ],
             [
              0.8888888888888888,
              "#fdca26"
             ],
             [
              1,
              "#f0f921"
             ]
            ],
            "type": "histogram2d"
           }
          ],
          "histogram2dcontour": [
           {
            "colorbar": {
             "outlinewidth": 0,
             "ticks": ""
            },
            "colorscale": [
             [
              0,
              "#0d0887"
             ],
             [
              0.1111111111111111,
              "#46039f"
             ],
             [
              0.2222222222222222,
              "#7201a8"
             ],
             [
              0.3333333333333333,
              "#9c179e"
             ],
             [
              0.4444444444444444,
              "#bd3786"
             ],
             [
              0.5555555555555556,
              "#d8576b"
             ],
             [
              0.6666666666666666,
              "#ed7953"
             ],
             [
              0.7777777777777778,
              "#fb9f3a"
             ],
             [
              0.8888888888888888,
              "#fdca26"
             ],
             [
              1,
              "#f0f921"
             ]
            ],
            "type": "histogram2dcontour"
           }
          ],
          "mesh3d": [
           {
            "colorbar": {
             "outlinewidth": 0,
             "ticks": ""
            },
            "type": "mesh3d"
           }
          ],
          "parcoords": [
           {
            "line": {
             "colorbar": {
              "outlinewidth": 0,
              "ticks": ""
             }
            },
            "type": "parcoords"
           }
          ],
          "pie": [
           {
            "automargin": true,
            "type": "pie"
           }
          ],
          "scatter": [
           {
            "marker": {
             "line": {
              "color": "#283442"
             }
            },
            "type": "scatter"
           }
          ],
          "scatter3d": [
           {
            "line": {
             "colorbar": {
              "outlinewidth": 0,
              "ticks": ""
             }
            },
            "marker": {
             "colorbar": {
              "outlinewidth": 0,
              "ticks": ""
             }
            },
            "type": "scatter3d"
           }
          ],
          "scattercarpet": [
           {
            "marker": {
             "colorbar": {
              "outlinewidth": 0,
              "ticks": ""
             }
            },
            "type": "scattercarpet"
           }
          ],
          "scattergeo": [
           {
            "marker": {
             "colorbar": {
              "outlinewidth": 0,
              "ticks": ""
             }
            },
            "type": "scattergeo"
           }
          ],
          "scattergl": [
           {
            "marker": {
             "line": {
              "color": "#283442"
             }
            },
            "type": "scattergl"
           }
          ],
          "scattermapbox": [
           {
            "marker": {
             "colorbar": {
              "outlinewidth": 0,
              "ticks": ""
             }
            },
            "type": "scattermapbox"
           }
          ],
          "scatterpolar": [
           {
            "marker": {
             "colorbar": {
              "outlinewidth": 0,
              "ticks": ""
             }
            },
            "type": "scatterpolar"
           }
          ],
          "scatterpolargl": [
           {
            "marker": {
             "colorbar": {
              "outlinewidth": 0,
              "ticks": ""
             }
            },
            "type": "scatterpolargl"
           }
          ],
          "scatterternary": [
           {
            "marker": {
             "colorbar": {
              "outlinewidth": 0,
              "ticks": ""
             }
            },
            "type": "scatterternary"
           }
          ],
          "surface": [
           {
            "colorbar": {
             "outlinewidth": 0,
             "ticks": ""
            },
            "colorscale": [
             [
              0,
              "#0d0887"
             ],
             [
              0.1111111111111111,
              "#46039f"
             ],
             [
              0.2222222222222222,
              "#7201a8"
             ],
             [
              0.3333333333333333,
              "#9c179e"
             ],
             [
              0.4444444444444444,
              "#bd3786"
             ],
             [
              0.5555555555555556,
              "#d8576b"
             ],
             [
              0.6666666666666666,
              "#ed7953"
             ],
             [
              0.7777777777777778,
              "#fb9f3a"
             ],
             [
              0.8888888888888888,
              "#fdca26"
             ],
             [
              1,
              "#f0f921"
             ]
            ],
            "type": "surface"
           }
          ],
          "table": [
           {
            "cells": {
             "fill": {
              "color": "#506784"
             },
             "line": {
              "color": "rgb(17,17,17)"
             }
            },
            "header": {
             "fill": {
              "color": "#2a3f5f"
             },
             "line": {
              "color": "rgb(17,17,17)"
             }
            },
            "type": "table"
           }
          ]
         },
         "layout": {
          "annotationdefaults": {
           "arrowcolor": "#f2f5fa",
           "arrowhead": 0,
           "arrowwidth": 1
          },
          "autotypenumbers": "strict",
          "coloraxis": {
           "colorbar": {
            "outlinewidth": 0,
            "ticks": ""
           }
          },
          "colorscale": {
           "diverging": [
            [
             0,
             "#8e0152"
            ],
            [
             0.1,
             "#c51b7d"
            ],
            [
             0.2,
             "#de77ae"
            ],
            [
             0.3,
             "#f1b6da"
            ],
            [
             0.4,
             "#fde0ef"
            ],
            [
             0.5,
             "#f7f7f7"
            ],
            [
             0.6,
             "#e6f5d0"
            ],
            [
             0.7,
             "#b8e186"
            ],
            [
             0.8,
             "#7fbc41"
            ],
            [
             0.9,
             "#4d9221"
            ],
            [
             1,
             "#276419"
            ]
           ],
           "sequential": [
            [
             0,
             "#0d0887"
            ],
            [
             0.1111111111111111,
             "#46039f"
            ],
            [
             0.2222222222222222,
             "#7201a8"
            ],
            [
             0.3333333333333333,
             "#9c179e"
            ],
            [
             0.4444444444444444,
             "#bd3786"
            ],
            [
             0.5555555555555556,
             "#d8576b"
            ],
            [
             0.6666666666666666,
             "#ed7953"
            ],
            [
             0.7777777777777778,
             "#fb9f3a"
            ],
            [
             0.8888888888888888,
             "#fdca26"
            ],
            [
             1,
             "#f0f921"
            ]
           ],
           "sequentialminus": [
            [
             0,
             "#0d0887"
            ],
            [
             0.1111111111111111,
             "#46039f"
            ],
            [
             0.2222222222222222,
             "#7201a8"
            ],
            [
             0.3333333333333333,
             "#9c179e"
            ],
            [
             0.4444444444444444,
             "#bd3786"
            ],
            [
             0.5555555555555556,
             "#d8576b"
            ],
            [
             0.6666666666666666,
             "#ed7953"
            ],
            [
             0.7777777777777778,
             "#fb9f3a"
            ],
            [
             0.8888888888888888,
             "#fdca26"
            ],
            [
             1,
             "#f0f921"
            ]
           ]
          },
          "colorway": [
           "#636efa",
           "#EF553B",
           "#00cc96",
           "#ab63fa",
           "#FFA15A",
           "#19d3f3",
           "#FF6692",
           "#B6E880",
           "#FF97FF",
           "#FECB52"
          ],
          "font": {
           "color": "#f2f5fa"
          },
          "geo": {
           "bgcolor": "rgb(17,17,17)",
           "lakecolor": "rgb(17,17,17)",
           "landcolor": "rgb(17,17,17)",
           "showlakes": true,
           "showland": true,
           "subunitcolor": "#506784"
          },
          "hoverlabel": {
           "align": "left"
          },
          "hovermode": "closest",
          "mapbox": {
           "style": "dark"
          },
          "paper_bgcolor": "rgb(17,17,17)",
          "plot_bgcolor": "rgb(17,17,17)",
          "polar": {
           "angularaxis": {
            "gridcolor": "#506784",
            "linecolor": "#506784",
            "ticks": ""
           },
           "bgcolor": "rgb(17,17,17)",
           "radialaxis": {
            "gridcolor": "#506784",
            "linecolor": "#506784",
            "ticks": ""
           }
          },
          "scene": {
           "xaxis": {
            "backgroundcolor": "rgb(17,17,17)",
            "gridcolor": "#506784",
            "gridwidth": 2,
            "linecolor": "#506784",
            "showbackground": true,
            "ticks": "",
            "zerolinecolor": "#C8D4E3"
           },
           "yaxis": {
            "backgroundcolor": "rgb(17,17,17)",
            "gridcolor": "#506784",
            "gridwidth": 2,
            "linecolor": "#506784",
            "showbackground": true,
            "ticks": "",
            "zerolinecolor": "#C8D4E3"
           },
           "zaxis": {
            "backgroundcolor": "rgb(17,17,17)",
            "gridcolor": "#506784",
            "gridwidth": 2,
            "linecolor": "#506784",
            "showbackground": true,
            "ticks": "",
            "zerolinecolor": "#C8D4E3"
           }
          },
          "shapedefaults": {
           "line": {
            "color": "#f2f5fa"
           }
          },
          "sliderdefaults": {
           "bgcolor": "#C8D4E3",
           "bordercolor": "rgb(17,17,17)",
           "borderwidth": 1,
           "tickwidth": 0
          },
          "ternary": {
           "aaxis": {
            "gridcolor": "#506784",
            "linecolor": "#506784",
            "ticks": ""
           },
           "baxis": {
            "gridcolor": "#506784",
            "linecolor": "#506784",
            "ticks": ""
           },
           "bgcolor": "rgb(17,17,17)",
           "caxis": {
            "gridcolor": "#506784",
            "linecolor": "#506784",
            "ticks": ""
           }
          },
          "title": {
           "x": 0.05
          },
          "updatemenudefaults": {
           "bgcolor": "#506784",
           "borderwidth": 0
          },
          "xaxis": {
           "automargin": true,
           "gridcolor": "#283442",
           "linecolor": "#506784",
           "ticks": "",
           "title": {
            "standoff": 15
           },
           "zerolinecolor": "#283442",
           "zerolinewidth": 2
          },
          "yaxis": {
           "automargin": true,
           "gridcolor": "#283442",
           "linecolor": "#506784",
           "ticks": "",
           "title": {
            "standoff": 15
           },
           "zerolinecolor": "#283442",
           "zerolinewidth": 2
          }
         }
        },
        "title": {
         "text": "Viscosidad Dinámica y Densidad del Agua vs. Temperatura"
        },
        "xaxis": {
         "title": {
          "text": "Temperatura (°C)"
         }
        },
        "yaxis": {
         "color": "cyan",
         "showgrid": false,
         "side": "left",
         "title": {
          "text": "Viscosidad (Pa·s)"
         }
        },
        "yaxis2": {
         "color": "blue",
         "overlaying": "y",
         "showgrid": false,
         "side": "right",
         "title": {
          "text": "Densidad (kg/m³)"
         }
        }
       }
      },
      "text/html": [
       "<div>                            <div id=\"e88fcebd-1db6-4853-bb5f-0a03e6053b2c\" class=\"plotly-graph-div\" style=\"height:525px; width:100%;\"></div>            <script type=\"text/javascript\">                require([\"plotly\"], function(Plotly) {                    window.PLOTLYENV=window.PLOTLYENV || {};                                    if (document.getElementById(\"e88fcebd-1db6-4853-bb5f-0a03e6053b2c\")) {                    Plotly.newPlot(                        \"e88fcebd-1db6-4853-bb5f-0a03e6053b2c\",                        [{\"line\":{\"color\":\"cyan\"},\"mode\":\"lines+markers\",\"name\":\"Viscosidad Agua (Pa\\u00b7s)\",\"x\":[0.0,1.0101010101010102,2.0202020202020203,3.0303030303030303,4.040404040404041,5.050505050505051,6.0606060606060606,7.070707070707071,8.080808080808081,9.090909090909092,10.101010101010102,11.111111111111112,12.121212121212121,13.131313131313131,14.141414141414142,15.151515151515152,16.161616161616163,17.171717171717173,18.181818181818183,19.191919191919194,20.202020202020204,21.212121212121215,22.222222222222225,23.232323232323235,24.242424242424242,25.252525252525253,26.262626262626263,27.272727272727273,28.282828282828284,29.292929292929294,30.303030303030305,31.313131313131315,32.323232323232325,33.333333333333336,34.343434343434346,35.35353535353536,36.36363636363637,37.37373737373738,38.38383838383839,39.3939393939394,40.40404040404041,41.41414141414142,42.42424242424243,43.43434343434344,44.44444444444445,45.45454545454546,46.46464646464647,47.47474747474748,48.484848484848484,49.494949494949495,50.505050505050505,51.515151515151516,52.525252525252526,53.535353535353536,54.54545454545455,55.55555555555556,56.56565656565657,57.57575757575758,58.58585858585859,59.5959595959596,60.60606060606061,61.61616161616162,62.62626262626263,63.63636363636364,64.64646464646465,65.65656565656566,66.66666666666667,67.67676767676768,68.68686868686869,69.6969696969697,70.70707070707071,71.71717171717172,72.72727272727273,73.73737373737374,74.74747474747475,75.75757575757576,76.76767676767678,77.77777777777779,78.7878787878788,79.7979797979798,80.80808080808082,81.81818181818183,82.82828282828284,83.83838383838385,84.84848484848486,85.85858585858587,86.86868686868688,87.87878787878789,88.8888888888889,89.89898989898991,90.90909090909092,91.91919191919193,92.92929292929294,93.93939393939395,94.94949494949496,95.95959595959597,96.96969696969697,97.97979797979798,98.98989898989899,100.0],\"y\":[0.00179,0.0017538383838383838,0.0017176767676767674,0.0016815151515151515,0.0016453535353535354,0.0016091919191919192,0.001573030303030303,0.0015368686868686868,0.0015007070707070706,0.0014645454545454545,0.0014283838383838383,0.001392222222222222,0.001356060606060606,0.0013198989898989897,0.0012837373737373736,0.0012475757575757577,0.0012114141414141413,0.0011752525252525252,0.0011390909090909088,0.001102929292929293,0.0010667676767676766,0.0010306060606060604,0.0009944444444444443,0.000958282828282828,0.000922121212121212,0.0008859595959595959,0.0008497979797979796,0.0008136363636363635,0.0007774747474747475,0.0007413131313131313,0.0007051515151515151,0.000668989898989899,0.0006328282828282827,0.0005966666666666665,0.0005605050505050503,0.0005243434343434341,0.00048818181818181794,0.0004520202020202019,0.0004158585858585857,0.00037969696969696954,0.00034353535353535335,0.00030737373737373716,0.00027121212121212097,0.00023505050505050478,0.00019888888888888856,0.00016272727272727258,0.0001265656565656564,9.040404040404019e-05,5.424242424242419e-05,1.8080808080807997e-05,-1.8080808080808197e-05,-5.424242424242419e-05,-9.040404040404058e-05,-0.00012656565656565658,-0.00016272727272727296,-0.00019888888888888896,-0.00023505050505050497,-0.00027121212121212135,-0.00030737373737373737,-0.0003435353535353537,-0.00037969696969696975,-0.00041585858585858616,-0.00045202020202020213,-0.00048818181818181854,-0.0005243434343434345,-0.0005605050505050505,-0.0005966666666666669,-0.0006328282828282829,-0.0006689898989898993,-0.0007051515151515153,-0.0007413131313131317,-0.0007774747474747477,-0.000813636363636364,-0.0008497979797979801,-0.0008859595959595961,-0.0009221212121212124,-0.0009582828282828285,-0.000994444444444445,-0.0010306060606060609,-0.0010667676767676772,-0.0011029292929292931,-0.0011390909090909097,-0.0011752525252525256,-0.0012114141414141415,-0.001247575757575758,-0.001283737373737374,-0.0013198989898989904,-0.0013560606060606063,-0.0013922222222222229,-0.0014283838383838388,-0.0014645454545454547,-0.0015007070707070713,-0.0015368686868686872,-0.0015730303030303035,-0.0016091919191919195,-0.001645353535353536,-0.0016815151515151515,-0.0017176767676767674,-0.001753838383838384,-0.00179],\"yaxis\":\"y\",\"type\":\"scatter\"},{\"line\":{\"color\":\"blue\"},\"mode\":\"lines+markers\",\"name\":\"Densidad Agua (kg\\u002fm\\u00b3)\",\"x\":[0.0,1.0101010101010102,2.0202020202020203,3.0303030303030303,4.040404040404041,5.050505050505051,6.0606060606060606,7.070707070707071,8.080808080808081,9.090909090909092,10.101010101010102,11.111111111111112,12.121212121212121,13.131313131313131,14.141414141414142,15.151515151515152,16.161616161616163,17.171717171717173,18.181818181818183,19.191919191919194,20.202020202020204,21.212121212121215,22.222222222222225,23.232323232323235,24.242424242424242,25.252525252525253,26.262626262626263,27.272727272727273,28.282828282828284,29.292929292929294,30.303030303030305,31.313131313131315,32.323232323232325,33.333333333333336,34.343434343434346,35.35353535353536,36.36363636363637,37.37373737373738,38.38383838383839,39.3939393939394,40.40404040404041,41.41414141414142,42.42424242424243,43.43434343434344,44.44444444444445,45.45454545454546,46.46464646464647,47.47474747474748,48.484848484848484,49.494949494949495,50.505050505050505,51.515151515151516,52.525252525252526,53.535353535353536,54.54545454545455,55.55555555555556,56.56565656565657,57.57575757575758,58.58585858585859,59.5959595959596,60.60606060606061,61.61616161616162,62.62626262626263,63.63636363636364,64.64646464646465,65.65656565656566,66.66666666666667,67.67676767676768,68.68686868686869,69.6969696969697,70.70707070707071,71.71717171717172,72.72727272727273,73.73737373737374,74.74747474747475,75.75757575757576,76.76767676767678,77.77777777777779,78.7878787878788,79.7979797979798,80.80808080808082,81.81818181818183,82.82828282828284,83.83838383838385,84.84848484848486,85.85858585858587,86.86868686868688,87.87878787878789,88.8888888888889,89.89898989898991,90.90909090909092,91.91919191919193,92.92929292929294,93.93939393939395,94.94949494949496,95.95959595959597,96.96969696969697,97.97979797979798,98.98989898989899,100.0],\"y\":[999.84,999.769292929293,999.698585858586,999.6278787878788,999.5571717171717,999.4864646464647,999.4157575757577,999.3450505050505,999.2743434343435,999.2036363636364,999.1329292929294,999.0622222222222,998.9915151515152,998.9208080808081,998.8501010101011,998.779393939394,998.7086868686869,998.6379797979798,998.5672727272728,998.4965656565657,998.4258585858586,998.3551515151515,998.2844444444445,998.2137373737374,998.1430303030303,998.0723232323232,998.0016161616162,997.9309090909092,997.860202020202,997.789494949495,997.7187878787879,997.6480808080809,997.5773737373738,997.5066666666667,997.4359595959596,997.3652525252526,997.2945454545455,997.2238383838384,997.1531313131313,997.0824242424243,997.0117171717172,996.9410101010101,996.870303030303,996.799595959596,996.728888888889,996.6581818181819,996.5874747474747,996.5167676767677,996.4460606060607,996.3753535353536,996.3046464646465,996.2339393939394,996.1632323232324,996.0925252525253,996.0218181818182,995.9511111111111,995.8804040404041,995.809696969697,995.73898989899,995.6682828282828,995.5975757575758,995.5268686868687,995.4561616161617,995.3854545454545,995.3147474747475,995.2440404040404,995.1733333333334,995.1026262626262,995.0319191919192,994.9612121212122,994.8905050505051,994.8197979797981,994.7490909090909,994.6783838383839,994.6076767676768,994.5369696969698,994.4662626262626,994.3955555555556,994.3248484848485,994.2541414141415,994.1834343434343,994.1127272727273,994.0420202020202,993.9713131313132,993.900606060606,993.829898989899,993.759191919192,993.6884848484849,993.6177777777779,993.5470707070707,993.4763636363637,993.4056565656566,993.3349494949496,993.2642424242424,993.1935353535354,993.1228282828283,993.0521212121213,992.9814141414141,992.9107070707071,992.84],\"yaxis\":\"y2\",\"type\":\"scatter\"}],                        {\"template\":{\"data\":{\"barpolar\":[{\"marker\":{\"line\":{\"color\":\"rgb(17,17,17)\",\"width\":0.5},\"pattern\":{\"fillmode\":\"overlay\",\"size\":10,\"solidity\":0.2}},\"type\":\"barpolar\"}],\"bar\":[{\"error_x\":{\"color\":\"#f2f5fa\"},\"error_y\":{\"color\":\"#f2f5fa\"},\"marker\":{\"line\":{\"color\":\"rgb(17,17,17)\",\"width\":0.5},\"pattern\":{\"fillmode\":\"overlay\",\"size\":10,\"solidity\":0.2}},\"type\":\"bar\"}],\"carpet\":[{\"aaxis\":{\"endlinecolor\":\"#A2B1C6\",\"gridcolor\":\"#506784\",\"linecolor\":\"#506784\",\"minorgridcolor\":\"#506784\",\"startlinecolor\":\"#A2B1C6\"},\"baxis\":{\"endlinecolor\":\"#A2B1C6\",\"gridcolor\":\"#506784\",\"linecolor\":\"#506784\",\"minorgridcolor\":\"#506784\",\"startlinecolor\":\"#A2B1C6\"},\"type\":\"carpet\"}],\"choropleth\":[{\"colorbar\":{\"outlinewidth\":0,\"ticks\":\"\"},\"type\":\"choropleth\"}],\"contourcarpet\":[{\"colorbar\":{\"outlinewidth\":0,\"ticks\":\"\"},\"type\":\"contourcarpet\"}],\"contour\":[{\"colorbar\":{\"outlinewidth\":0,\"ticks\":\"\"},\"colorscale\":[[0.0,\"#0d0887\"],[0.1111111111111111,\"#46039f\"],[0.2222222222222222,\"#7201a8\"],[0.3333333333333333,\"#9c179e\"],[0.4444444444444444,\"#bd3786\"],[0.5555555555555556,\"#d8576b\"],[0.6666666666666666,\"#ed7953\"],[0.7777777777777778,\"#fb9f3a\"],[0.8888888888888888,\"#fdca26\"],[1.0,\"#f0f921\"]],\"type\":\"contour\"}],\"heatmapgl\":[{\"colorbar\":{\"outlinewidth\":0,\"ticks\":\"\"},\"colorscale\":[[0.0,\"#0d0887\"],[0.1111111111111111,\"#46039f\"],[0.2222222222222222,\"#7201a8\"],[0.3333333333333333,\"#9c179e\"],[0.4444444444444444,\"#bd3786\"],[0.5555555555555556,\"#d8576b\"],[0.6666666666666666,\"#ed7953\"],[0.7777777777777778,\"#fb9f3a\"],[0.8888888888888888,\"#fdca26\"],[1.0,\"#f0f921\"]],\"type\":\"heatmapgl\"}],\"heatmap\":[{\"colorbar\":{\"outlinewidth\":0,\"ticks\":\"\"},\"colorscale\":[[0.0,\"#0d0887\"],[0.1111111111111111,\"#46039f\"],[0.2222222222222222,\"#7201a8\"],[0.3333333333333333,\"#9c179e\"],[0.4444444444444444,\"#bd3786\"],[0.5555555555555556,\"#d8576b\"],[0.6666666666666666,\"#ed7953\"],[0.7777777777777778,\"#fb9f3a\"],[0.8888888888888888,\"#fdca26\"],[1.0,\"#f0f921\"]],\"type\":\"heatmap\"}],\"histogram2dcontour\":[{\"colorbar\":{\"outlinewidth\":0,\"ticks\":\"\"},\"colorscale\":[[0.0,\"#0d0887\"],[0.1111111111111111,\"#46039f\"],[0.2222222222222222,\"#7201a8\"],[0.3333333333333333,\"#9c179e\"],[0.4444444444444444,\"#bd3786\"],[0.5555555555555556,\"#d8576b\"],[0.6666666666666666,\"#ed7953\"],[0.7777777777777778,\"#fb9f3a\"],[0.8888888888888888,\"#fdca26\"],[1.0,\"#f0f921\"]],\"type\":\"histogram2dcontour\"}],\"histogram2d\":[{\"colorbar\":{\"outlinewidth\":0,\"ticks\":\"\"},\"colorscale\":[[0.0,\"#0d0887\"],[0.1111111111111111,\"#46039f\"],[0.2222222222222222,\"#7201a8\"],[0.3333333333333333,\"#9c179e\"],[0.4444444444444444,\"#bd3786\"],[0.5555555555555556,\"#d8576b\"],[0.6666666666666666,\"#ed7953\"],[0.7777777777777778,\"#fb9f3a\"],[0.8888888888888888,\"#fdca26\"],[1.0,\"#f0f921\"]],\"type\":\"histogram2d\"}],\"histogram\":[{\"marker\":{\"pattern\":{\"fillmode\":\"overlay\",\"size\":10,\"solidity\":0.2}},\"type\":\"histogram\"}],\"mesh3d\":[{\"colorbar\":{\"outlinewidth\":0,\"ticks\":\"\"},\"type\":\"mesh3d\"}],\"parcoords\":[{\"line\":{\"colorbar\":{\"outlinewidth\":0,\"ticks\":\"\"}},\"type\":\"parcoords\"}],\"pie\":[{\"automargin\":true,\"type\":\"pie\"}],\"scatter3d\":[{\"line\":{\"colorbar\":{\"outlinewidth\":0,\"ticks\":\"\"}},\"marker\":{\"colorbar\":{\"outlinewidth\":0,\"ticks\":\"\"}},\"type\":\"scatter3d\"}],\"scattercarpet\":[{\"marker\":{\"colorbar\":{\"outlinewidth\":0,\"ticks\":\"\"}},\"type\":\"scattercarpet\"}],\"scattergeo\":[{\"marker\":{\"colorbar\":{\"outlinewidth\":0,\"ticks\":\"\"}},\"type\":\"scattergeo\"}],\"scattergl\":[{\"marker\":{\"line\":{\"color\":\"#283442\"}},\"type\":\"scattergl\"}],\"scattermapbox\":[{\"marker\":{\"colorbar\":{\"outlinewidth\":0,\"ticks\":\"\"}},\"type\":\"scattermapbox\"}],\"scatterpolargl\":[{\"marker\":{\"colorbar\":{\"outlinewidth\":0,\"ticks\":\"\"}},\"type\":\"scatterpolargl\"}],\"scatterpolar\":[{\"marker\":{\"colorbar\":{\"outlinewidth\":0,\"ticks\":\"\"}},\"type\":\"scatterpolar\"}],\"scatter\":[{\"marker\":{\"line\":{\"color\":\"#283442\"}},\"type\":\"scatter\"}],\"scatterternary\":[{\"marker\":{\"colorbar\":{\"outlinewidth\":0,\"ticks\":\"\"}},\"type\":\"scatterternary\"}],\"surface\":[{\"colorbar\":{\"outlinewidth\":0,\"ticks\":\"\"},\"colorscale\":[[0.0,\"#0d0887\"],[0.1111111111111111,\"#46039f\"],[0.2222222222222222,\"#7201a8\"],[0.3333333333333333,\"#9c179e\"],[0.4444444444444444,\"#bd3786\"],[0.5555555555555556,\"#d8576b\"],[0.6666666666666666,\"#ed7953\"],[0.7777777777777778,\"#fb9f3a\"],[0.8888888888888888,\"#fdca26\"],[1.0,\"#f0f921\"]],\"type\":\"surface\"}],\"table\":[{\"cells\":{\"fill\":{\"color\":\"#506784\"},\"line\":{\"color\":\"rgb(17,17,17)\"}},\"header\":{\"fill\":{\"color\":\"#2a3f5f\"},\"line\":{\"color\":\"rgb(17,17,17)\"}},\"type\":\"table\"}]},\"layout\":{\"annotationdefaults\":{\"arrowcolor\":\"#f2f5fa\",\"arrowhead\":0,\"arrowwidth\":1},\"autotypenumbers\":\"strict\",\"coloraxis\":{\"colorbar\":{\"outlinewidth\":0,\"ticks\":\"\"}},\"colorscale\":{\"diverging\":[[0,\"#8e0152\"],[0.1,\"#c51b7d\"],[0.2,\"#de77ae\"],[0.3,\"#f1b6da\"],[0.4,\"#fde0ef\"],[0.5,\"#f7f7f7\"],[0.6,\"#e6f5d0\"],[0.7,\"#b8e186\"],[0.8,\"#7fbc41\"],[0.9,\"#4d9221\"],[1,\"#276419\"]],\"sequential\":[[0.0,\"#0d0887\"],[0.1111111111111111,\"#46039f\"],[0.2222222222222222,\"#7201a8\"],[0.3333333333333333,\"#9c179e\"],[0.4444444444444444,\"#bd3786\"],[0.5555555555555556,\"#d8576b\"],[0.6666666666666666,\"#ed7953\"],[0.7777777777777778,\"#fb9f3a\"],[0.8888888888888888,\"#fdca26\"],[1.0,\"#f0f921\"]],\"sequentialminus\":[[0.0,\"#0d0887\"],[0.1111111111111111,\"#46039f\"],[0.2222222222222222,\"#7201a8\"],[0.3333333333333333,\"#9c179e\"],[0.4444444444444444,\"#bd3786\"],[0.5555555555555556,\"#d8576b\"],[0.6666666666666666,\"#ed7953\"],[0.7777777777777778,\"#fb9f3a\"],[0.8888888888888888,\"#fdca26\"],[1.0,\"#f0f921\"]]},\"colorway\":[\"#636efa\",\"#EF553B\",\"#00cc96\",\"#ab63fa\",\"#FFA15A\",\"#19d3f3\",\"#FF6692\",\"#B6E880\",\"#FF97FF\",\"#FECB52\"],\"font\":{\"color\":\"#f2f5fa\"},\"geo\":{\"bgcolor\":\"rgb(17,17,17)\",\"lakecolor\":\"rgb(17,17,17)\",\"landcolor\":\"rgb(17,17,17)\",\"showlakes\":true,\"showland\":true,\"subunitcolor\":\"#506784\"},\"hoverlabel\":{\"align\":\"left\"},\"hovermode\":\"closest\",\"mapbox\":{\"style\":\"dark\"},\"paper_bgcolor\":\"rgb(17,17,17)\",\"plot_bgcolor\":\"rgb(17,17,17)\",\"polar\":{\"angularaxis\":{\"gridcolor\":\"#506784\",\"linecolor\":\"#506784\",\"ticks\":\"\"},\"bgcolor\":\"rgb(17,17,17)\",\"radialaxis\":{\"gridcolor\":\"#506784\",\"linecolor\":\"#506784\",\"ticks\":\"\"}},\"scene\":{\"xaxis\":{\"backgroundcolor\":\"rgb(17,17,17)\",\"gridcolor\":\"#506784\",\"gridwidth\":2,\"linecolor\":\"#506784\",\"showbackground\":true,\"ticks\":\"\",\"zerolinecolor\":\"#C8D4E3\"},\"yaxis\":{\"backgroundcolor\":\"rgb(17,17,17)\",\"gridcolor\":\"#506784\",\"gridwidth\":2,\"linecolor\":\"#506784\",\"showbackground\":true,\"ticks\":\"\",\"zerolinecolor\":\"#C8D4E3\"},\"zaxis\":{\"backgroundcolor\":\"rgb(17,17,17)\",\"gridcolor\":\"#506784\",\"gridwidth\":2,\"linecolor\":\"#506784\",\"showbackground\":true,\"ticks\":\"\",\"zerolinecolor\":\"#C8D4E3\"}},\"shapedefaults\":{\"line\":{\"color\":\"#f2f5fa\"}},\"sliderdefaults\":{\"bgcolor\":\"#C8D4E3\",\"bordercolor\":\"rgb(17,17,17)\",\"borderwidth\":1,\"tickwidth\":0},\"ternary\":{\"aaxis\":{\"gridcolor\":\"#506784\",\"linecolor\":\"#506784\",\"ticks\":\"\"},\"baxis\":{\"gridcolor\":\"#506784\",\"linecolor\":\"#506784\",\"ticks\":\"\"},\"bgcolor\":\"rgb(17,17,17)\",\"caxis\":{\"gridcolor\":\"#506784\",\"linecolor\":\"#506784\",\"ticks\":\"\"}},\"title\":{\"x\":0.05},\"updatemenudefaults\":{\"bgcolor\":\"#506784\",\"borderwidth\":0},\"xaxis\":{\"automargin\":true,\"gridcolor\":\"#283442\",\"linecolor\":\"#506784\",\"ticks\":\"\",\"title\":{\"standoff\":15},\"zerolinecolor\":\"#283442\",\"zerolinewidth\":2},\"yaxis\":{\"automargin\":true,\"gridcolor\":\"#283442\",\"linecolor\":\"#506784\",\"ticks\":\"\",\"title\":{\"standoff\":15},\"zerolinecolor\":\"#283442\",\"zerolinewidth\":2}}},\"yaxis\":{\"title\":{\"text\":\"Viscosidad (Pa\\u00b7s)\"},\"side\":\"left\",\"color\":\"cyan\",\"showgrid\":false},\"yaxis2\":{\"title\":{\"text\":\"Densidad (kg\\u002fm\\u00b3)\"},\"side\":\"right\",\"overlaying\":\"y\",\"color\":\"blue\",\"showgrid\":false},\"title\":{\"text\":\"Viscosidad Din\\u00e1mica y Densidad del Agua vs. Temperatura\"},\"xaxis\":{\"title\":{\"text\":\"Temperatura (\\u00b0C)\"}}},                        {\"responsive\": true}                    ).then(function(){\n",
       "                            \n",
       "var gd = document.getElementById('e88fcebd-1db6-4853-bb5f-0a03e6053b2c');\n",
       "var x = new MutationObserver(function (mutations, observer) {{\n",
       "        var display = window.getComputedStyle(gd).display;\n",
       "        if (!display || display === 'none') {{\n",
       "            console.log([gd, 'removed!']);\n",
       "            Plotly.purge(gd);\n",
       "            observer.disconnect();\n",
       "        }}\n",
       "}});\n",
       "\n",
       "// Listen for the removal of the full notebook cells\n",
       "var notebookContainer = gd.closest('#notebook-container');\n",
       "if (notebookContainer) {{\n",
       "    x.observe(notebookContainer, {childList: true});\n",
       "}}\n",
       "\n",
       "// Listen for the clearing of the current output cell\n",
       "var outputEl = gd.closest('.output');\n",
       "if (outputEl) {{\n",
       "    x.observe(outputEl, {childList: true});\n",
       "}}\n",
       "\n",
       "                        })                };                });            </script>        </div>"
      ]
     },
     "metadata": {},
     "output_type": "display_data"
    },
    {
     "data": {
      "application/vnd.plotly.v1+json": {
       "config": {
        "plotlyServerURL": "https://plot.ly"
       },
       "data": [
        {
         "line": {
          "color": "orange"
         },
         "mode": "lines+markers",
         "name": "Viscosidad Aire (Pa·s)",
         "type": "scatter",
         "x": [
          0,
          1.0101010101010102,
          2.0202020202020203,
          3.0303030303030303,
          4.040404040404041,
          5.050505050505051,
          6.0606060606060606,
          7.070707070707071,
          8.080808080808081,
          9.090909090909092,
          10.101010101010102,
          11.111111111111112,
          12.121212121212121,
          13.131313131313131,
          14.141414141414142,
          15.151515151515152,
          16.161616161616163,
          17.171717171717173,
          18.181818181818183,
          19.191919191919194,
          20.202020202020204,
          21.212121212121215,
          22.222222222222225,
          23.232323232323235,
          24.242424242424242,
          25.252525252525253,
          26.262626262626263,
          27.272727272727273,
          28.282828282828284,
          29.292929292929294,
          30.303030303030305,
          31.313131313131315,
          32.323232323232325,
          33.333333333333336,
          34.343434343434346,
          35.35353535353536,
          36.36363636363637,
          37.37373737373738,
          38.38383838383839,
          39.3939393939394,
          40.40404040404041,
          41.41414141414142,
          42.42424242424243,
          43.43434343434344,
          44.44444444444445,
          45.45454545454546,
          46.46464646464647,
          47.47474747474748,
          48.484848484848484,
          49.494949494949495,
          50.505050505050505,
          51.515151515151516,
          52.525252525252526,
          53.535353535353536,
          54.54545454545455,
          55.55555555555556,
          56.56565656565657,
          57.57575757575758,
          58.58585858585859,
          59.5959595959596,
          60.60606060606061,
          61.61616161616162,
          62.62626262626263,
          63.63636363636364,
          64.64646464646465,
          65.65656565656566,
          66.66666666666667,
          67.67676767676768,
          68.68686868686869,
          69.6969696969697,
          70.70707070707071,
          71.71717171717172,
          72.72727272727273,
          73.73737373737374,
          74.74747474747475,
          75.75757575757576,
          76.76767676767678,
          77.77777777777779,
          78.7878787878788,
          79.7979797979798,
          80.80808080808082,
          81.81818181818183,
          82.82828282828284,
          83.83838383838385,
          84.84848484848486,
          85.85858585858587,
          86.86868686868688,
          87.87878787878789,
          88.8888888888889,
          89.89898989898991,
          90.90909090909092,
          91.91919191919193,
          92.92929292929294,
          93.93939393939395,
          94.94949494949496,
          95.95959595959597,
          96.96969696969697,
          97.97979797979798,
          98.98989898989899,
          100
         ],
         "y": [
          1.81e-05,
          1.8136565656565655e-05,
          1.8173131313131315e-05,
          1.820969696969697e-05,
          1.8246262626262627e-05,
          1.8282828282828283e-05,
          1.8319393939393942e-05,
          1.8355959595959598e-05,
          1.8392525252525254e-05,
          1.8429090909090906e-05,
          1.8465656565656562e-05,
          1.850222222222222e-05,
          1.8538787878787878e-05,
          1.8575353535353534e-05,
          1.861191919191919e-05,
          1.864848484848485e-05,
          1.8685050505050505e-05,
          1.872161616161616e-05,
          1.8758181818181817e-05,
          1.8794747474747476e-05,
          1.8831313131313132e-05,
          1.8867878787878788e-05,
          1.8904444444444444e-05,
          1.8941010101010103e-05,
          1.897757575757576e-05,
          1.9014141414141415e-05,
          1.9050707070707068e-05,
          1.9087272727272723e-05,
          1.9123838383838383e-05,
          1.916040404040404e-05,
          1.9196969696969695e-05,
          1.923353535353535e-05,
          1.927010101010101e-05,
          1.9306666666666666e-05,
          1.9343232323232322e-05,
          1.9379797979797978e-05,
          1.9416363636363637e-05,
          1.9452929292929293e-05,
          1.948949494949495e-05,
          1.952606060606061e-05,
          1.9562626262626264e-05,
          1.959919191919192e-05,
          1.9635757575757576e-05,
          1.9672323232323235e-05,
          1.970888888888889e-05,
          1.9745454545454544e-05,
          1.97820202020202e-05,
          1.9818585858585856e-05,
          1.9855151515151515e-05,
          1.989171717171717e-05,
          1.9928282828282827e-05,
          1.9964848484848483e-05,
          2.0001414141414142e-05,
          2.0037979797979798e-05,
          2.0074545454545454e-05,
          2.011111111111111e-05,
          2.014767676767677e-05,
          2.0184242424242425e-05,
          2.022080808080808e-05,
          2.0257373737373737e-05,
          2.029393939393939e-05,
          2.033050505050505e-05,
          2.0367070707070705e-05,
          2.040363636363636e-05,
          2.0440202020202017e-05,
          2.0476767676767676e-05,
          2.0513333333333332e-05,
          2.0549898989898988e-05,
          2.0586464646464644e-05,
          2.0623030303030304e-05,
          2.065959595959596e-05,
          2.0696161616161615e-05,
          2.073272727272727e-05,
          2.076929292929293e-05,
          2.0805858585858587e-05,
          2.0842424242424243e-05,
          2.0878989898989902e-05,
          2.0915555555555558e-05,
          2.0952121212121214e-05,
          2.0988686868686866e-05,
          2.1025252525252522e-05,
          2.106181818181818e-05,
          2.1098383838383838e-05,
          2.1134949494949493e-05,
          2.117151515151515e-05,
          2.120808080808081e-05,
          2.1244646464646465e-05,
          2.128121212121212e-05,
          2.1317777777777777e-05,
          2.1354343434343436e-05,
          2.1390909090909092e-05,
          2.1427474747474748e-05,
          2.1464040404040404e-05,
          2.1500606060606063e-05,
          2.153717171717172e-05,
          2.1573737373737375e-05,
          2.1610303030303028e-05,
          2.1646868686868683e-05,
          2.1683434343434343e-05,
          2.172e-05
         ]
        }
       ],
       "layout": {
        "template": {
         "data": {
          "bar": [
           {
            "error_x": {
             "color": "#f2f5fa"
            },
            "error_y": {
             "color": "#f2f5fa"
            },
            "marker": {
             "line": {
              "color": "rgb(17,17,17)",
              "width": 0.5
             },
             "pattern": {
              "fillmode": "overlay",
              "size": 10,
              "solidity": 0.2
             }
            },
            "type": "bar"
           }
          ],
          "barpolar": [
           {
            "marker": {
             "line": {
              "color": "rgb(17,17,17)",
              "width": 0.5
             },
             "pattern": {
              "fillmode": "overlay",
              "size": 10,
              "solidity": 0.2
             }
            },
            "type": "barpolar"
           }
          ],
          "carpet": [
           {
            "aaxis": {
             "endlinecolor": "#A2B1C6",
             "gridcolor": "#506784",
             "linecolor": "#506784",
             "minorgridcolor": "#506784",
             "startlinecolor": "#A2B1C6"
            },
            "baxis": {
             "endlinecolor": "#A2B1C6",
             "gridcolor": "#506784",
             "linecolor": "#506784",
             "minorgridcolor": "#506784",
             "startlinecolor": "#A2B1C6"
            },
            "type": "carpet"
           }
          ],
          "choropleth": [
           {
            "colorbar": {
             "outlinewidth": 0,
             "ticks": ""
            },
            "type": "choropleth"
           }
          ],
          "contour": [
           {
            "colorbar": {
             "outlinewidth": 0,
             "ticks": ""
            },
            "colorscale": [
             [
              0,
              "#0d0887"
             ],
             [
              0.1111111111111111,
              "#46039f"
             ],
             [
              0.2222222222222222,
              "#7201a8"
             ],
             [
              0.3333333333333333,
              "#9c179e"
             ],
             [
              0.4444444444444444,
              "#bd3786"
             ],
             [
              0.5555555555555556,
              "#d8576b"
             ],
             [
              0.6666666666666666,
              "#ed7953"
             ],
             [
              0.7777777777777778,
              "#fb9f3a"
             ],
             [
              0.8888888888888888,
              "#fdca26"
             ],
             [
              1,
              "#f0f921"
             ]
            ],
            "type": "contour"
           }
          ],
          "contourcarpet": [
           {
            "colorbar": {
             "outlinewidth": 0,
             "ticks": ""
            },
            "type": "contourcarpet"
           }
          ],
          "heatmap": [
           {
            "colorbar": {
             "outlinewidth": 0,
             "ticks": ""
            },
            "colorscale": [
             [
              0,
              "#0d0887"
             ],
             [
              0.1111111111111111,
              "#46039f"
             ],
             [
              0.2222222222222222,
              "#7201a8"
             ],
             [
              0.3333333333333333,
              "#9c179e"
             ],
             [
              0.4444444444444444,
              "#bd3786"
             ],
             [
              0.5555555555555556,
              "#d8576b"
             ],
             [
              0.6666666666666666,
              "#ed7953"
             ],
             [
              0.7777777777777778,
              "#fb9f3a"
             ],
             [
              0.8888888888888888,
              "#fdca26"
             ],
             [
              1,
              "#f0f921"
             ]
            ],
            "type": "heatmap"
           }
          ],
          "heatmapgl": [
           {
            "colorbar": {
             "outlinewidth": 0,
             "ticks": ""
            },
            "colorscale": [
             [
              0,
              "#0d0887"
             ],
             [
              0.1111111111111111,
              "#46039f"
             ],
             [
              0.2222222222222222,
              "#7201a8"
             ],
             [
              0.3333333333333333,
              "#9c179e"
             ],
             [
              0.4444444444444444,
              "#bd3786"
             ],
             [
              0.5555555555555556,
              "#d8576b"
             ],
             [
              0.6666666666666666,
              "#ed7953"
             ],
             [
              0.7777777777777778,
              "#fb9f3a"
             ],
             [
              0.8888888888888888,
              "#fdca26"
             ],
             [
              1,
              "#f0f921"
             ]
            ],
            "type": "heatmapgl"
           }
          ],
          "histogram": [
           {
            "marker": {
             "pattern": {
              "fillmode": "overlay",
              "size": 10,
              "solidity": 0.2
             }
            },
            "type": "histogram"
           }
          ],
          "histogram2d": [
           {
            "colorbar": {
             "outlinewidth": 0,
             "ticks": ""
            },
            "colorscale": [
             [
              0,
              "#0d0887"
             ],
             [
              0.1111111111111111,
              "#46039f"
             ],
             [
              0.2222222222222222,
              "#7201a8"
             ],
             [
              0.3333333333333333,
              "#9c179e"
             ],
             [
              0.4444444444444444,
              "#bd3786"
             ],
             [
              0.5555555555555556,
              "#d8576b"
             ],
             [
              0.6666666666666666,
              "#ed7953"
             ],
             [
              0.7777777777777778,
              "#fb9f3a"
             ],
             [
              0.8888888888888888,
              "#fdca26"
             ],
             [
              1,
              "#f0f921"
             ]
            ],
            "type": "histogram2d"
           }
          ],
          "histogram2dcontour": [
           {
            "colorbar": {
             "outlinewidth": 0,
             "ticks": ""
            },
            "colorscale": [
             [
              0,
              "#0d0887"
             ],
             [
              0.1111111111111111,
              "#46039f"
             ],
             [
              0.2222222222222222,
              "#7201a8"
             ],
             [
              0.3333333333333333,
              "#9c179e"
             ],
             [
              0.4444444444444444,
              "#bd3786"
             ],
             [
              0.5555555555555556,
              "#d8576b"
             ],
             [
              0.6666666666666666,
              "#ed7953"
             ],
             [
              0.7777777777777778,
              "#fb9f3a"
             ],
             [
              0.8888888888888888,
              "#fdca26"
             ],
             [
              1,
              "#f0f921"
             ]
            ],
            "type": "histogram2dcontour"
           }
          ],
          "mesh3d": [
           {
            "colorbar": {
             "outlinewidth": 0,
             "ticks": ""
            },
            "type": "mesh3d"
           }
          ],
          "parcoords": [
           {
            "line": {
             "colorbar": {
              "outlinewidth": 0,
              "ticks": ""
             }
            },
            "type": "parcoords"
           }
          ],
          "pie": [
           {
            "automargin": true,
            "type": "pie"
           }
          ],
          "scatter": [
           {
            "marker": {
             "line": {
              "color": "#283442"
             }
            },
            "type": "scatter"
           }
          ],
          "scatter3d": [
           {
            "line": {
             "colorbar": {
              "outlinewidth": 0,
              "ticks": ""
             }
            },
            "marker": {
             "colorbar": {
              "outlinewidth": 0,
              "ticks": ""
             }
            },
            "type": "scatter3d"
           }
          ],
          "scattercarpet": [
           {
            "marker": {
             "colorbar": {
              "outlinewidth": 0,
              "ticks": ""
             }
            },
            "type": "scattercarpet"
           }
          ],
          "scattergeo": [
           {
            "marker": {
             "colorbar": {
              "outlinewidth": 0,
              "ticks": ""
             }
            },
            "type": "scattergeo"
           }
          ],
          "scattergl": [
           {
            "marker": {
             "line": {
              "color": "#283442"
             }
            },
            "type": "scattergl"
           }
          ],
          "scattermapbox": [
           {
            "marker": {
             "colorbar": {
              "outlinewidth": 0,
              "ticks": ""
             }
            },
            "type": "scattermapbox"
           }
          ],
          "scatterpolar": [
           {
            "marker": {
             "colorbar": {
              "outlinewidth": 0,
              "ticks": ""
             }
            },
            "type": "scatterpolar"
           }
          ],
          "scatterpolargl": [
           {
            "marker": {
             "colorbar": {
              "outlinewidth": 0,
              "ticks": ""
             }
            },
            "type": "scatterpolargl"
           }
          ],
          "scatterternary": [
           {
            "marker": {
             "colorbar": {
              "outlinewidth": 0,
              "ticks": ""
             }
            },
            "type": "scatterternary"
           }
          ],
          "surface": [
           {
            "colorbar": {
             "outlinewidth": 0,
             "ticks": ""
            },
            "colorscale": [
             [
              0,
              "#0d0887"
             ],
             [
              0.1111111111111111,
              "#46039f"
             ],
             [
              0.2222222222222222,
              "#7201a8"
             ],
             [
              0.3333333333333333,
              "#9c179e"
             ],
             [
              0.4444444444444444,
              "#bd3786"
             ],
             [
              0.5555555555555556,
              "#d8576b"
             ],
             [
              0.6666666666666666,
              "#ed7953"
             ],
             [
              0.7777777777777778,
              "#fb9f3a"
             ],
             [
              0.8888888888888888,
              "#fdca26"
             ],
             [
              1,
              "#f0f921"
             ]
            ],
            "type": "surface"
           }
          ],
          "table": [
           {
            "cells": {
             "fill": {
              "color": "#506784"
             },
             "line": {
              "color": "rgb(17,17,17)"
             }
            },
            "header": {
             "fill": {
              "color": "#2a3f5f"
             },
             "line": {
              "color": "rgb(17,17,17)"
             }
            },
            "type": "table"
           }
          ]
         },
         "layout": {
          "annotationdefaults": {
           "arrowcolor": "#f2f5fa",
           "arrowhead": 0,
           "arrowwidth": 1
          },
          "autotypenumbers": "strict",
          "coloraxis": {
           "colorbar": {
            "outlinewidth": 0,
            "ticks": ""
           }
          },
          "colorscale": {
           "diverging": [
            [
             0,
             "#8e0152"
            ],
            [
             0.1,
             "#c51b7d"
            ],
            [
             0.2,
             "#de77ae"
            ],
            [
             0.3,
             "#f1b6da"
            ],
            [
             0.4,
             "#fde0ef"
            ],
            [
             0.5,
             "#f7f7f7"
            ],
            [
             0.6,
             "#e6f5d0"
            ],
            [
             0.7,
             "#b8e186"
            ],
            [
             0.8,
             "#7fbc41"
            ],
            [
             0.9,
             "#4d9221"
            ],
            [
             1,
             "#276419"
            ]
           ],
           "sequential": [
            [
             0,
             "#0d0887"
            ],
            [
             0.1111111111111111,
             "#46039f"
            ],
            [
             0.2222222222222222,
             "#7201a8"
            ],
            [
             0.3333333333333333,
             "#9c179e"
            ],
            [
             0.4444444444444444,
             "#bd3786"
            ],
            [
             0.5555555555555556,
             "#d8576b"
            ],
            [
             0.6666666666666666,
             "#ed7953"
            ],
            [
             0.7777777777777778,
             "#fb9f3a"
            ],
            [
             0.8888888888888888,
             "#fdca26"
            ],
            [
             1,
             "#f0f921"
            ]
           ],
           "sequentialminus": [
            [
             0,
             "#0d0887"
            ],
            [
             0.1111111111111111,
             "#46039f"
            ],
            [
             0.2222222222222222,
             "#7201a8"
            ],
            [
             0.3333333333333333,
             "#9c179e"
            ],
            [
             0.4444444444444444,
             "#bd3786"
            ],
            [
             0.5555555555555556,
             "#d8576b"
            ],
            [
             0.6666666666666666,
             "#ed7953"
            ],
            [
             0.7777777777777778,
             "#fb9f3a"
            ],
            [
             0.8888888888888888,
             "#fdca26"
            ],
            [
             1,
             "#f0f921"
            ]
           ]
          },
          "colorway": [
           "#636efa",
           "#EF553B",
           "#00cc96",
           "#ab63fa",
           "#FFA15A",
           "#19d3f3",
           "#FF6692",
           "#B6E880",
           "#FF97FF",
           "#FECB52"
          ],
          "font": {
           "color": "#f2f5fa"
          },
          "geo": {
           "bgcolor": "rgb(17,17,17)",
           "lakecolor": "rgb(17,17,17)",
           "landcolor": "rgb(17,17,17)",
           "showlakes": true,
           "showland": true,
           "subunitcolor": "#506784"
          },
          "hoverlabel": {
           "align": "left"
          },
          "hovermode": "closest",
          "mapbox": {
           "style": "dark"
          },
          "paper_bgcolor": "rgb(17,17,17)",
          "plot_bgcolor": "rgb(17,17,17)",
          "polar": {
           "angularaxis": {
            "gridcolor": "#506784",
            "linecolor": "#506784",
            "ticks": ""
           },
           "bgcolor": "rgb(17,17,17)",
           "radialaxis": {
            "gridcolor": "#506784",
            "linecolor": "#506784",
            "ticks": ""
           }
          },
          "scene": {
           "xaxis": {
            "backgroundcolor": "rgb(17,17,17)",
            "gridcolor": "#506784",
            "gridwidth": 2,
            "linecolor": "#506784",
            "showbackground": true,
            "ticks": "",
            "zerolinecolor": "#C8D4E3"
           },
           "yaxis": {
            "backgroundcolor": "rgb(17,17,17)",
            "gridcolor": "#506784",
            "gridwidth": 2,
            "linecolor": "#506784",
            "showbackground": true,
            "ticks": "",
            "zerolinecolor": "#C8D4E3"
           },
           "zaxis": {
            "backgroundcolor": "rgb(17,17,17)",
            "gridcolor": "#506784",
            "gridwidth": 2,
            "linecolor": "#506784",
            "showbackground": true,
            "ticks": "",
            "zerolinecolor": "#C8D4E3"
           }
          },
          "shapedefaults": {
           "line": {
            "color": "#f2f5fa"
           }
          },
          "sliderdefaults": {
           "bgcolor": "#C8D4E3",
           "bordercolor": "rgb(17,17,17)",
           "borderwidth": 1,
           "tickwidth": 0
          },
          "ternary": {
           "aaxis": {
            "gridcolor": "#506784",
            "linecolor": "#506784",
            "ticks": ""
           },
           "baxis": {
            "gridcolor": "#506784",
            "linecolor": "#506784",
            "ticks": ""
           },
           "bgcolor": "rgb(17,17,17)",
           "caxis": {
            "gridcolor": "#506784",
            "linecolor": "#506784",
            "ticks": ""
           }
          },
          "title": {
           "x": 0.05
          },
          "updatemenudefaults": {
           "bgcolor": "#506784",
           "borderwidth": 0
          },
          "xaxis": {
           "automargin": true,
           "gridcolor": "#283442",
           "linecolor": "#506784",
           "ticks": "",
           "title": {
            "standoff": 15
           },
           "zerolinecolor": "#283442",
           "zerolinewidth": 2
          },
          "yaxis": {
           "automargin": true,
           "gridcolor": "#283442",
           "linecolor": "#506784",
           "ticks": "",
           "title": {
            "standoff": 15
           },
           "zerolinecolor": "#283442",
           "zerolinewidth": 2
          }
         }
        },
        "title": {
         "text": "Viscosidad Dinámica del Aire vs. Temperatura"
        },
        "xaxis": {
         "title": {
          "text": "Temperatura (°C)"
         }
        },
        "yaxis": {
         "title": {
          "text": "Viscosidad (Pa·s)"
         }
        }
       }
      },
      "text/html": [
       "<div>                            <div id=\"df3d5bc5-bea0-4121-a219-2b1dbc41167c\" class=\"plotly-graph-div\" style=\"height:525px; width:100%;\"></div>            <script type=\"text/javascript\">                require([\"plotly\"], function(Plotly) {                    window.PLOTLYENV=window.PLOTLYENV || {};                                    if (document.getElementById(\"df3d5bc5-bea0-4121-a219-2b1dbc41167c\")) {                    Plotly.newPlot(                        \"df3d5bc5-bea0-4121-a219-2b1dbc41167c\",                        [{\"line\":{\"color\":\"orange\"},\"mode\":\"lines+markers\",\"name\":\"Viscosidad Aire (Pa\\u00b7s)\",\"x\":[0.0,1.0101010101010102,2.0202020202020203,3.0303030303030303,4.040404040404041,5.050505050505051,6.0606060606060606,7.070707070707071,8.080808080808081,9.090909090909092,10.101010101010102,11.111111111111112,12.121212121212121,13.131313131313131,14.141414141414142,15.151515151515152,16.161616161616163,17.171717171717173,18.181818181818183,19.191919191919194,20.202020202020204,21.212121212121215,22.222222222222225,23.232323232323235,24.242424242424242,25.252525252525253,26.262626262626263,27.272727272727273,28.282828282828284,29.292929292929294,30.303030303030305,31.313131313131315,32.323232323232325,33.333333333333336,34.343434343434346,35.35353535353536,36.36363636363637,37.37373737373738,38.38383838383839,39.3939393939394,40.40404040404041,41.41414141414142,42.42424242424243,43.43434343434344,44.44444444444445,45.45454545454546,46.46464646464647,47.47474747474748,48.484848484848484,49.494949494949495,50.505050505050505,51.515151515151516,52.525252525252526,53.535353535353536,54.54545454545455,55.55555555555556,56.56565656565657,57.57575757575758,58.58585858585859,59.5959595959596,60.60606060606061,61.61616161616162,62.62626262626263,63.63636363636364,64.64646464646465,65.65656565656566,66.66666666666667,67.67676767676768,68.68686868686869,69.6969696969697,70.70707070707071,71.71717171717172,72.72727272727273,73.73737373737374,74.74747474747475,75.75757575757576,76.76767676767678,77.77777777777779,78.7878787878788,79.7979797979798,80.80808080808082,81.81818181818183,82.82828282828284,83.83838383838385,84.84848484848486,85.85858585858587,86.86868686868688,87.87878787878789,88.8888888888889,89.89898989898991,90.90909090909092,91.91919191919193,92.92929292929294,93.93939393939395,94.94949494949496,95.95959595959597,96.96969696969697,97.97979797979798,98.98989898989899,100.0],\"y\":[1.81e-05,1.8136565656565655e-05,1.8173131313131315e-05,1.820969696969697e-05,1.8246262626262627e-05,1.8282828282828283e-05,1.8319393939393942e-05,1.8355959595959598e-05,1.8392525252525254e-05,1.8429090909090906e-05,1.8465656565656562e-05,1.850222222222222e-05,1.8538787878787878e-05,1.8575353535353534e-05,1.861191919191919e-05,1.864848484848485e-05,1.8685050505050505e-05,1.872161616161616e-05,1.8758181818181817e-05,1.8794747474747476e-05,1.8831313131313132e-05,1.8867878787878788e-05,1.8904444444444444e-05,1.8941010101010103e-05,1.897757575757576e-05,1.9014141414141415e-05,1.9050707070707068e-05,1.9087272727272723e-05,1.9123838383838383e-05,1.916040404040404e-05,1.9196969696969695e-05,1.923353535353535e-05,1.927010101010101e-05,1.9306666666666666e-05,1.9343232323232322e-05,1.9379797979797978e-05,1.9416363636363637e-05,1.9452929292929293e-05,1.948949494949495e-05,1.952606060606061e-05,1.9562626262626264e-05,1.959919191919192e-05,1.9635757575757576e-05,1.9672323232323235e-05,1.970888888888889e-05,1.9745454545454544e-05,1.97820202020202e-05,1.9818585858585856e-05,1.9855151515151515e-05,1.989171717171717e-05,1.9928282828282827e-05,1.9964848484848483e-05,2.0001414141414142e-05,2.0037979797979798e-05,2.0074545454545454e-05,2.011111111111111e-05,2.014767676767677e-05,2.0184242424242425e-05,2.022080808080808e-05,2.0257373737373737e-05,2.029393939393939e-05,2.033050505050505e-05,2.0367070707070705e-05,2.040363636363636e-05,2.0440202020202017e-05,2.0476767676767676e-05,2.0513333333333332e-05,2.0549898989898988e-05,2.0586464646464644e-05,2.0623030303030304e-05,2.065959595959596e-05,2.0696161616161615e-05,2.073272727272727e-05,2.076929292929293e-05,2.0805858585858587e-05,2.0842424242424243e-05,2.0878989898989902e-05,2.0915555555555558e-05,2.0952121212121214e-05,2.0988686868686866e-05,2.1025252525252522e-05,2.106181818181818e-05,2.1098383838383838e-05,2.1134949494949493e-05,2.117151515151515e-05,2.120808080808081e-05,2.1244646464646465e-05,2.128121212121212e-05,2.1317777777777777e-05,2.1354343434343436e-05,2.1390909090909092e-05,2.1427474747474748e-05,2.1464040404040404e-05,2.1500606060606063e-05,2.153717171717172e-05,2.1573737373737375e-05,2.1610303030303028e-05,2.1646868686868683e-05,2.1683434343434343e-05,2.172e-05],\"type\":\"scatter\"}],                        {\"template\":{\"data\":{\"barpolar\":[{\"marker\":{\"line\":{\"color\":\"rgb(17,17,17)\",\"width\":0.5},\"pattern\":{\"fillmode\":\"overlay\",\"size\":10,\"solidity\":0.2}},\"type\":\"barpolar\"}],\"bar\":[{\"error_x\":{\"color\":\"#f2f5fa\"},\"error_y\":{\"color\":\"#f2f5fa\"},\"marker\":{\"line\":{\"color\":\"rgb(17,17,17)\",\"width\":0.5},\"pattern\":{\"fillmode\":\"overlay\",\"size\":10,\"solidity\":0.2}},\"type\":\"bar\"}],\"carpet\":[{\"aaxis\":{\"endlinecolor\":\"#A2B1C6\",\"gridcolor\":\"#506784\",\"linecolor\":\"#506784\",\"minorgridcolor\":\"#506784\",\"startlinecolor\":\"#A2B1C6\"},\"baxis\":{\"endlinecolor\":\"#A2B1C6\",\"gridcolor\":\"#506784\",\"linecolor\":\"#506784\",\"minorgridcolor\":\"#506784\",\"startlinecolor\":\"#A2B1C6\"},\"type\":\"carpet\"}],\"choropleth\":[{\"colorbar\":{\"outlinewidth\":0,\"ticks\":\"\"},\"type\":\"choropleth\"}],\"contourcarpet\":[{\"colorbar\":{\"outlinewidth\":0,\"ticks\":\"\"},\"type\":\"contourcarpet\"}],\"contour\":[{\"colorbar\":{\"outlinewidth\":0,\"ticks\":\"\"},\"colorscale\":[[0.0,\"#0d0887\"],[0.1111111111111111,\"#46039f\"],[0.2222222222222222,\"#7201a8\"],[0.3333333333333333,\"#9c179e\"],[0.4444444444444444,\"#bd3786\"],[0.5555555555555556,\"#d8576b\"],[0.6666666666666666,\"#ed7953\"],[0.7777777777777778,\"#fb9f3a\"],[0.8888888888888888,\"#fdca26\"],[1.0,\"#f0f921\"]],\"type\":\"contour\"}],\"heatmapgl\":[{\"colorbar\":{\"outlinewidth\":0,\"ticks\":\"\"},\"colorscale\":[[0.0,\"#0d0887\"],[0.1111111111111111,\"#46039f\"],[0.2222222222222222,\"#7201a8\"],[0.3333333333333333,\"#9c179e\"],[0.4444444444444444,\"#bd3786\"],[0.5555555555555556,\"#d8576b\"],[0.6666666666666666,\"#ed7953\"],[0.7777777777777778,\"#fb9f3a\"],[0.8888888888888888,\"#fdca26\"],[1.0,\"#f0f921\"]],\"type\":\"heatmapgl\"}],\"heatmap\":[{\"colorbar\":{\"outlinewidth\":0,\"ticks\":\"\"},\"colorscale\":[[0.0,\"#0d0887\"],[0.1111111111111111,\"#46039f\"],[0.2222222222222222,\"#7201a8\"],[0.3333333333333333,\"#9c179e\"],[0.4444444444444444,\"#bd3786\"],[0.5555555555555556,\"#d8576b\"],[0.6666666666666666,\"#ed7953\"],[0.7777777777777778,\"#fb9f3a\"],[0.8888888888888888,\"#fdca26\"],[1.0,\"#f0f921\"]],\"type\":\"heatmap\"}],\"histogram2dcontour\":[{\"colorbar\":{\"outlinewidth\":0,\"ticks\":\"\"},\"colorscale\":[[0.0,\"#0d0887\"],[0.1111111111111111,\"#46039f\"],[0.2222222222222222,\"#7201a8\"],[0.3333333333333333,\"#9c179e\"],[0.4444444444444444,\"#bd3786\"],[0.5555555555555556,\"#d8576b\"],[0.6666666666666666,\"#ed7953\"],[0.7777777777777778,\"#fb9f3a\"],[0.8888888888888888,\"#fdca26\"],[1.0,\"#f0f921\"]],\"type\":\"histogram2dcontour\"}],\"histogram2d\":[{\"colorbar\":{\"outlinewidth\":0,\"ticks\":\"\"},\"colorscale\":[[0.0,\"#0d0887\"],[0.1111111111111111,\"#46039f\"],[0.2222222222222222,\"#7201a8\"],[0.3333333333333333,\"#9c179e\"],[0.4444444444444444,\"#bd3786\"],[0.5555555555555556,\"#d8576b\"],[0.6666666666666666,\"#ed7953\"],[0.7777777777777778,\"#fb9f3a\"],[0.8888888888888888,\"#fdca26\"],[1.0,\"#f0f921\"]],\"type\":\"histogram2d\"}],\"histogram\":[{\"marker\":{\"pattern\":{\"fillmode\":\"overlay\",\"size\":10,\"solidity\":0.2}},\"type\":\"histogram\"}],\"mesh3d\":[{\"colorbar\":{\"outlinewidth\":0,\"ticks\":\"\"},\"type\":\"mesh3d\"}],\"parcoords\":[{\"line\":{\"colorbar\":{\"outlinewidth\":0,\"ticks\":\"\"}},\"type\":\"parcoords\"}],\"pie\":[{\"automargin\":true,\"type\":\"pie\"}],\"scatter3d\":[{\"line\":{\"colorbar\":{\"outlinewidth\":0,\"ticks\":\"\"}},\"marker\":{\"colorbar\":{\"outlinewidth\":0,\"ticks\":\"\"}},\"type\":\"scatter3d\"}],\"scattercarpet\":[{\"marker\":{\"colorbar\":{\"outlinewidth\":0,\"ticks\":\"\"}},\"type\":\"scattercarpet\"}],\"scattergeo\":[{\"marker\":{\"colorbar\":{\"outlinewidth\":0,\"ticks\":\"\"}},\"type\":\"scattergeo\"}],\"scattergl\":[{\"marker\":{\"line\":{\"color\":\"#283442\"}},\"type\":\"scattergl\"}],\"scattermapbox\":[{\"marker\":{\"colorbar\":{\"outlinewidth\":0,\"ticks\":\"\"}},\"type\":\"scattermapbox\"}],\"scatterpolargl\":[{\"marker\":{\"colorbar\":{\"outlinewidth\":0,\"ticks\":\"\"}},\"type\":\"scatterpolargl\"}],\"scatterpolar\":[{\"marker\":{\"colorbar\":{\"outlinewidth\":0,\"ticks\":\"\"}},\"type\":\"scatterpolar\"}],\"scatter\":[{\"marker\":{\"line\":{\"color\":\"#283442\"}},\"type\":\"scatter\"}],\"scatterternary\":[{\"marker\":{\"colorbar\":{\"outlinewidth\":0,\"ticks\":\"\"}},\"type\":\"scatterternary\"}],\"surface\":[{\"colorbar\":{\"outlinewidth\":0,\"ticks\":\"\"},\"colorscale\":[[0.0,\"#0d0887\"],[0.1111111111111111,\"#46039f\"],[0.2222222222222222,\"#7201a8\"],[0.3333333333333333,\"#9c179e\"],[0.4444444444444444,\"#bd3786\"],[0.5555555555555556,\"#d8576b\"],[0.6666666666666666,\"#ed7953\"],[0.7777777777777778,\"#fb9f3a\"],[0.8888888888888888,\"#fdca26\"],[1.0,\"#f0f921\"]],\"type\":\"surface\"}],\"table\":[{\"cells\":{\"fill\":{\"color\":\"#506784\"},\"line\":{\"color\":\"rgb(17,17,17)\"}},\"header\":{\"fill\":{\"color\":\"#2a3f5f\"},\"line\":{\"color\":\"rgb(17,17,17)\"}},\"type\":\"table\"}]},\"layout\":{\"annotationdefaults\":{\"arrowcolor\":\"#f2f5fa\",\"arrowhead\":0,\"arrowwidth\":1},\"autotypenumbers\":\"strict\",\"coloraxis\":{\"colorbar\":{\"outlinewidth\":0,\"ticks\":\"\"}},\"colorscale\":{\"diverging\":[[0,\"#8e0152\"],[0.1,\"#c51b7d\"],[0.2,\"#de77ae\"],[0.3,\"#f1b6da\"],[0.4,\"#fde0ef\"],[0.5,\"#f7f7f7\"],[0.6,\"#e6f5d0\"],[0.7,\"#b8e186\"],[0.8,\"#7fbc41\"],[0.9,\"#4d9221\"],[1,\"#276419\"]],\"sequential\":[[0.0,\"#0d0887\"],[0.1111111111111111,\"#46039f\"],[0.2222222222222222,\"#7201a8\"],[0.3333333333333333,\"#9c179e\"],[0.4444444444444444,\"#bd3786\"],[0.5555555555555556,\"#d8576b\"],[0.6666666666666666,\"#ed7953\"],[0.7777777777777778,\"#fb9f3a\"],[0.8888888888888888,\"#fdca26\"],[1.0,\"#f0f921\"]],\"sequentialminus\":[[0.0,\"#0d0887\"],[0.1111111111111111,\"#46039f\"],[0.2222222222222222,\"#7201a8\"],[0.3333333333333333,\"#9c179e\"],[0.4444444444444444,\"#bd3786\"],[0.5555555555555556,\"#d8576b\"],[0.6666666666666666,\"#ed7953\"],[0.7777777777777778,\"#fb9f3a\"],[0.8888888888888888,\"#fdca26\"],[1.0,\"#f0f921\"]]},\"colorway\":[\"#636efa\",\"#EF553B\",\"#00cc96\",\"#ab63fa\",\"#FFA15A\",\"#19d3f3\",\"#FF6692\",\"#B6E880\",\"#FF97FF\",\"#FECB52\"],\"font\":{\"color\":\"#f2f5fa\"},\"geo\":{\"bgcolor\":\"rgb(17,17,17)\",\"lakecolor\":\"rgb(17,17,17)\",\"landcolor\":\"rgb(17,17,17)\",\"showlakes\":true,\"showland\":true,\"subunitcolor\":\"#506784\"},\"hoverlabel\":{\"align\":\"left\"},\"hovermode\":\"closest\",\"mapbox\":{\"style\":\"dark\"},\"paper_bgcolor\":\"rgb(17,17,17)\",\"plot_bgcolor\":\"rgb(17,17,17)\",\"polar\":{\"angularaxis\":{\"gridcolor\":\"#506784\",\"linecolor\":\"#506784\",\"ticks\":\"\"},\"bgcolor\":\"rgb(17,17,17)\",\"radialaxis\":{\"gridcolor\":\"#506784\",\"linecolor\":\"#506784\",\"ticks\":\"\"}},\"scene\":{\"xaxis\":{\"backgroundcolor\":\"rgb(17,17,17)\",\"gridcolor\":\"#506784\",\"gridwidth\":2,\"linecolor\":\"#506784\",\"showbackground\":true,\"ticks\":\"\",\"zerolinecolor\":\"#C8D4E3\"},\"yaxis\":{\"backgroundcolor\":\"rgb(17,17,17)\",\"gridcolor\":\"#506784\",\"gridwidth\":2,\"linecolor\":\"#506784\",\"showbackground\":true,\"ticks\":\"\",\"zerolinecolor\":\"#C8D4E3\"},\"zaxis\":{\"backgroundcolor\":\"rgb(17,17,17)\",\"gridcolor\":\"#506784\",\"gridwidth\":2,\"linecolor\":\"#506784\",\"showbackground\":true,\"ticks\":\"\",\"zerolinecolor\":\"#C8D4E3\"}},\"shapedefaults\":{\"line\":{\"color\":\"#f2f5fa\"}},\"sliderdefaults\":{\"bgcolor\":\"#C8D4E3\",\"bordercolor\":\"rgb(17,17,17)\",\"borderwidth\":1,\"tickwidth\":0},\"ternary\":{\"aaxis\":{\"gridcolor\":\"#506784\",\"linecolor\":\"#506784\",\"ticks\":\"\"},\"baxis\":{\"gridcolor\":\"#506784\",\"linecolor\":\"#506784\",\"ticks\":\"\"},\"bgcolor\":\"rgb(17,17,17)\",\"caxis\":{\"gridcolor\":\"#506784\",\"linecolor\":\"#506784\",\"ticks\":\"\"}},\"title\":{\"x\":0.05},\"updatemenudefaults\":{\"bgcolor\":\"#506784\",\"borderwidth\":0},\"xaxis\":{\"automargin\":true,\"gridcolor\":\"#283442\",\"linecolor\":\"#506784\",\"ticks\":\"\",\"title\":{\"standoff\":15},\"zerolinecolor\":\"#283442\",\"zerolinewidth\":2},\"yaxis\":{\"automargin\":true,\"gridcolor\":\"#283442\",\"linecolor\":\"#506784\",\"ticks\":\"\",\"title\":{\"standoff\":15},\"zerolinecolor\":\"#283442\",\"zerolinewidth\":2}}},\"title\":{\"text\":\"Viscosidad Din\\u00e1mica del Aire vs. Temperatura\"},\"xaxis\":{\"title\":{\"text\":\"Temperatura (\\u00b0C)\"}},\"yaxis\":{\"title\":{\"text\":\"Viscosidad (Pa\\u00b7s)\"}}},                        {\"responsive\": true}                    ).then(function(){\n",
       "                            \n",
       "var gd = document.getElementById('df3d5bc5-bea0-4121-a219-2b1dbc41167c');\n",
       "var x = new MutationObserver(function (mutations, observer) {{\n",
       "        var display = window.getComputedStyle(gd).display;\n",
       "        if (!display || display === 'none') {{\n",
       "            console.log([gd, 'removed!']);\n",
       "            Plotly.purge(gd);\n",
       "            observer.disconnect();\n",
       "        }}\n",
       "}});\n",
       "\n",
       "// Listen for the removal of the full notebook cells\n",
       "var notebookContainer = gd.closest('#notebook-container');\n",
       "if (notebookContainer) {{\n",
       "    x.observe(notebookContainer, {childList: true});\n",
       "}}\n",
       "\n",
       "// Listen for the clearing of the current output cell\n",
       "var outputEl = gd.closest('.output');\n",
       "if (outputEl) {{\n",
       "    x.observe(outputEl, {childList: true});\n",
       "}}\n",
       "\n",
       "                        })                };                });            </script>        </div>"
      ]
     },
     "metadata": {},
     "output_type": "display_data"
    }
   ],
   "source": [
    "import numpy as np\n",
    "import plotly.graph_objects as go\n",
    "\n",
    "# Datos de temperatura en °C\n",
    "temperaturas = np.linspace(0, 100, 100)\n",
    "\n",
    "# Propiedades del agua y aire en función de la temperatura (valores aproximados)\n",
    "viscosidad_agua = 0.00179 * (1 - 0.02 * temperaturas)  # Pa·s\n",
    "viscosidad_aire = 1.81e-5 * (1 + 0.002 * temperaturas)  # Pa·s\n",
    "densidad_agua = 999.84 - 0.07 * temperaturas  # kg/m³\n",
    "\n",
    "# Crear la figura para la viscosidad dinámica del agua con densidad\n",
    "fig_agua = go.Figure()\n",
    "fig_agua.add_trace(go.Scatter(x=temperaturas, y=viscosidad_agua, mode='lines+markers', name='Viscosidad Agua (Pa·s)', line=dict(color='cyan'), yaxis='y1'))\n",
    "fig_agua.add_trace(go.Scatter(x=temperaturas, y=densidad_agua, mode='lines+markers', name='Densidad Agua (kg/m³)', line=dict(color='blue'), yaxis='y2'))\n",
    "\n",
    "fig_agua.update_layout(\n",
    "    title='Viscosidad Dinámica y Densidad del Agua vs. Temperatura',\n",
    "    xaxis_title='Temperatura (°C)',\n",
    "    yaxis=dict(title='Viscosidad (Pa·s)', side='left', color='cyan', showgrid=False),\n",
    "    yaxis2=dict(title='Densidad (kg/m³)', side='right', overlaying='y', color='blue', showgrid=False),\n",
    "    template='plotly_dark'\n",
    ")\n",
    "\n",
    "# Crear la figura para la viscosidad dinámica del aire\n",
    "fig_aire = go.Figure()\n",
    "fig_aire.add_trace(go.Scatter(x=temperaturas, y=viscosidad_aire, mode='lines+markers', name='Viscosidad Aire (Pa·s)', line=dict(color='orange')))\n",
    "\n",
    "fig_aire.update_layout(\n",
    "    title='Viscosidad Dinámica del Aire vs. Temperatura',\n",
    "    xaxis_title='Temperatura (°C)',\n",
    "    yaxis_title='Viscosidad (Pa·s)',\n",
    "    template='plotly_dark'\n",
    ")\n",
    "\n",
    "# Mostrar las gráficas\n",
    "fig_agua.show()\n",
    "fig_aire.show()\n"
   ]
  },
  {
   "cell_type": "markdown",
   "id": "72368bee-fa29-42e4-8cf1-16a741b6c8e0",
   "metadata": {},
   "source": [
    "### Fluidos newtonianos y no newtonianos"
   ]
  },
  {
   "cell_type": "markdown",
   "id": "4129e994-f6b6-48ac-88c1-ece4e7784c0a",
   "metadata": {},
   "source": []
  },
  {
   "cell_type": "code",
   "execution_count": 10,
   "id": "0554b89e-4bc9-4bdb-80cc-00d32a634160",
   "metadata": {},
   "outputs": [
    {
     "data": {
      "text/html": [
       "<style>.jp-Cell-input {display: none;}</style>"
      ],
      "text/plain": [
       "<IPython.core.display.HTML object>"
      ]
     },
     "metadata": {},
     "output_type": "display_data"
    },
    {
     "data": {
      "application/vnd.jupyter.widget-view+json": {
       "model_id": "2131500d5a4341739a069fbabac0eac1",
       "version_major": 2,
       "version_minor": 0
      },
      "text/plain": [
       "VBox(children=(ToggleButtons(description='Tipo de Fluido:', options=('Fluidos Newtonianos', 'Fluidos No Newton…"
      ]
     },
     "metadata": {},
     "output_type": "display_data"
    }
   ],
   "source": [
    "from IPython.display import HTML, display\n",
    "display(HTML('''<style>.jp-Cell-input {display: none;}</style>'''))\n",
    "\n",
    "import ipywidgets as widgets\n",
    "from IPython.display import display, YouTubeVideo, HTML\n",
    "\n",
    "# Definir las descripciones para los fluidos\n",
    "texto_newtonianos = \"\"\"Los fluidos newtonianos son aquellos cuya viscosidad es constante y no depende de la tasa de deformación. \n",
    "Esto significa que la relación entre la tensión de cizallamiento y la tasa de deformación es lineal. Ejemplos incluyen el agua, \n",
    "el aire y aceites diluidos.\"\"\"\n",
    "\n",
    "texto_no_newtonianos = \"\"\"Los fluidos no newtonianos no siguen una relación lineal entre la tensión de cizallamiento y la tasa de deformación. \n",
    "Su viscosidad depende de la velocidad de cizallamiento, el tiempo o el esfuerzo aplicado. Ejemplos incluyen la sangre, pintura y jarabes.\"\"\"\n",
    "\n",
    "# Función para actualizar el texto y video según la opción seleccionada\n",
    "def actualizar_texto(cambio):\n",
    "    if tipo_slider.value == 'Fluidos Newtonianos':\n",
    "        info_text.value = texto_newtonianos\n",
    "        video_id.value = \"1BTTWbx-GN4\"  # ID de video para fluidos newtonianos\n",
    "    else:\n",
    "        info_text.value = texto_no_newtonianos\n",
    "        video_id.value = \"1BTTWbx-GN4\"  # ID de video para fluidos no newtonianos\n",
    "    \n",
    "    # Actualizar el video en el widget HTML\n",
    "    video_player = YouTubeVideo(video_id.value, width=800, height=450)\n",
    "    centered_video.value = f\"<div style='display: flex; justify-content: center;'>{video_player._repr_html_()}</div>\"\n",
    "\n",
    "# Crear el widget para seleccionar el tipo de fluido\n",
    "tipo_slider = widgets.ToggleButtons(\n",
    "    options=['Fluidos Newtonianos', 'Fluidos No Newtonianos'],\n",
    "    description='Tipo de Fluido:',\n",
    "    disabled=False,\n",
    "    style={'description_width': 'initial'}\n",
    ")\n",
    "\n",
    "# Crear el widget Textarea para mostrar la información de las definiciones\n",
    "info_text = widgets.Textarea(value=texto_newtonianos, layout=widgets.Layout(width='80%', height='200px'), disabled=True)\n",
    "\n",
    "# Crear el widget HTML para mostrar el video\n",
    "video_id = widgets.HTML(value=\"1BTTWbx-GN4\")  # Inicializar el ID del video\n",
    "video_player = YouTubeVideo(video_id.value, width=800, height=450)\n",
    "centered_video = widgets.HTML(value=f\"<div style='display: flex; justify-content: center;'>{video_player._repr_html_()}</div>\")\n",
    "\n",
    "# Enlazar el cambio de opción con la función que actualiza el texto y el video\n",
    "tipo_slider.observe(actualizar_texto, names='value')\n",
    "\n",
    "# Organizar los widgets en un VBox para mejorar la disposición\n",
    "ui = widgets.VBox([tipo_slider, info_text, centered_video])\n",
    "\n",
    "# Mostrar los widgets\n",
    "display(ui)\n"
   ]
  },
  {
   "cell_type": "code",
   "execution_count": 7,
   "id": "5c84348a-1518-43f1-8f1e-34cb32351d84",
   "metadata": {},
   "outputs": [
    {
     "data": {
      "text/html": [
       "<style>.jp-Cell-input {display: none;}</style>"
      ],
      "text/plain": [
       "<IPython.core.display.HTML object>"
      ]
     },
     "metadata": {},
     "output_type": "display_data"
    },
    {
     "data": {
      "application/vnd.jupyter.widget-view+json": {
       "model_id": "36bce3d592904bf098821c04e44ad613",
       "version_major": 2,
       "version_minor": 0
      },
      "text/plain": [
       "IntSlider(value=25, continuous_update=False, description='Temperatura (°C):', layout=Layout(width='50%'), max=…"
      ]
     },
     "metadata": {},
     "output_type": "display_data"
    },
    {
     "data": {
      "application/vnd.jupyter.widget-view+json": {
       "model_id": "c41ae2889cff4bd7a913682742e2aa08",
       "version_major": 2,
       "version_minor": 0
      },
      "text/plain": [
       "Label(value='Valor de E_v a 25°C: 2.20e+09 Pa', layout=Layout(width='80%'))"
      ]
     },
     "metadata": {},
     "output_type": "display_data"
    }
   ],
   "source": [
    "from IPython.display import HTML, display\n",
    "display(HTML('''<style>.jp-Cell-input {display: none;}</style>'''))\n",
    "\n",
    "import ipywidgets as widgets\n",
    "from IPython.display import display\n",
    "\n",
    "# Parámetros para el agua\n",
    "E_v0 = 2.2e9  # Módulo de elasticidad volumétrica a T=0°C (en Pascales)\n",
    "a = 2.3e-5    # Coeficiente de cambio del módulo de elasticidad con la temperatura (en 1/°C)\n",
    "\n",
    "# Función para calcular el módulo de elasticidad volumétrica en función de la temperatura\n",
    "def calcular_Ev(T):\n",
    "    E_v = E_v0 * (1 - a * T)\n",
    "    return E_v\n",
    "\n",
    "# Función para mostrar el valor del módulo de elasticidad\n",
    "def mostrar_valor(val):\n",
    "    # Calcular el valor de E_v para la temperatura seleccionada\n",
    "    E_v = calcular_Ev(temp_slider.value)\n",
    "    # Actualizar el texto del valor\n",
    "    valor_label.value = f\"Valor de E_v del agua a {temp_slider.value}°C: {E_v:.2e} Pa\"\n",
    "\n",
    "# Widget para la temperatura\n",
    "temp_slider = widgets.IntSlider(\n",
    "    value=25,  # Valor inicial\n",
    "    min=-10,   # Mínimo\n",
    "    max=500,   # Máximo\n",
    "    step=1,    # Paso\n",
    "    description='Temperatura (°C):',  # Descripción más larga\n",
    "    continuous_update=False,  # Solo actualiza al soltar el slider\n",
    "    layout=widgets.Layout(width='50%'),  # Ampliamos el ancho del slider\n",
    "    style={'description_width': 'initial'}  # Ajustamos el espacio para la descripción\n",
    ")\n",
    "\n",
    "# Etiqueta para mostrar el valor calculado\n",
    "valor_label = widgets.Label(\n",
    "    value=f\"Valor de E_v a {temp_slider.value}°C: {calcular_Ev(temp_slider.value):.2e} Pa\",\n",
    "    layout=widgets.Layout(width='80%')  # Ampliamos el ancho de la etiqueta\n",
    ")\n",
    "\n",
    "# Enlazar el widget con la función de actualización\n",
    "temp_slider.observe(mostrar_valor, names='value')\n",
    "\n",
    "# Mostrar el widget y la etiqueta\n",
    "display(temp_slider, valor_label)\n",
    "\n"
   ]
  },
  {
   "cell_type": "markdown",
   "id": "76ef1908-775b-42eb-8b52-cce37a9aa9e9",
   "metadata": {},
   "source": [
    "### Compresibilidad\n",
    "\n",
    "La compresibilidad de un fluido es una medida del cambio de volumen y por lo tanto de su densidad, cuando se somete a diversas presiones. Cuando un volumen $V$ de un líquido de densidad $\\rho$ y presión $P$ se somete a compresión por efecto de una fuerza $F$, como se muestra en la Figura 1, la masa total del fluido $\\rho \\cdot V$ permanece constante, es decir:\n",
    "\n",
    "<figure style=\"text-align: center;\">\n",
    "    <img src=\"img/compresibilidad.gif\" width=\"500\" alt=\"compresibilidad\">\n",
    "    <figcaption>\n",
    "        <p><strong>Descripción:</strong> Comparación entre compresibilidad de un liquido y un gas</p>\n",
    "        <p><strong>Fuente:</strong>fzflujodefluidos.blogspot.com</p>\n",
    "    </figcaption>\n",
    "</figure>\n",
    "\n",
    "La ecuación asociada es:\n",
    "\n",
    "$$\n",
    "d(\\rho \\cdot V) = \\rho \\cdot dV + V \\cdot d\\rho = 0\n",
    "$$\n",
    "\n",
    "De donde resulta:\n",
    "\n",
    "$$\n",
    "- \\frac{V}{dV} = \\frac{\\rho}{d\\rho}\n",
    "$$\n",
    "\n",
    "Al multiplicar ambos miembros por $dp$, se obtiene:\n",
    "\n",
    "$$\n",
    "E_v = \\frac{dP}{- \\frac{dV}{V}}\n",
    "$$\n",
    "\n",
    "La cantidad $E_v$ se conoce como módulo de elasticidad volumétrica del fluido. Este define el cambio asociado en el volumen, o densidad. por unidad de volumen o densidad, siendo una medida directa de la compresibilidad de un fluido. Sus dimensiones son de esfuerzo $[FL^{-2}]$. El signo negativo de la ecuación indica una disminución del volumen al aumentar la presión.\n",
    "\n",
    "### Variación del Módulo de Elasticidad\n",
    "\n",
    "La mayoría de los fluidos poseen un módulo de elasticidad volumétrica relativamente grande que depende de la temperatura. Esto significa que ocurren variaciones pequeñas de volumen o de densidad inclusive para variaciones grandes de presión. En general, salvo en fenómenos en los que se producen incrementos violentos de presión y temperatura por ejemplo como el golpe de ariete, flujos a gran velocidad, flujos con transferencia de calor, los cambios son pequeños y no son de gran importancia. Lo anterior es particularmente cierto en los líquidos, ya que se consideran incompresibles.\n"
   ]
  },
  {
   "cell_type": "code",
   "execution_count": 11,
   "id": "5025d809",
   "metadata": {},
   "outputs": [
    {
     "data": {
      "application/vnd.plotly.v1+json": {
       "config": {
        "plotlyServerURL": "https://plot.ly"
       },
       "data": [
        {
         "line": {
          "color": "purple"
         },
         "mode": "lines+markers",
         "name": "Módulo de Elasticidad (MPa)",
         "type": "scatter",
         "x": [
          0,
          1.0101010101010102,
          2.0202020202020203,
          3.0303030303030303,
          4.040404040404041,
          5.050505050505051,
          6.0606060606060606,
          7.070707070707071,
          8.080808080808081,
          9.090909090909092,
          10.101010101010102,
          11.111111111111112,
          12.121212121212121,
          13.131313131313131,
          14.141414141414142,
          15.151515151515152,
          16.161616161616163,
          17.171717171717173,
          18.181818181818183,
          19.191919191919194,
          20.202020202020204,
          21.212121212121215,
          22.222222222222225,
          23.232323232323235,
          24.242424242424242,
          25.252525252525253,
          26.262626262626263,
          27.272727272727273,
          28.282828282828284,
          29.292929292929294,
          30.303030303030305,
          31.313131313131315,
          32.323232323232325,
          33.333333333333336,
          34.343434343434346,
          35.35353535353536,
          36.36363636363637,
          37.37373737373738,
          38.38383838383839,
          39.3939393939394,
          40.40404040404041,
          41.41414141414142,
          42.42424242424243,
          43.43434343434344,
          44.44444444444445,
          45.45454545454546,
          46.46464646464647,
          47.47474747474748,
          48.484848484848484,
          49.494949494949495,
          50.505050505050505,
          51.515151515151516,
          52.525252525252526,
          53.535353535353536,
          54.54545454545455,
          55.55555555555556,
          56.56565656565657,
          57.57575757575758,
          58.58585858585859,
          59.5959595959596,
          60.60606060606061,
          61.61616161616162,
          62.62626262626263,
          63.63636363636364,
          64.64646464646465,
          65.65656565656566,
          66.66666666666667,
          67.67676767676768,
          68.68686868686869,
          69.6969696969697,
          70.70707070707071,
          71.71717171717172,
          72.72727272727273,
          73.73737373737374,
          74.74747474747475,
          75.75757575757576,
          76.76767676767678,
          77.77777777777779,
          78.7878787878788,
          79.7979797979798,
          80.80808080808082,
          81.81818181818183,
          82.82828282828284,
          83.83838383838385,
          84.84848484848486,
          85.85858585858587,
          86.86868686868688,
          87.87878787878789,
          88.8888888888889,
          89.89898989898991,
          90.90909090909092,
          91.91919191919193,
          92.92929292929294,
          93.93939393939395,
          94.94949494949496,
          95.95959595959597,
          96.96969696969697,
          97.97979797979798,
          98.98989898989899,
          100
         ],
         "y": [
          2200,
          2194.949494949495,
          2189.89898989899,
          2184.848484848485,
          2179.7979797979797,
          2174.747474747475,
          2169.6969696969695,
          2164.6464646464647,
          2159.59595959596,
          2154.5454545454545,
          2149.4949494949497,
          2144.4444444444443,
          2139.3939393939395,
          2134.343434343434,
          2129.2929292929293,
          2124.242424242424,
          2119.191919191919,
          2114.1414141414143,
          2109.090909090909,
          2104.040404040404,
          2098.989898989899,
          2093.939393939394,
          2088.8888888888887,
          2083.838383838384,
          2078.787878787879,
          2073.7373737373737,
          2068.686868686869,
          2063.6363636363635,
          2058.5858585858587,
          2053.5353535353534,
          2048.4848484848485,
          2043.4343434343434,
          2038.3838383838383,
          2033.3333333333333,
          2028.2828282828282,
          2023.2323232323233,
          2018.1818181818182,
          2013.1313131313132,
          2008.080808080808,
          2003.030303030303,
          1997.979797979798,
          1992.9292929292928,
          1987.8787878787878,
          1982.8282828282827,
          1977.7777777777778,
          1972.7272727272727,
          1967.6767676767677,
          1962.6262626262626,
          1957.5757575757575,
          1952.5252525252527,
          1947.4747474747473,
          1942.4242424242425,
          1937.3737373737374,
          1932.3232323232323,
          1927.2727272727273,
          1922.2222222222222,
          1917.171717171717,
          1912.121212121212,
          1907.0707070707072,
          1902.020202020202,
          1896.969696969697,
          1891.919191919192,
          1886.8686868686868,
          1881.8181818181818,
          1876.7676767676767,
          1871.7171717171718,
          1866.6666666666665,
          1861.6161616161617,
          1856.5656565656566,
          1851.5151515151515,
          1846.4646464646464,
          1841.4141414141413,
          1836.3636363636363,
          1831.3131313131312,
          1826.2626262626263,
          1821.2121212121212,
          1816.1616161616162,
          1811.111111111111,
          1806.060606060606,
          1801.010101010101,
          1795.9595959595958,
          1790.909090909091,
          1785.8585858585857,
          1780.8080808080808,
          1775.7575757575758,
          1770.7070707070707,
          1765.6565656565656,
          1760.6060606060605,
          1755.5555555555554,
          1750.5050505050503,
          1745.4545454545455,
          1740.4040404040404,
          1735.3535353535353,
          1730.3030303030303,
          1725.2525252525252,
          1720.20202020202,
          1715.151515151515,
          1710.1010101010102,
          1705.050505050505,
          1700
         ]
        }
       ],
       "layout": {
        "template": {
         "data": {
          "bar": [
           {
            "error_x": {
             "color": "#f2f5fa"
            },
            "error_y": {
             "color": "#f2f5fa"
            },
            "marker": {
             "line": {
              "color": "rgb(17,17,17)",
              "width": 0.5
             },
             "pattern": {
              "fillmode": "overlay",
              "size": 10,
              "solidity": 0.2
             }
            },
            "type": "bar"
           }
          ],
          "barpolar": [
           {
            "marker": {
             "line": {
              "color": "rgb(17,17,17)",
              "width": 0.5
             },
             "pattern": {
              "fillmode": "overlay",
              "size": 10,
              "solidity": 0.2
             }
            },
            "type": "barpolar"
           }
          ],
          "carpet": [
           {
            "aaxis": {
             "endlinecolor": "#A2B1C6",
             "gridcolor": "#506784",
             "linecolor": "#506784",
             "minorgridcolor": "#506784",
             "startlinecolor": "#A2B1C6"
            },
            "baxis": {
             "endlinecolor": "#A2B1C6",
             "gridcolor": "#506784",
             "linecolor": "#506784",
             "minorgridcolor": "#506784",
             "startlinecolor": "#A2B1C6"
            },
            "type": "carpet"
           }
          ],
          "choropleth": [
           {
            "colorbar": {
             "outlinewidth": 0,
             "ticks": ""
            },
            "type": "choropleth"
           }
          ],
          "contour": [
           {
            "colorbar": {
             "outlinewidth": 0,
             "ticks": ""
            },
            "colorscale": [
             [
              0,
              "#0d0887"
             ],
             [
              0.1111111111111111,
              "#46039f"
             ],
             [
              0.2222222222222222,
              "#7201a8"
             ],
             [
              0.3333333333333333,
              "#9c179e"
             ],
             [
              0.4444444444444444,
              "#bd3786"
             ],
             [
              0.5555555555555556,
              "#d8576b"
             ],
             [
              0.6666666666666666,
              "#ed7953"
             ],
             [
              0.7777777777777778,
              "#fb9f3a"
             ],
             [
              0.8888888888888888,
              "#fdca26"
             ],
             [
              1,
              "#f0f921"
             ]
            ],
            "type": "contour"
           }
          ],
          "contourcarpet": [
           {
            "colorbar": {
             "outlinewidth": 0,
             "ticks": ""
            },
            "type": "contourcarpet"
           }
          ],
          "heatmap": [
           {
            "colorbar": {
             "outlinewidth": 0,
             "ticks": ""
            },
            "colorscale": [
             [
              0,
              "#0d0887"
             ],
             [
              0.1111111111111111,
              "#46039f"
             ],
             [
              0.2222222222222222,
              "#7201a8"
             ],
             [
              0.3333333333333333,
              "#9c179e"
             ],
             [
              0.4444444444444444,
              "#bd3786"
             ],
             [
              0.5555555555555556,
              "#d8576b"
             ],
             [
              0.6666666666666666,
              "#ed7953"
             ],
             [
              0.7777777777777778,
              "#fb9f3a"
             ],
             [
              0.8888888888888888,
              "#fdca26"
             ],
             [
              1,
              "#f0f921"
             ]
            ],
            "type": "heatmap"
           }
          ],
          "heatmapgl": [
           {
            "colorbar": {
             "outlinewidth": 0,
             "ticks": ""
            },
            "colorscale": [
             [
              0,
              "#0d0887"
             ],
             [
              0.1111111111111111,
              "#46039f"
             ],
             [
              0.2222222222222222,
              "#7201a8"
             ],
             [
              0.3333333333333333,
              "#9c179e"
             ],
             [
              0.4444444444444444,
              "#bd3786"
             ],
             [
              0.5555555555555556,
              "#d8576b"
             ],
             [
              0.6666666666666666,
              "#ed7953"
             ],
             [
              0.7777777777777778,
              "#fb9f3a"
             ],
             [
              0.8888888888888888,
              "#fdca26"
             ],
             [
              1,
              "#f0f921"
             ]
            ],
            "type": "heatmapgl"
           }
          ],
          "histogram": [
           {
            "marker": {
             "pattern": {
              "fillmode": "overlay",
              "size": 10,
              "solidity": 0.2
             }
            },
            "type": "histogram"
           }
          ],
          "histogram2d": [
           {
            "colorbar": {
             "outlinewidth": 0,
             "ticks": ""
            },
            "colorscale": [
             [
              0,
              "#0d0887"
             ],
             [
              0.1111111111111111,
              "#46039f"
             ],
             [
              0.2222222222222222,
              "#7201a8"
             ],
             [
              0.3333333333333333,
              "#9c179e"
             ],
             [
              0.4444444444444444,
              "#bd3786"
             ],
             [
              0.5555555555555556,
              "#d8576b"
             ],
             [
              0.6666666666666666,
              "#ed7953"
             ],
             [
              0.7777777777777778,
              "#fb9f3a"
             ],
             [
              0.8888888888888888,
              "#fdca26"
             ],
             [
              1,
              "#f0f921"
             ]
            ],
            "type": "histogram2d"
           }
          ],
          "histogram2dcontour": [
           {
            "colorbar": {
             "outlinewidth": 0,
             "ticks": ""
            },
            "colorscale": [
             [
              0,
              "#0d0887"
             ],
             [
              0.1111111111111111,
              "#46039f"
             ],
             [
              0.2222222222222222,
              "#7201a8"
             ],
             [
              0.3333333333333333,
              "#9c179e"
             ],
             [
              0.4444444444444444,
              "#bd3786"
             ],
             [
              0.5555555555555556,
              "#d8576b"
             ],
             [
              0.6666666666666666,
              "#ed7953"
             ],
             [
              0.7777777777777778,
              "#fb9f3a"
             ],
             [
              0.8888888888888888,
              "#fdca26"
             ],
             [
              1,
              "#f0f921"
             ]
            ],
            "type": "histogram2dcontour"
           }
          ],
          "mesh3d": [
           {
            "colorbar": {
             "outlinewidth": 0,
             "ticks": ""
            },
            "type": "mesh3d"
           }
          ],
          "parcoords": [
           {
            "line": {
             "colorbar": {
              "outlinewidth": 0,
              "ticks": ""
             }
            },
            "type": "parcoords"
           }
          ],
          "pie": [
           {
            "automargin": true,
            "type": "pie"
           }
          ],
          "scatter": [
           {
            "marker": {
             "line": {
              "color": "#283442"
             }
            },
            "type": "scatter"
           }
          ],
          "scatter3d": [
           {
            "line": {
             "colorbar": {
              "outlinewidth": 0,
              "ticks": ""
             }
            },
            "marker": {
             "colorbar": {
              "outlinewidth": 0,
              "ticks": ""
             }
            },
            "type": "scatter3d"
           }
          ],
          "scattercarpet": [
           {
            "marker": {
             "colorbar": {
              "outlinewidth": 0,
              "ticks": ""
             }
            },
            "type": "scattercarpet"
           }
          ],
          "scattergeo": [
           {
            "marker": {
             "colorbar": {
              "outlinewidth": 0,
              "ticks": ""
             }
            },
            "type": "scattergeo"
           }
          ],
          "scattergl": [
           {
            "marker": {
             "line": {
              "color": "#283442"
             }
            },
            "type": "scattergl"
           }
          ],
          "scattermapbox": [
           {
            "marker": {
             "colorbar": {
              "outlinewidth": 0,
              "ticks": ""
             }
            },
            "type": "scattermapbox"
           }
          ],
          "scatterpolar": [
           {
            "marker": {
             "colorbar": {
              "outlinewidth": 0,
              "ticks": ""
             }
            },
            "type": "scatterpolar"
           }
          ],
          "scatterpolargl": [
           {
            "marker": {
             "colorbar": {
              "outlinewidth": 0,
              "ticks": ""
             }
            },
            "type": "scatterpolargl"
           }
          ],
          "scatterternary": [
           {
            "marker": {
             "colorbar": {
              "outlinewidth": 0,
              "ticks": ""
             }
            },
            "type": "scatterternary"
           }
          ],
          "surface": [
           {
            "colorbar": {
             "outlinewidth": 0,
             "ticks": ""
            },
            "colorscale": [
             [
              0,
              "#0d0887"
             ],
             [
              0.1111111111111111,
              "#46039f"
             ],
             [
              0.2222222222222222,
              "#7201a8"
             ],
             [
              0.3333333333333333,
              "#9c179e"
             ],
             [
              0.4444444444444444,
              "#bd3786"
             ],
             [
              0.5555555555555556,
              "#d8576b"
             ],
             [
              0.6666666666666666,
              "#ed7953"
             ],
             [
              0.7777777777777778,
              "#fb9f3a"
             ],
             [
              0.8888888888888888,
              "#fdca26"
             ],
             [
              1,
              "#f0f921"
             ]
            ],
            "type": "surface"
           }
          ],
          "table": [
           {
            "cells": {
             "fill": {
              "color": "#506784"
             },
             "line": {
              "color": "rgb(17,17,17)"
             }
            },
            "header": {
             "fill": {
              "color": "#2a3f5f"
             },
             "line": {
              "color": "rgb(17,17,17)"
             }
            },
            "type": "table"
           }
          ]
         },
         "layout": {
          "annotationdefaults": {
           "arrowcolor": "#f2f5fa",
           "arrowhead": 0,
           "arrowwidth": 1
          },
          "autotypenumbers": "strict",
          "coloraxis": {
           "colorbar": {
            "outlinewidth": 0,
            "ticks": ""
           }
          },
          "colorscale": {
           "diverging": [
            [
             0,
             "#8e0152"
            ],
            [
             0.1,
             "#c51b7d"
            ],
            [
             0.2,
             "#de77ae"
            ],
            [
             0.3,
             "#f1b6da"
            ],
            [
             0.4,
             "#fde0ef"
            ],
            [
             0.5,
             "#f7f7f7"
            ],
            [
             0.6,
             "#e6f5d0"
            ],
            [
             0.7,
             "#b8e186"
            ],
            [
             0.8,
             "#7fbc41"
            ],
            [
             0.9,
             "#4d9221"
            ],
            [
             1,
             "#276419"
            ]
           ],
           "sequential": [
            [
             0,
             "#0d0887"
            ],
            [
             0.1111111111111111,
             "#46039f"
            ],
            [
             0.2222222222222222,
             "#7201a8"
            ],
            [
             0.3333333333333333,
             "#9c179e"
            ],
            [
             0.4444444444444444,
             "#bd3786"
            ],
            [
             0.5555555555555556,
             "#d8576b"
            ],
            [
             0.6666666666666666,
             "#ed7953"
            ],
            [
             0.7777777777777778,
             "#fb9f3a"
            ],
            [
             0.8888888888888888,
             "#fdca26"
            ],
            [
             1,
             "#f0f921"
            ]
           ],
           "sequentialminus": [
            [
             0,
             "#0d0887"
            ],
            [
             0.1111111111111111,
             "#46039f"
            ],
            [
             0.2222222222222222,
             "#7201a8"
            ],
            [
             0.3333333333333333,
             "#9c179e"
            ],
            [
             0.4444444444444444,
             "#bd3786"
            ],
            [
             0.5555555555555556,
             "#d8576b"
            ],
            [
             0.6666666666666666,
             "#ed7953"
            ],
            [
             0.7777777777777778,
             "#fb9f3a"
            ],
            [
             0.8888888888888888,
             "#fdca26"
            ],
            [
             1,
             "#f0f921"
            ]
           ]
          },
          "colorway": [
           "#636efa",
           "#EF553B",
           "#00cc96",
           "#ab63fa",
           "#FFA15A",
           "#19d3f3",
           "#FF6692",
           "#B6E880",
           "#FF97FF",
           "#FECB52"
          ],
          "font": {
           "color": "#f2f5fa"
          },
          "geo": {
           "bgcolor": "rgb(17,17,17)",
           "lakecolor": "rgb(17,17,17)",
           "landcolor": "rgb(17,17,17)",
           "showlakes": true,
           "showland": true,
           "subunitcolor": "#506784"
          },
          "hoverlabel": {
           "align": "left"
          },
          "hovermode": "closest",
          "mapbox": {
           "style": "dark"
          },
          "paper_bgcolor": "rgb(17,17,17)",
          "plot_bgcolor": "rgb(17,17,17)",
          "polar": {
           "angularaxis": {
            "gridcolor": "#506784",
            "linecolor": "#506784",
            "ticks": ""
           },
           "bgcolor": "rgb(17,17,17)",
           "radialaxis": {
            "gridcolor": "#506784",
            "linecolor": "#506784",
            "ticks": ""
           }
          },
          "scene": {
           "xaxis": {
            "backgroundcolor": "rgb(17,17,17)",
            "gridcolor": "#506784",
            "gridwidth": 2,
            "linecolor": "#506784",
            "showbackground": true,
            "ticks": "",
            "zerolinecolor": "#C8D4E3"
           },
           "yaxis": {
            "backgroundcolor": "rgb(17,17,17)",
            "gridcolor": "#506784",
            "gridwidth": 2,
            "linecolor": "#506784",
            "showbackground": true,
            "ticks": "",
            "zerolinecolor": "#C8D4E3"
           },
           "zaxis": {
            "backgroundcolor": "rgb(17,17,17)",
            "gridcolor": "#506784",
            "gridwidth": 2,
            "linecolor": "#506784",
            "showbackground": true,
            "ticks": "",
            "zerolinecolor": "#C8D4E3"
           }
          },
          "shapedefaults": {
           "line": {
            "color": "#f2f5fa"
           }
          },
          "sliderdefaults": {
           "bgcolor": "#C8D4E3",
           "bordercolor": "rgb(17,17,17)",
           "borderwidth": 1,
           "tickwidth": 0
          },
          "ternary": {
           "aaxis": {
            "gridcolor": "#506784",
            "linecolor": "#506784",
            "ticks": ""
           },
           "baxis": {
            "gridcolor": "#506784",
            "linecolor": "#506784",
            "ticks": ""
           },
           "bgcolor": "rgb(17,17,17)",
           "caxis": {
            "gridcolor": "#506784",
            "linecolor": "#506784",
            "ticks": ""
           }
          },
          "title": {
           "x": 0.05
          },
          "updatemenudefaults": {
           "bgcolor": "#506784",
           "borderwidth": 0
          },
          "xaxis": {
           "automargin": true,
           "gridcolor": "#283442",
           "linecolor": "#506784",
           "ticks": "",
           "title": {
            "standoff": 15
           },
           "zerolinecolor": "#283442",
           "zerolinewidth": 2
          },
          "yaxis": {
           "automargin": true,
           "gridcolor": "#283442",
           "linecolor": "#506784",
           "ticks": "",
           "title": {
            "standoff": 15
           },
           "zerolinecolor": "#283442",
           "zerolinewidth": 2
          }
         }
        },
        "title": {
         "text": "Módulo de Elasticidad del Agua vs. Temperatura"
        },
        "xaxis": {
         "title": {
          "text": "Temperatura (°C)"
         }
        },
        "yaxis": {
         "title": {
          "text": "Módulo de Elasticidad (MPa)"
         }
        }
       }
      },
      "text/html": [
       "<div>                            <div id=\"242c6b04-ef59-4cd1-862e-2676813b6b24\" class=\"plotly-graph-div\" style=\"height:525px; width:100%;\"></div>            <script type=\"text/javascript\">                require([\"plotly\"], function(Plotly) {                    window.PLOTLYENV=window.PLOTLYENV || {};                                    if (document.getElementById(\"242c6b04-ef59-4cd1-862e-2676813b6b24\")) {                    Plotly.newPlot(                        \"242c6b04-ef59-4cd1-862e-2676813b6b24\",                        [{\"line\":{\"color\":\"purple\"},\"mode\":\"lines+markers\",\"name\":\"M\\u00f3dulo de Elasticidad (MPa)\",\"x\":[0.0,1.0101010101010102,2.0202020202020203,3.0303030303030303,4.040404040404041,5.050505050505051,6.0606060606060606,7.070707070707071,8.080808080808081,9.090909090909092,10.101010101010102,11.111111111111112,12.121212121212121,13.131313131313131,14.141414141414142,15.151515151515152,16.161616161616163,17.171717171717173,18.181818181818183,19.191919191919194,20.202020202020204,21.212121212121215,22.222222222222225,23.232323232323235,24.242424242424242,25.252525252525253,26.262626262626263,27.272727272727273,28.282828282828284,29.292929292929294,30.303030303030305,31.313131313131315,32.323232323232325,33.333333333333336,34.343434343434346,35.35353535353536,36.36363636363637,37.37373737373738,38.38383838383839,39.3939393939394,40.40404040404041,41.41414141414142,42.42424242424243,43.43434343434344,44.44444444444445,45.45454545454546,46.46464646464647,47.47474747474748,48.484848484848484,49.494949494949495,50.505050505050505,51.515151515151516,52.525252525252526,53.535353535353536,54.54545454545455,55.55555555555556,56.56565656565657,57.57575757575758,58.58585858585859,59.5959595959596,60.60606060606061,61.61616161616162,62.62626262626263,63.63636363636364,64.64646464646465,65.65656565656566,66.66666666666667,67.67676767676768,68.68686868686869,69.6969696969697,70.70707070707071,71.71717171717172,72.72727272727273,73.73737373737374,74.74747474747475,75.75757575757576,76.76767676767678,77.77777777777779,78.7878787878788,79.7979797979798,80.80808080808082,81.81818181818183,82.82828282828284,83.83838383838385,84.84848484848486,85.85858585858587,86.86868686868688,87.87878787878789,88.8888888888889,89.89898989898991,90.90909090909092,91.91919191919193,92.92929292929294,93.93939393939395,94.94949494949496,95.95959595959597,96.96969696969697,97.97979797979798,98.98989898989899,100.0],\"y\":[2200.0,2194.949494949495,2189.89898989899,2184.848484848485,2179.7979797979797,2174.747474747475,2169.6969696969695,2164.6464646464647,2159.59595959596,2154.5454545454545,2149.4949494949497,2144.4444444444443,2139.3939393939395,2134.343434343434,2129.2929292929293,2124.242424242424,2119.191919191919,2114.1414141414143,2109.090909090909,2104.040404040404,2098.989898989899,2093.939393939394,2088.8888888888887,2083.838383838384,2078.787878787879,2073.7373737373737,2068.686868686869,2063.6363636363635,2058.5858585858587,2053.5353535353534,2048.4848484848485,2043.4343434343434,2038.3838383838383,2033.3333333333333,2028.2828282828282,2023.2323232323233,2018.1818181818182,2013.1313131313132,2008.080808080808,2003.030303030303,1997.979797979798,1992.9292929292928,1987.8787878787878,1982.8282828282827,1977.7777777777778,1972.7272727272727,1967.6767676767677,1962.6262626262626,1957.5757575757575,1952.5252525252527,1947.4747474747473,1942.4242424242425,1937.3737373737374,1932.3232323232323,1927.2727272727273,1922.2222222222222,1917.171717171717,1912.121212121212,1907.0707070707072,1902.020202020202,1896.969696969697,1891.919191919192,1886.8686868686868,1881.8181818181818,1876.7676767676767,1871.7171717171718,1866.6666666666665,1861.6161616161617,1856.5656565656566,1851.5151515151515,1846.4646464646464,1841.4141414141413,1836.3636363636363,1831.3131313131312,1826.2626262626263,1821.2121212121212,1816.1616161616162,1811.111111111111,1806.060606060606,1801.010101010101,1795.9595959595958,1790.909090909091,1785.8585858585857,1780.8080808080808,1775.7575757575758,1770.7070707070707,1765.6565656565656,1760.6060606060605,1755.5555555555554,1750.5050505050503,1745.4545454545455,1740.4040404040404,1735.3535353535353,1730.3030303030303,1725.2525252525252,1720.20202020202,1715.151515151515,1710.1010101010102,1705.050505050505,1700.0],\"type\":\"scatter\"}],                        {\"template\":{\"data\":{\"barpolar\":[{\"marker\":{\"line\":{\"color\":\"rgb(17,17,17)\",\"width\":0.5},\"pattern\":{\"fillmode\":\"overlay\",\"size\":10,\"solidity\":0.2}},\"type\":\"barpolar\"}],\"bar\":[{\"error_x\":{\"color\":\"#f2f5fa\"},\"error_y\":{\"color\":\"#f2f5fa\"},\"marker\":{\"line\":{\"color\":\"rgb(17,17,17)\",\"width\":0.5},\"pattern\":{\"fillmode\":\"overlay\",\"size\":10,\"solidity\":0.2}},\"type\":\"bar\"}],\"carpet\":[{\"aaxis\":{\"endlinecolor\":\"#A2B1C6\",\"gridcolor\":\"#506784\",\"linecolor\":\"#506784\",\"minorgridcolor\":\"#506784\",\"startlinecolor\":\"#A2B1C6\"},\"baxis\":{\"endlinecolor\":\"#A2B1C6\",\"gridcolor\":\"#506784\",\"linecolor\":\"#506784\",\"minorgridcolor\":\"#506784\",\"startlinecolor\":\"#A2B1C6\"},\"type\":\"carpet\"}],\"choropleth\":[{\"colorbar\":{\"outlinewidth\":0,\"ticks\":\"\"},\"type\":\"choropleth\"}],\"contourcarpet\":[{\"colorbar\":{\"outlinewidth\":0,\"ticks\":\"\"},\"type\":\"contourcarpet\"}],\"contour\":[{\"colorbar\":{\"outlinewidth\":0,\"ticks\":\"\"},\"colorscale\":[[0.0,\"#0d0887\"],[0.1111111111111111,\"#46039f\"],[0.2222222222222222,\"#7201a8\"],[0.3333333333333333,\"#9c179e\"],[0.4444444444444444,\"#bd3786\"],[0.5555555555555556,\"#d8576b\"],[0.6666666666666666,\"#ed7953\"],[0.7777777777777778,\"#fb9f3a\"],[0.8888888888888888,\"#fdca26\"],[1.0,\"#f0f921\"]],\"type\":\"contour\"}],\"heatmapgl\":[{\"colorbar\":{\"outlinewidth\":0,\"ticks\":\"\"},\"colorscale\":[[0.0,\"#0d0887\"],[0.1111111111111111,\"#46039f\"],[0.2222222222222222,\"#7201a8\"],[0.3333333333333333,\"#9c179e\"],[0.4444444444444444,\"#bd3786\"],[0.5555555555555556,\"#d8576b\"],[0.6666666666666666,\"#ed7953\"],[0.7777777777777778,\"#fb9f3a\"],[0.8888888888888888,\"#fdca26\"],[1.0,\"#f0f921\"]],\"type\":\"heatmapgl\"}],\"heatmap\":[{\"colorbar\":{\"outlinewidth\":0,\"ticks\":\"\"},\"colorscale\":[[0.0,\"#0d0887\"],[0.1111111111111111,\"#46039f\"],[0.2222222222222222,\"#7201a8\"],[0.3333333333333333,\"#9c179e\"],[0.4444444444444444,\"#bd3786\"],[0.5555555555555556,\"#d8576b\"],[0.6666666666666666,\"#ed7953\"],[0.7777777777777778,\"#fb9f3a\"],[0.8888888888888888,\"#fdca26\"],[1.0,\"#f0f921\"]],\"type\":\"heatmap\"}],\"histogram2dcontour\":[{\"colorbar\":{\"outlinewidth\":0,\"ticks\":\"\"},\"colorscale\":[[0.0,\"#0d0887\"],[0.1111111111111111,\"#46039f\"],[0.2222222222222222,\"#7201a8\"],[0.3333333333333333,\"#9c179e\"],[0.4444444444444444,\"#bd3786\"],[0.5555555555555556,\"#d8576b\"],[0.6666666666666666,\"#ed7953\"],[0.7777777777777778,\"#fb9f3a\"],[0.8888888888888888,\"#fdca26\"],[1.0,\"#f0f921\"]],\"type\":\"histogram2dcontour\"}],\"histogram2d\":[{\"colorbar\":{\"outlinewidth\":0,\"ticks\":\"\"},\"colorscale\":[[0.0,\"#0d0887\"],[0.1111111111111111,\"#46039f\"],[0.2222222222222222,\"#7201a8\"],[0.3333333333333333,\"#9c179e\"],[0.4444444444444444,\"#bd3786\"],[0.5555555555555556,\"#d8576b\"],[0.6666666666666666,\"#ed7953\"],[0.7777777777777778,\"#fb9f3a\"],[0.8888888888888888,\"#fdca26\"],[1.0,\"#f0f921\"]],\"type\":\"histogram2d\"}],\"histogram\":[{\"marker\":{\"pattern\":{\"fillmode\":\"overlay\",\"size\":10,\"solidity\":0.2}},\"type\":\"histogram\"}],\"mesh3d\":[{\"colorbar\":{\"outlinewidth\":0,\"ticks\":\"\"},\"type\":\"mesh3d\"}],\"parcoords\":[{\"line\":{\"colorbar\":{\"outlinewidth\":0,\"ticks\":\"\"}},\"type\":\"parcoords\"}],\"pie\":[{\"automargin\":true,\"type\":\"pie\"}],\"scatter3d\":[{\"line\":{\"colorbar\":{\"outlinewidth\":0,\"ticks\":\"\"}},\"marker\":{\"colorbar\":{\"outlinewidth\":0,\"ticks\":\"\"}},\"type\":\"scatter3d\"}],\"scattercarpet\":[{\"marker\":{\"colorbar\":{\"outlinewidth\":0,\"ticks\":\"\"}},\"type\":\"scattercarpet\"}],\"scattergeo\":[{\"marker\":{\"colorbar\":{\"outlinewidth\":0,\"ticks\":\"\"}},\"type\":\"scattergeo\"}],\"scattergl\":[{\"marker\":{\"line\":{\"color\":\"#283442\"}},\"type\":\"scattergl\"}],\"scattermapbox\":[{\"marker\":{\"colorbar\":{\"outlinewidth\":0,\"ticks\":\"\"}},\"type\":\"scattermapbox\"}],\"scatterpolargl\":[{\"marker\":{\"colorbar\":{\"outlinewidth\":0,\"ticks\":\"\"}},\"type\":\"scatterpolargl\"}],\"scatterpolar\":[{\"marker\":{\"colorbar\":{\"outlinewidth\":0,\"ticks\":\"\"}},\"type\":\"scatterpolar\"}],\"scatter\":[{\"marker\":{\"line\":{\"color\":\"#283442\"}},\"type\":\"scatter\"}],\"scatterternary\":[{\"marker\":{\"colorbar\":{\"outlinewidth\":0,\"ticks\":\"\"}},\"type\":\"scatterternary\"}],\"surface\":[{\"colorbar\":{\"outlinewidth\":0,\"ticks\":\"\"},\"colorscale\":[[0.0,\"#0d0887\"],[0.1111111111111111,\"#46039f\"],[0.2222222222222222,\"#7201a8\"],[0.3333333333333333,\"#9c179e\"],[0.4444444444444444,\"#bd3786\"],[0.5555555555555556,\"#d8576b\"],[0.6666666666666666,\"#ed7953\"],[0.7777777777777778,\"#fb9f3a\"],[0.8888888888888888,\"#fdca26\"],[1.0,\"#f0f921\"]],\"type\":\"surface\"}],\"table\":[{\"cells\":{\"fill\":{\"color\":\"#506784\"},\"line\":{\"color\":\"rgb(17,17,17)\"}},\"header\":{\"fill\":{\"color\":\"#2a3f5f\"},\"line\":{\"color\":\"rgb(17,17,17)\"}},\"type\":\"table\"}]},\"layout\":{\"annotationdefaults\":{\"arrowcolor\":\"#f2f5fa\",\"arrowhead\":0,\"arrowwidth\":1},\"autotypenumbers\":\"strict\",\"coloraxis\":{\"colorbar\":{\"outlinewidth\":0,\"ticks\":\"\"}},\"colorscale\":{\"diverging\":[[0,\"#8e0152\"],[0.1,\"#c51b7d\"],[0.2,\"#de77ae\"],[0.3,\"#f1b6da\"],[0.4,\"#fde0ef\"],[0.5,\"#f7f7f7\"],[0.6,\"#e6f5d0\"],[0.7,\"#b8e186\"],[0.8,\"#7fbc41\"],[0.9,\"#4d9221\"],[1,\"#276419\"]],\"sequential\":[[0.0,\"#0d0887\"],[0.1111111111111111,\"#46039f\"],[0.2222222222222222,\"#7201a8\"],[0.3333333333333333,\"#9c179e\"],[0.4444444444444444,\"#bd3786\"],[0.5555555555555556,\"#d8576b\"],[0.6666666666666666,\"#ed7953\"],[0.7777777777777778,\"#fb9f3a\"],[0.8888888888888888,\"#fdca26\"],[1.0,\"#f0f921\"]],\"sequentialminus\":[[0.0,\"#0d0887\"],[0.1111111111111111,\"#46039f\"],[0.2222222222222222,\"#7201a8\"],[0.3333333333333333,\"#9c179e\"],[0.4444444444444444,\"#bd3786\"],[0.5555555555555556,\"#d8576b\"],[0.6666666666666666,\"#ed7953\"],[0.7777777777777778,\"#fb9f3a\"],[0.8888888888888888,\"#fdca26\"],[1.0,\"#f0f921\"]]},\"colorway\":[\"#636efa\",\"#EF553B\",\"#00cc96\",\"#ab63fa\",\"#FFA15A\",\"#19d3f3\",\"#FF6692\",\"#B6E880\",\"#FF97FF\",\"#FECB52\"],\"font\":{\"color\":\"#f2f5fa\"},\"geo\":{\"bgcolor\":\"rgb(17,17,17)\",\"lakecolor\":\"rgb(17,17,17)\",\"landcolor\":\"rgb(17,17,17)\",\"showlakes\":true,\"showland\":true,\"subunitcolor\":\"#506784\"},\"hoverlabel\":{\"align\":\"left\"},\"hovermode\":\"closest\",\"mapbox\":{\"style\":\"dark\"},\"paper_bgcolor\":\"rgb(17,17,17)\",\"plot_bgcolor\":\"rgb(17,17,17)\",\"polar\":{\"angularaxis\":{\"gridcolor\":\"#506784\",\"linecolor\":\"#506784\",\"ticks\":\"\"},\"bgcolor\":\"rgb(17,17,17)\",\"radialaxis\":{\"gridcolor\":\"#506784\",\"linecolor\":\"#506784\",\"ticks\":\"\"}},\"scene\":{\"xaxis\":{\"backgroundcolor\":\"rgb(17,17,17)\",\"gridcolor\":\"#506784\",\"gridwidth\":2,\"linecolor\":\"#506784\",\"showbackground\":true,\"ticks\":\"\",\"zerolinecolor\":\"#C8D4E3\"},\"yaxis\":{\"backgroundcolor\":\"rgb(17,17,17)\",\"gridcolor\":\"#506784\",\"gridwidth\":2,\"linecolor\":\"#506784\",\"showbackground\":true,\"ticks\":\"\",\"zerolinecolor\":\"#C8D4E3\"},\"zaxis\":{\"backgroundcolor\":\"rgb(17,17,17)\",\"gridcolor\":\"#506784\",\"gridwidth\":2,\"linecolor\":\"#506784\",\"showbackground\":true,\"ticks\":\"\",\"zerolinecolor\":\"#C8D4E3\"}},\"shapedefaults\":{\"line\":{\"color\":\"#f2f5fa\"}},\"sliderdefaults\":{\"bgcolor\":\"#C8D4E3\",\"bordercolor\":\"rgb(17,17,17)\",\"borderwidth\":1,\"tickwidth\":0},\"ternary\":{\"aaxis\":{\"gridcolor\":\"#506784\",\"linecolor\":\"#506784\",\"ticks\":\"\"},\"baxis\":{\"gridcolor\":\"#506784\",\"linecolor\":\"#506784\",\"ticks\":\"\"},\"bgcolor\":\"rgb(17,17,17)\",\"caxis\":{\"gridcolor\":\"#506784\",\"linecolor\":\"#506784\",\"ticks\":\"\"}},\"title\":{\"x\":0.05},\"updatemenudefaults\":{\"bgcolor\":\"#506784\",\"borderwidth\":0},\"xaxis\":{\"automargin\":true,\"gridcolor\":\"#283442\",\"linecolor\":\"#506784\",\"ticks\":\"\",\"title\":{\"standoff\":15},\"zerolinecolor\":\"#283442\",\"zerolinewidth\":2},\"yaxis\":{\"automargin\":true,\"gridcolor\":\"#283442\",\"linecolor\":\"#506784\",\"ticks\":\"\",\"title\":{\"standoff\":15},\"zerolinecolor\":\"#283442\",\"zerolinewidth\":2}}},\"title\":{\"text\":\"M\\u00f3dulo de Elasticidad del Agua vs. Temperatura\"},\"xaxis\":{\"title\":{\"text\":\"Temperatura (\\u00b0C)\"}},\"yaxis\":{\"title\":{\"text\":\"M\\u00f3dulo de Elasticidad (MPa)\"}}},                        {\"responsive\": true}                    ).then(function(){\n",
       "                            \n",
       "var gd = document.getElementById('242c6b04-ef59-4cd1-862e-2676813b6b24');\n",
       "var x = new MutationObserver(function (mutations, observer) {{\n",
       "        var display = window.getComputedStyle(gd).display;\n",
       "        if (!display || display === 'none') {{\n",
       "            console.log([gd, 'removed!']);\n",
       "            Plotly.purge(gd);\n",
       "            observer.disconnect();\n",
       "        }}\n",
       "}});\n",
       "\n",
       "// Listen for the removal of the full notebook cells\n",
       "var notebookContainer = gd.closest('#notebook-container');\n",
       "if (notebookContainer) {{\n",
       "    x.observe(notebookContainer, {childList: true});\n",
       "}}\n",
       "\n",
       "// Listen for the clearing of the current output cell\n",
       "var outputEl = gd.closest('.output');\n",
       "if (outputEl) {{\n",
       "    x.observe(outputEl, {childList: true});\n",
       "}}\n",
       "\n",
       "                        })                };                });            </script>        </div>"
      ]
     },
     "metadata": {},
     "output_type": "display_data"
    }
   ],
   "source": [
    "import numpy as np\n",
    "import plotly.graph_objects as go\n",
    "\n",
    "# Datos de temperatura en °C\n",
    "temperaturas = np.linspace(0, 100, 100)\n",
    "\n",
    "# Módulo de elasticidad del agua en función de la temperatura (valores aproximados en MPa)\n",
    "modulo_elasticidad_agua = 2.2e3 - 5 * temperaturas  # MPa\n",
    "\n",
    "# Crear la figura\n",
    "fig = go.Figure()\n",
    "fig.add_trace(go.Scatter(x=temperaturas, y=modulo_elasticidad_agua, mode='lines+markers', \n",
    "                         name='Módulo de Elasticidad (MPa)', line=dict(color='purple')))\n",
    "\n",
    "fig.update_layout(\n",
    "    title='Módulo de Elasticidad del Agua vs. Temperatura',\n",
    "    xaxis_title='Temperatura (°C)',\n",
    "    yaxis_title='Módulo de Elasticidad (MPa)',\n",
    "    template='plotly_dark'\n",
    ")\n",
    "\n",
    "# Mostrar la gráfica\n",
    "fig.show()\n"
   ]
  },
  {
   "cell_type": "markdown",
   "id": "976363d1-d75b-410e-850e-cab721055f6f",
   "metadata": {},
   "source": [
    "<script type=\"text/javascript\" async\n",
    "  src=\"https://cdnjs.cloudflare.com/ajax/libs/mathjax/2.7.7/MathJax.js?config=TeX-MML-AM_CHTML\">\n",
    "</script>\n",
    "\n",
    "### Tensión superficial\n",
    "\n",
    "Una molécula en el interior de un líquido está sometida a la acción de fuerzas atractivas en todas las direcciones, siendo la resultante nula. Pero si la molécula está en la superficie del líquido, sufre la acción de un conjunto de fuerzas de cohesión, cuya resultante es perpendicular a la superficie, ver figura. De aquí que sea necesario consumir cierto trabajo para mover las moléculas hacia la superficie venciendo la resistencia de estas fuerzas, por lo que las moléculas superficiales tienen más energía que las interiores.\n",
    "\n",
    "<figure style=\"text-align: center;\">\n",
    "    <img src=\"img/tension_sup.png\" width=\"250\" alt=\"Fuerzas de cohesión en el interior de un fluido\">\n",
    "    <figcaption>\n",
    "        <p><strong>Descripción:</strong> Fuerzas de cohesión en el interior de un fluido</p>\n",
    "        <p><strong>Fuente:</strong> https://es.wikipedia.org/wiki/Viscosidad</p>\n",
    "    </figcaption>\n",
    "</figure>\n",
    "\n",
    "\n",
    "<figure style=\"text-align: center;\">\n",
    "    <img src=\"img/tension_sup2.gif\" width=\"250\" alt=\"Gota rompiendo la tensión superficial\">\n",
    "    <figcaption>\n",
    "        <p><strong>Descripción:</strong> Gota rompiendo la tensión superficial</p>\n",
    "        <p><strong>Fuente:</strong> science-gif.blogspot.com</p>\n",
    "    </figcaption>\n",
    "</figure>\n",
    "\n",
    "### Presión\n",
    "\n",
    "La **presión** se define como una fuerza normal ejercida por un fluido por unidad de área. Se habla de presión sólo cuando se trata de un gas o un líquido. La contraparte de la presión en los sólidos es el esfuerzo normal. Puesto que la presión se define como fuerza por unidad de área, tiene la unidad de newtons por metro cuadrado (N/m²), la cual se llama **pascal** (Pa); es decir:\n",
    "\n",
    "$$Pa = 1 \\frac{N}{m^2}$$\n",
    "\n",
    "La presión real que se encuentra en una posición dada se llama presión absoluta, y se mide en relación con el vacío absoluto, es decir, presión cero absoluta. La mayoría de los instrumentos para medir la presión se calibran para que den una lectura de cero en la atmósfera, de modo que indican la diferencia entre la presión absoluta y la presión atmosférica local. Esta diferencia se llama presión manométrica. Las presiones por abajo de la atmosférica se conocen como presiones de vacío y se miden con instrumentos de vacío que indican la diferencia entre la presión atmosférica y la absoluta. Las presiones absoluta, manométrica y de vacío son todas cantidades positivas y están interrelacionadas por:\n",
    "\n",
    "$$P_{man} = P_{abs} - P_{atm}$$  \n",
    "\n",
    "$$P_{vac} = P_{atm} - P_{abs}$$  \n",
    "\n",
    "<figure style=\"text-align: center;\">\n",
    "    <img src=\"img/presion.png\" width=\"550\" alt=\"presion\">\n",
    "    <figcaption>\n",
    "        <p><strong>Descripción:</strong> Relación entre presión atmosferica, absoluta y manometrica</p>\n",
    "    </figcaption>\n",
    "</figure>\n",
    "\n",
    "Blas Pascal, científico francés del siglo XVII, describió dos principios importantes acerca de la presión:\n",
    "\n",
    "- La presión actúa de modo uniforme en todas las direcciones de un volumen pequeño de fluido.\n",
    "- En un fluido confinado por fronteras sólidas, la presión actúa de manera perpendicular a la pared.\n",
    "\n",
    "<figure style=\"text-align: center;\">\n",
    "    <img src=\"img/pascal.gif\" width=\"250\" alt=\"Gota rompiendo la tensión superficial\">\n",
    "    <figcaption>\n",
    "        <p><strong>Descripción:</strong> Experimento que demuetra el principio de Pascal</p>\n",
    "    </figcaption>\n",
    "</figure>\n",
    "\n",
    "\n"
   ]
  },
  {
   "cell_type": "code",
   "execution_count": 10,
   "id": "9c74722d",
   "metadata": {},
   "outputs": [
    {
     "data": {
      "text/html": [
       "<style>.jp-Cell-input {display: none;}</style>"
      ],
      "text/plain": [
       "<IPython.core.display.HTML object>"
      ]
     },
     "metadata": {},
     "output_type": "display_data"
    },
    {
     "data": {
      "application/vnd.jupyter.widget-view+json": {
       "model_id": "eb5a9382f79f44879083fe823eea46ee",
       "version_major": 2,
       "version_minor": 0
      },
      "text/plain": [
       "HBox(children=(FloatText(value=100000.0, description='Presión Manométrica:', step=1000.0), Label(value='(Pa)')…"
      ]
     },
     "metadata": {},
     "output_type": "display_data"
    },
    {
     "data": {
      "application/vnd.jupyter.widget-view+json": {
       "model_id": "404ed0359fb9464fa8e8b888ae743c20",
       "version_major": 2,
       "version_minor": 0
      },
      "text/plain": [
       "Label(value='Presión Absoluta: ')"
      ]
     },
     "metadata": {},
     "output_type": "display_data"
    },
    {
     "data": {
      "application/vnd.jupyter.widget-view+json": {
       "model_id": "4fd403b73aad49d7bef9ca448154b9de",
       "version_major": 2,
       "version_minor": 0
      },
      "text/plain": [
       "Label(value='Presión Absoluta: ')"
      ]
     },
     "metadata": {},
     "output_type": "display_data"
    }
   ],
   "source": [
    "from IPython.display import HTML, display\n",
    "display(HTML('''<style>.jp-Cell-input {display: none;}</style>'''))\n",
    "\n",
    "import ipywidgets as widgets\n",
    "from IPython.display import display\n",
    "\n",
    "# Función para convertir de presión manométrica (Pa) a presión absoluta (Pa)\n",
    "def convertir_presion_manometrica_a_absoluta(p_manometrica):\n",
    "    # La presión absoluta es la manométrica más la presión atmosférica (101325 Pa)\n",
    "    presion_atmosferica = 101325  # en Pa\n",
    "    return p_manometrica + presion_atmosferica\n",
    "\n",
    "# Función para convertir presión en Pa a atmósferas\n",
    "def convertir_pa_a_atm(pa):\n",
    "    return pa / 101325  # 1 atm = 101325 Pa\n",
    "\n",
    "# Función para actualizar los resultados cuando se cambia la presión manométrica\n",
    "def actualizar(val):\n",
    "    try:\n",
    "        p_manometrica = p_text.value  # Obtener la presión manométrica ingresada\n",
    "        if p_manometrica < 0:\n",
    "            raise ValueError(\"La presión manométrica no puede ser negativa\")\n",
    "        \n",
    "        # Calcular la presión absoluta\n",
    "        presion_absoluta = convertir_presion_manometrica_a_absoluta(p_manometrica)\n",
    "        \n",
    "        # Convertir la presión absoluta a atmósferas\n",
    "        presion_atm = convertir_pa_a_atm(presion_absoluta)\n",
    "        \n",
    "        # Actualizar las etiquetas con los nuevos valores\n",
    "        presion_absoluta_label.value = f\"Presión Absoluta: {presion_absoluta:.2f} Pa\"\n",
    "        presion_atm_label.value = f\"Presión Absoluta: {presion_atm:.4f} atm\"\n",
    "        \n",
    "    except ValueError:\n",
    "        presion_absoluta_label.value = \"Valor inválido para la presión manométrica\"\n",
    "        presion_atm_label.value = \"\"\n",
    "\n",
    "# Crear los widgets interactivos\n",
    "p_text = widgets.FloatText(value=100000, description=\"Presión Manométrica:\", step=1000)\n",
    "unidad_label = widgets.Label(value=\"(Pa)\")  # Etiqueta para las unidades de presión manométrica\n",
    "presion_absoluta_label = widgets.Label(value=\"Presión Absoluta: \")\n",
    "presion_atm_label = widgets.Label(value=\"Presión Absoluta: \")\n",
    "\n",
    "# Enlazar la función actualizar con el widget de texto\n",
    "p_text.observe(actualizar, names='value')\n",
    "\n",
    "# Mostrar la interfaz\n",
    "display(widgets.HBox([p_text, unidad_label]), presion_absoluta_label, presion_atm_label)\n",
    "\n",
    "# Llamar a la función de actualización para inicializar los valores con la presión inicial\n",
    "actualizar(None)\n"
   ]
  },
  {
   "cell_type": "markdown",
   "id": "64f2339a-bb9d-4349-ad26-96a8f254f900",
   "metadata": {},
   "source": [
    "### Resumen de sección: por la Universidad Politécnica de Valencia:"
   ]
  },
  {
   "cell_type": "code",
   "execution_count": 9,
   "id": "d4ca1fc2-2ef6-401b-8282-0b69505af8d6",
   "metadata": {},
   "outputs": [
    {
     "data": {
      "text/html": [
       "\n",
       "<div style=\"display: flex; justify-content: center;\">\n",
       "    \n",
       "        <iframe\n",
       "            width=\"800\"\n",
       "            height=\"450\"\n",
       "            src=\"https://www.youtube.com/embed/0v80ONiFHj0\"\n",
       "            frameborder=\"0\"\n",
       "            allowfullscreen\n",
       "            \n",
       "        ></iframe>\n",
       "        \n",
       "</div>\n"
      ],
      "text/plain": [
       "<IPython.core.display.HTML object>"
      ]
     },
     "metadata": {},
     "output_type": "display_data"
    }
   ],
   "source": [
    "from IPython.display import YouTubeVideo, display, HTML\n",
    "\n",
    "# ID del video de YouTube\n",
    "video_id = \"0v80ONiFHj0\"\n",
    "\n",
    "# Incrustar el video y centrarlo utilizando HTML y CSS\n",
    "video_embed = YouTubeVideo(video_id, width=800, height=450)\n",
    "\n",
    "# Crear un contenedor HTML para centrar el video\n",
    "centered_video = HTML(f\"\"\"\n",
    "<div style=\"display: flex; justify-content: center;\">\n",
    "    {video_embed._repr_html_()}\n",
    "</div>\n",
    "\"\"\")\n",
    "\n",
    "# Mostrar el video centrado\n",
    "display(centered_video)\n",
    "\n"
   ]
  },
  {
   "cell_type": "markdown",
   "id": "1374df7d-2ff2-44ff-92c2-82024f53e1e1",
   "metadata": {},
   "source": [
    "## Parte #2: Hidrostática\n",
    "\n",
    "La condición hidrostática se refiere al estado de equilibrio de una partícula de fluido. Esta partícula se entiende como una pequeña porción de fluido con masa finita y estructura interna, pero con dimensiones tan pequeñas que se considera que es continua. En este contexto, la condición hidrostática establece que cada partícula de fluido se encuentra en un balance de fuerzas, donde la fuerza neta generada por la presión equilibra el peso de la partícula de fluido.\n",
    "\n",
    "#### Derivación de la Ecuación Diferencial Hidrostática\n",
    "\n",
    "La ecuación diferencial hidrostática se deriva aplicando el principio de equilibrio de fuerzas a un cuerpo de fluido estático. Para comenzar la derivación, visualice una región de fluido estático por ejemplo, agua detrás de una presa, aísle un cuerpo cilíndrico y luego dibuje un diagrama de cuerpo libre (FBD) como se muestra en la siguiente Figura.\n",
    "\n",
    "<img src=\"img/hidrostatica.jpg\" width=\"500\" alt=\"Fluidos con diferentes viscosidades\">\n",
    "\n",
    "<p><strong>Descripción:</strong> Diagrama de cuerpo libre para un cilindro de tamaño diferencial.</p>\n",
    "El cuerpo cilíndrico está orientado de manera que su eje longitudinal es paralelo a una dirección arbitraria $l$. La longitud del cuerpo es $\\Delta l$, $\\Delta A$ es el área de la sección transversal, y el cuerpo tiene una inclinación con un ángulo $\\alpha$ respecto a la horizontal. El análisis se realiza en la dirección $l$, sumando las fuerzas que actúan sobre el cuerpo.\n",
    "\n",
    "#### Ecuación de Fuerzas\n",
    "\n",
    "Realizando la suma de fuerzas en la dirección $l$ obtenemos:\n",
    "\n",
    "$$\n",
    "\\sum F_l = 0\n",
    "$$\n",
    "\n",
    "$$\n",
    "F_{presión} - F_{peso} = 0\n",
    "$$\n",
    "\n",
    "$$\n",
    "p\\Delta A - (p + \\Delta p)\\Delta A - \\gamma \\Delta A \\Delta l \\sin \\alpha = 0\n",
    "$$\n",
    "\n",
    "#### Simplificación\n",
    "\n",
    "Simplificando y dividiendo por el volumen del cuerpo ($\\Delta l \\Delta A$):\n",
    "\n",
    "$$\n",
    "\\frac{\\Delta p}{\\Delta l} = - \\gamma \\sin \\alpha\n",
    "$$\n",
    "\n",
    "Donde el ángulo $\\alpha$ puede ser estimado como:\n",
    "\n",
    "$$\n",
    "\\sin \\alpha = \\frac{\\Delta z}{\\Delta l}\n",
    "$$\n",
    "\n",
    "Sustituyendo esta expresión en la ecuación anterior y tomando el límite cuando $\\Delta z \\to 0$, obtenemos la ecuación diferencial de la hidrostática:\n",
    "\n",
    "$$\n",
    "\\lim_{\\Delta z \\to 0} \\frac{\\Delta p}{\\Delta z} = -\\gamma\n",
    "$$\n",
    "\n",
    "Por lo tanto, la ecuación diferencial hidrostática es:\n",
    "\n",
    "$$\n",
    "\\frac{dp}{dz} = -\\gamma\n",
    "$$\n",
    "\n",
    "#### Integración de la Ecuación\n",
    "\n",
    "Esta ecuación se integra bajo la suposición de que el peso específico $\\gamma$ es constante. Al integrar se obtiene la siguiente expresión:\n",
    "\n",
    "$$\n",
    "p + \\gamma z = p_z = \\text{constante}\n",
    "$$\n",
    "\n",
    "Donde $p_z$ es la presión piezométrica y $z$ es la elevación sobre un punto de referencia fijo.\n",
    "\n",
    "Dividiendo por $\\gamma$:\n",
    "\n",
    "$$\n",
    "\\frac{p_z}{\\gamma} = \\left( \\frac{p_z}{\\gamma} + z \\right) = h = \\text{constante}\n",
    "$$\n",
    "\n",
    "Donde $h$ es la cabeza piezométrica. Entre dos puntos en un fluido estático, tenemos la siguiente relación:\n",
    "\n",
    "$$\n",
    "\\frac{p_1}{\\gamma} + z_1 = \\frac{p_2}{\\gamma} + z_2\n",
    "$$\n",
    "\n",
    "Reagrupando términos:\n",
    "\n",
    "$$\n",
    "\\Delta p = -\\gamma \\Delta z\n",
    "$$\n",
    "\n",
    "Donde $\\Delta p = p_2 - p_1$ y $\\Delta z = z_2 - z_1$.\n",
    "\n",
    "\n",
    "### Vasos comunicantes\n",
    "\n",
    "Asociado a la condición hidrostática, están los vasos comunicantes, los cuales son sistemas de canales o tubos conectados entre sí que permiten la igualación de la presión en todos los puntos. Según el principio de los vasos comunicantes, si un líquido se encuentra en equilibrio dentro de un conjunto de vasos conectados, el nivel del líquido será el mismo en todos los vasos, independientemente de la forma o la cantidad de líquido en cada uno de ellos. Esto se debe a que la presión en un fluido en reposo es la misma en todos los puntos horizontales conectados, y la gravedad actúa de forma uniforme sobre el líquido.\n",
    "\n",
    "<figure style=\"text-align: center;\">\n",
    "    <img src=\"img/vasos.gif\" width=\"250\" alt=\"Vasos comunicantes\">\n",
    "    <figcaption>\n",
    "        <p><strong>Descripción:</strong> Vasos comunicantes</p>\n",
    "        <p><strong>Fuente:</strong> https://es.wikipedia.org/wiki/Vasos_comunicantes</p>\n",
    "    </figcaption>\n",
    "</figure>\n",
    "\n",
    "### Dispositivos para Medir la Presión\n",
    "\n",
    "Existen diferentes dispositivos para medir la presión, cada uno adecuado para aplicaciones específicas. A continuación se presentan algunos de los más comunes:\n",
    "\n",
    "#### 1. **Barómetro**\n",
    "El **barómetro** es un dispositivo utilizado para medir la presión atmosférica. El barómetro más común es el **barómetro de mercurio**, el cual consiste en un tubo cerrado en uno de sus extremos que está lleno de mercurio. Este tubo está invertido en un recipiente con mercurio. La altura del mercurio en el tubo varía en función de la presión atmosférica. A medida que la presión aumenta, la altura del mercurio sube, y cuando la presión disminuye, la altura baja.\n",
    "\n",
    "#### 2. **Manómetro**\n",
    "El **manómetro** se utiliza para medir la presión dentro de un sistema cerrado, comparándola con la presión atmosférica o con un vacío. Hay diferentes tipos de manómetros, como el manómetro de tubo en U, manómetros de columna de líquido y manómetros digitales. Estos dispositivos pueden medir tanto presiones positivas como negativas.\n",
    "\n",
    "#### **Manómetro Tipo U **\n",
    "Uno de los tipos más comunes de manómetro es el **manómetro tipo U**, el cual consta de un tubo en forma de U parcialmente lleno de un líquido, generalmente mercurio o agua. Los dos brazos del tubo están abiertos al sistema cuya presión se desea medir y a la atmósfera o un vacío, dependiendo del caso. \n",
    "\n",
    "<figure style=\"text-align: center;\">\n",
    "    <img src=\"img/manometro.jpg\" width=\"200\" alt=\"Manometro tipo U\">\n",
    "    <figcaption>\n",
    "        <p><strong>Descripción:</strong> Manometro tipo U</p>\n",
    "        <p><strong>Fuente:</strong> https://es.wikipedia.org/wiki/Vasos_comunicantes</p>\n",
    "    </figcaption>\n",
    "</figure>\n",
    "\n",
    "\n",
    "Cuando se aplica presión al sistema en uno de los brazos del manómetro, el nivel del líquido en el tubo se desplaza, creando una diferencia de altura entre los dos brazos. Esta diferencia se debe a la diferencia de presiones entre el sistema y la atmósfera, y se puede usar para calcular la presión del sistema. La ecuación básica que describe el manómetro tipo U es:\n",
    "\n",
    "$$\n",
    "\\Delta p = \\rho g h\n",
    "$$\n",
    "\n",
    "Donde:\n",
    "- $\\Delta p$ es la diferencia de presión.\n",
    "- $\\rho$ es la densidad del líquido en el manómetro.\n",
    "- $g$ es la aceleración debida a la gravedad.\n",
    "- $h$ es la diferencia de altura entre los dos brazos del manómetro.\n",
    "\n",
    "El manómetro tipo U es especialmente útil para medir presiones bajas o para aplicaciones donde la precisión es fundamental. la diferencia de presión en un manómetro se puede generalizar de la siguiente forma:\n",
    "\n",
    "$$\n",
    "P_2 = P_1 + \\sum_{\\text{down}} \\gamma_i h_i - \\sum_{\\text{up}} \\gamma_i h_i\n",
    "$$\n",
    "\n",
    "Donde:\n",
    "- $P_1$ es la presión en el primer punto.\n",
    "- $P_2$ es la presión en el segundo punto.\n",
    "- $\\gamma_i$ es el peso específico del fluido en cada sección del manómetro.\n",
    "- $h_i$ es la diferencia de altura asociada a cada deflexión en el manómetro.\n",
    "\n",
    "#### Explicación:\n",
    "\n",
    "- El término $\\sum_{\\text{down}} \\gamma_i h_i$ representa la suma de las contribuciones de la presión debido a las columnas de fluido que se encuentran por debajo (en la dirección de la presión aplicada).\n",
    "- El término $\\sum_{\\text{up}} \\gamma_i h_i$ representa la suma de las contribuciones de la presión debido a las columnas de fluido que se encuentran por encima (en la dirección opuesta a la presión aplicada).\n",
    "- La ecuación generaliza la relación entre las presiones $P_1$ y $P_2$, considerando las diferencias de altura y el peso específico de los fluidos en cada sección del manómetro.\n",
    "\n",
    "Este tipo de fórmula es útil para manómetros de varios líquidos o con varios tramos de líquido con distintas densidades, permitiendo calcular la diferencia de presión en función de las alturas y densidades en cada sección.\n",
    "\n",
    "#### 3. **Piezómetro**\n",
    "El **piezómetro** es un dispositivo simple utilizado para medir la presión estática en un fluido, generalmente en sistemas abiertos, como tanques o cuerpos de agua. Consiste en un tubo vertical que se conecta al fluido. La altura del fluido dentro del tubo se usa para determinar la presión en ese punto. Es comúnmente usado en aplicaciones hidrográficas o en el análisis de presiones en presas y embalses.\n",
    "\n",
    "#### 4. **Tubo de Bourdon**\n",
    "El **tubo de Bourdon** es un dispositivo utilizado para medir presiones más altas. Este dispositivo consiste en un tubo curvado de forma ovalada que se deforma cuando se aplica presión interna. Esta deformación se traduce en un movimiento que es amplificado por un mecanismo mecánico, como un puntero, que muestra la presión en una escala. Es ampliamente utilizado en manómetros industriales debido a su robustez y capacidad para medir presiones altas de manera precisa.\n",
    "\n",
    "#### Video Complementario, Universidad Politécnica de Valencia:"
   ]
  },
  {
   "cell_type": "code",
   "execution_count": 10,
   "id": "19f77eb3",
   "metadata": {
    "scrolled": true
   },
   "outputs": [
    {
     "data": {
      "text/html": [
       "\n",
       "<div style=\"display: flex; justify-content: center;\">\n",
       "    \n",
       "        <iframe\n",
       "            width=\"800\"\n",
       "            height=\"450\"\n",
       "            src=\"https://www.youtube.com/embed/awwvDJ0J8Gw\"\n",
       "            frameborder=\"0\"\n",
       "            allowfullscreen\n",
       "            \n",
       "        ></iframe>\n",
       "        \n",
       "</div>\n"
      ],
      "text/plain": [
       "<IPython.core.display.HTML object>"
      ]
     },
     "metadata": {},
     "output_type": "display_data"
    }
   ],
   "source": [
    "from IPython.display import YouTubeVideo, display, HTML\n",
    "\n",
    "# ID del video de YouTube\n",
    "video_id = \"awwvDJ0J8Gw\"\n",
    "\n",
    "# Incrustar el video y centrarlo utilizando HTML y CSS\n",
    "video_embed = YouTubeVideo(video_id, width=800, height=450)\n",
    "\n",
    "# Crear un contenedor HTML para centrar el video\n",
    "centered_video = HTML(f\"\"\"\n",
    "<div style=\"display: flex; justify-content: center;\">\n",
    "    {video_embed._repr_html_()}\n",
    "</div>\n",
    "\"\"\")\n",
    "\n",
    "# Mostrar el video centrado\n",
    "display(centered_video)\n"
   ]
  },
  {
   "cell_type": "code",
   "execution_count": 8,
   "id": "6e05e4c0",
   "metadata": {},
   "outputs": [
    {
     "data": {
      "text/html": [
       "\n",
       "<div style=\"display: flex; justify-content: center;\">\n",
       "    \n",
       "        <iframe\n",
       "            width=\"800\"\n",
       "            height=\"450\"\n",
       "            src=\"https://www.youtube.com/embed/d24N-CgjP40\"\n",
       "            frameborder=\"0\"\n",
       "            allowfullscreen\n",
       "            \n",
       "        ></iframe>\n",
       "        \n",
       "</div>\n"
      ],
      "text/plain": [
       "<IPython.core.display.HTML object>"
      ]
     },
     "metadata": {},
     "output_type": "display_data"
    }
   ],
   "source": [
    "from IPython.display import YouTubeVideo, display, HTML\n",
    "\n",
    "# ID del video de YouTube\n",
    "video_id = \"d24N-CgjP40\"\n",
    "\n",
    "# Incrustar el video y centrarlo utilizando HTML y CSS\n",
    "video_embed = YouTubeVideo(video_id, width=800, height=450)\n",
    "\n",
    "# Crear un contenedor HTML para centrar el video\n",
    "centered_video = HTML(f\"\"\"\n",
    "<div style=\"display: flex; justify-content: center;\">\n",
    "    {video_embed._repr_html_()}\n",
    "</div>\n",
    "\"\"\")\n",
    "\n",
    "# Mostrar el video centrado\n",
    "display(centered_video)\n"
   ]
  },
  {
   "cell_type": "markdown",
   "id": "52455962",
   "metadata": {},
   "source": [
    "\n",
    "### Fuerzas sobre superficies sumergidas\n",
    "\n",
    "En las superficies sumergidas se busca obtener la fuerza resultante o empuje hidrostático ejercido por un fluido en una determinada superficie, así como el lugar donde la fuerza resultante actúa. Para ello se utilizan las siguientes ecuaciones:\n",
    "\n",
    "$$\n",
    "P_H = \\gamma A_m z_G\n",
    "$$\n",
    "\n",
    "donde $(P_H)$ es el empuje hidrostático, $(A_m)$ el área mojada sobre la superficie, y $(z_G)$ es el centro de gravedad del área. La localización del empuje hidrostático o centro de presiones se determina por medio de la expresión:\n",
    "\n",
    "$$\n",
    "y_k = \\frac{\\overline{\\gamma}_x^2}{y_G} + y_G\n",
    "$$\n",
    "\n",
    "donde $(y_G)$ es el centro de gravedad, y $(\\overline{\\gamma})$ es el radio de giro, el cual también puede expresarse como:\n",
    "\n",
    "$$\n",
    "\\overline{\\gamma} = \\frac{\\hat{I}_x}{A}\n",
    "$$\n",
    "\n",
    "Para una superficie curva sumergida, la determinación de la fuerza hidrostática resultante es más complicada, ya que generalmente se necesita integrar las fuerzas de presión, las cuales cambian de dirección a lo largo de la superficie curva. En este caso, el concepto de prisma de presiones tampoco es de mucha ayuda debido a las configuraciones complicadas con las que se trata.\n",
    "\n",
    "La manera más fácil de determinar la fuerza hidrostática resultante $(F_R)$ que actúa sobre una superficie curva bidimensional es determinar las componentes horizontal y vertical $(F_H)$ y $(F_V)$ por separado. Esto se realiza cuando se considera el diagrama de cuerpo libre del bloque de líquido encerrado por la superficie curva y las dos superficies planas (una horizontal y la otra vertical) que pasan por los dos extremos de la superficie curva, como se muestra en la siguiente figura:\n",
    "\n",
    "<figure style=\"text-align: center;\">\n",
    "    <img src=\"img/superficie_curva.jpg\" width=\"600\" alt=\"Fuerzas en superficies curvas\">\n",
    "    <figcaption>\n",
    "        <p><strong>Descripción:</strong> Diagrama de fuerzas sobre una superficie curva.</p>\n",
    "        <p><strong>Fuente:</strong> <a href=\"https://en.wikipedia.org/wiki/Fluid_statics\">Wikipedia</a></p>\n",
    "    </figcaption>\n",
    "</figure>\n",
    "\n",
    "Nótese que la superficie vertical del bloque considerado de líquido es sencillamente la proyección de la superficie curva sobre un plano vertical, y la horizontal es la proyección de la superficie curva misma sobre un plano horizontal. La fuerza resultante que actúa sobre la superficie sólida curva es igual y opuesta a la que actúa sobre la superficie líquida curva (tercera ley de Newton).\n",
    "\n",
    "Se pueden determinar la fuerza que actúa sobre la superficie plana imaginaria, horizontal o vertical, y su línea de acción. El peso del bloque encerrado de líquido de volumen \\(\\mathcal{V}\\) es sencillamente:\n",
    "\n",
    "$$\n",
    "W = \\rho g \\, \\mathcal{V}\n",
    "$$\n",
    "\n",
    "y actúa hacia abajo pasando por el centroide de este volumen. Cuando se observa que el bloque de fluido está en equilibrio estático, los balances de las fuerzas en las direcciones horizontal y vertical se pueden expresar como:\n",
    "\n",
    "#### Componente horizontal de la fuerza:\n",
    "\n",
    "$$\n",
    "F_H = F_x\n",
    "$$\n",
    "\n",
    "(Para la componente horizontal de la fuerza sobre la superficie curva)\n",
    "\n",
    "#### Componente vertical de la fuerza:\n",
    "\n",
    "$$\n",
    "F_V = F_y + W\n",
    "$$\n",
    "\n",
    "Para la componente vertical de la fuerza sobre la superficie curva, donde la suma $F_y + W$ es una adición vectorial: se suman las magnitudes si las dos fuerzas actúan en la misma dirección y se restan si actúan en direcciones opuestas. Por lo tanto, se infiere que:\n",
    "\n",
    "1. La **componente horizontal** de la fuerza hidrostática que actúa sobre una superficie curva es igual, en magnitud y respecto a la línea de acción, a la fuerza hidrostática que actúa sobre la proyección vertical de esa superficie curva.\n",
    "2. La **componente vertical** de la fuerza hidrostática que actúa sobre una superficie curva es igual a la fuerza hidrostática que actúa sobre la proyección horizontal de esa superficie curva, más, menos, si actúa en la dirección opuesta, el **peso del bloque de fluido**.\n",
    "\n",
    "<figure style=\"text-align: center;\">\n",
    "    <img src=\"img/fuerza_superficie_curva.jpg\" width=\"150\" alt=\"Fuerzas en superficie curva\">\n",
    "    <figcaption>\n",
    "        <p><strong>Descripción:</strong> Fuerza horizontal y vertical de superficies curvas.</p>\n",
    "    </figcaption>\n",
    "</figure>\n",
    "\n",
    "La magnitud de la fuerza hidrostática resultante que actúa sobre la superficie curva es:\n",
    "\n",
    "$$\n",
    "F_R = \\sqrt{F_H^2 + F_V^2}\n",
    "$$\n",
    "\n",
    "y la tangente del ángulo.\n",
    "\n",
    "#### Video Complementario por la Universidad Politécnica de Valencia:"
   ]
  },
  {
   "cell_type": "code",
   "execution_count": 11,
   "id": "2d0e4830",
   "metadata": {},
   "outputs": [
    {
     "data": {
      "text/html": [
       "\n",
       "<div style=\"display: flex; justify-content: center;\">\n",
       "    \n",
       "        <iframe\n",
       "            width=\"800\"\n",
       "            height=\"450\"\n",
       "            src=\"https://www.youtube.com/embed/mBCR5nYIVgQ\"\n",
       "            frameborder=\"0\"\n",
       "            allowfullscreen\n",
       "            \n",
       "        ></iframe>\n",
       "        \n",
       "</div>\n"
      ],
      "text/plain": [
       "<IPython.core.display.HTML object>"
      ]
     },
     "metadata": {},
     "output_type": "display_data"
    }
   ],
   "source": [
    "\n",
    "from IPython.display import YouTubeVideo, display, HTML\n",
    "\n",
    "# ID del video de YouTube\n",
    "video_id = \"mBCR5nYIVgQ\"\n",
    "\n",
    "# Incrustar el video y centrarlo utilizando HTML y CSS\n",
    "video_embed = YouTubeVideo(video_id, width=800, height=450)\n",
    "\n",
    "# Crear un contenedor HTML para centrar el video\n",
    "centered_video = HTML(f\"\"\"\n",
    "<div style=\"display: flex; justify-content: center;\">\n",
    "    {video_embed._repr_html_()}\n",
    "</div>\n",
    "\"\"\")\n",
    "\n",
    "# Mostrar el video centrado\n",
    "display(centered_video)"
   ]
  },
  {
   "cell_type": "markdown",
   "id": "073d4533",
   "metadata": {},
   "source": [
    "### Principio de Arquímedes: flotación y equilibrio\n",
    "\n",
    "El principio de Arquímedes establece que: *\"todo cuerpo sumergido en un líquido experimenta un empuje vertical ascendente igual al peso del volumen de líquido desalojado\"*.\n",
    "\n",
    "<a href=\"http://hidraulica.umich.mx/bperez/iniciohidrostatica.html\" target=\"_blank\" style=\"text-decoration: none;\">\n",
    "    <button style=\"background-color: #4CAF50; color: white; padding: 10px; border: none; border-radius: 5px; cursor: pointer;\">\n",
    "        Ir a la Historia\n",
    "    </button>\n",
    "</a>\n",
    "\n",
    "Cuando un cuerpo sólido flota en un líquido, alcanza un estado de equilibrio porque el líquido genera una fuerza ascendente que equilibra el peso del cuerpo (ver siguiente Figura). En este escenario, las fuerzas horizontales de la presión hidrostática se compensan entre sí, de modo que no hay ninguna componente horizontal resultante.\n",
    "\n",
    "\n",
    "\n",
    "<figure style=\"text-align: center;\">\n",
    "    <img src=\"img/vasos.png\" width=\"250\" alt=\"Fuerzas en superficie curva\">\n",
    "    <figcaption>\n",
    "        <p><strong>Descripción:</strong> Cuerpos sumergidos. Reacion de empuje hidrostático y fuerza debido al peso.</p>\n",
    "    </figcaption>\n",
    "</figure>\n",
    "\n",
    "\n",
    "La fuerza de empuje o flotación actúa en dirección vertical hacia arriba a través del centroide del volumen desplazado se define en forma matemática, por medio del principio de Arquímedes, como sigue:\n",
    "\n",
    "$F_b = \\gamma_f V_d$\n",
    "\n",
    "donde $F_b$ es la fuerza de flotación, $\\gamma_f$ es el peso específico del fluido y $V_d$ el volumen desplazado.\n",
    "\n",
    "#### Ejemplo: Cubo de bronce sumergido en agua\n",
    "\n",
    "**Problema:**  \n",
    "Un cubo con aristas que mide 0.5 m está hecho de bronce y tiene un peso específico de $86.9 \\, \\text{kN/m}^3$.  \n",
    "Determine la magnitud y dirección de la fuerza que se requiere para mantener el cubo en equilibrio completamente sumergido en agua.  \n",
    "\n",
    "---\n",
    "\n",
    "**Diagrama de cuerpo libre:**  \n",
    "\n",
    "<figure style=\"text-align: center;\">\n",
    "    <img src=\"img/DCL.png\" width=\"90\" alt=\"Fuerzas en superficie curva\">\n",
    "    <figcaption>\n",
    "        <p><strong>Descripción:</strong> Diagrama de cuerpo libre, cubo de ejemplo.</p>\n",
    "    </figcaption>\n",
    "</figure>\n",
    "\n",
    "---\n",
    "\n",
    "**Resolución:**  \n",
    "En el diagrama de cuerpo libre del cubo hay tres fuerzas involucradas:  \n",
    "\n",
    "$$\n",
    "\\sum F = 0\n",
    "$$  \n",
    "$$\n",
    "F_b + F_e - w = 0\n",
    "$$\n",
    "\n",
    "En realidad, si la fuerza $F_b$ no se sabe si existe, la experiencia indica que sin una fuerza externa el cubo de bronce tendería a hundirse. Por lo tanto, se requiere de una fuerza externa para mantener el cubo en equilibrio.  \n",
    "\n",
    "---\n",
    "\n",
    "Para encontrar la fuerza externa:  \n",
    "$$\n",
    "F_e = w - F_b\n",
    "$$\n",
    "\n",
    "---\n",
    "\n",
    "**Cálculo del peso del cubo $w$:**  \n",
    "$$\n",
    "w = \\gamma_b V\n",
    "$$  \n",
    "\n",
    "Donde $\\gamma_b$ es el peso específico del cubo de bronce y $V$ su volumen total. Entonces, el peso se calcula como:  \n",
    "$$\n",
    "w = \\gamma_b V = (86.9 \\, \\text{kN/m}^3)(0.50 \\, \\text{m})^3 = 10.86 \\, \\text{kN}\n",
    "$$\n",
    "\n",
    "---\n",
    "\n",
    "**Cálculo de la fuerza de flotación $F_b$:**  \n",
    "$$\n",
    "F_b = \\gamma_f V_d\n",
    "$$  \n",
    "$$\n",
    "F_b = (9.81 \\, \\text{kN/m}^3)(0.125 \\, \\text{m}^3) = 1.23 \\, \\text{kN}\n",
    "$$\n",
    "\n",
    "---\n",
    " **Fuerza externa necesaria (F_e):**  \n",
    "Finalmente, la solución al problema se obtiene como:  \n",
    "$$\n",
    "\\boxed{F_e = w - F_b = 10.86 \\, \\text{kN} - 1.23 \\, \\text{kN} = 9.63 \\, \\text{kN}}\n",
    "$$\n",
    "\n",
    "---\n",
    "\n",
    "**Conclusión:**  \n",
    "El resultado es positivo, lo que significa que la dirección supuesta de $F_e$ es correcta.\n"
   ]
  },
  {
   "cell_type": "markdown",
   "id": "ab8cc032",
   "metadata": {},
   "source": [
    "\n",
    "# Referencias\n",
    "\n",
    "1. **Sotelo Ávila, Gilberto**  \n",
    "   *Hidráulica General*.  \n",
    "   México: Limusa, 1997.\n",
    "\n",
    "2. **Elger, Donald F., LeBret, Barbara A., Williams, Barbara C., Crowe, Clayton T., & Roberson, John A.**  \n",
    "   *Engineering Fluid Mechanics, International Adaptation*.  \n",
    "   John Wiley & Sons, 2022.\n",
    "\n",
    "3. **Hibbeler, Russell Charles**  \n",
    "   *Engineering Mechanics: Dynamics*.  \n",
    "   Pearson Educación, 2004.\n",
    "\n",
    "---\n",
    "\n",
    "##### Videos de la Universitat Politècnica de València (UPV)\n",
    "\n",
    "Se utilizan algunos videos del **Canal oficial de la UPV**, donde se publican vídeos institucionals, informatius i docents produïts per la Universitat Politècnica de València.\n",
    "\n",
    "La UPV és una institució pública de prestigi, líder en investigació en nombroses àrees.\n"
   ]
  }
 ],
 "metadata": {
  "kernelspec": {
   "display_name": "Python 3 (ipykernel)",
   "language": "python",
   "name": "python3"
  },
  "language_info": {
   "codemirror_mode": {
    "name": "ipython",
    "version": 3
   },
   "file_extension": ".py",
   "mimetype": "text/x-python",
   "name": "python",
   "nbconvert_exporter": "python",
   "pygments_lexer": "ipython3",
   "version": "3.9.7"
  }
 },
 "nbformat": 4,
 "nbformat_minor": 5
}
